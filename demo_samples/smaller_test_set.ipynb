{
 "cells": [
  {
   "cell_type": "code",
   "execution_count": 23,
   "metadata": {},
   "outputs": [
    {
     "data": {
      "text/html": [
       "<div>\n",
       "<style scoped>\n",
       "    .dataframe tbody tr th:only-of-type {\n",
       "        vertical-align: middle;\n",
       "    }\n",
       "\n",
       "    .dataframe tbody tr th {\n",
       "        vertical-align: top;\n",
       "    }\n",
       "\n",
       "    .dataframe thead th {\n",
       "        text-align: right;\n",
       "    }\n",
       "</style>\n",
       "<table border=\"1\" class=\"dataframe\">\n",
       "  <thead>\n",
       "    <tr style=\"text-align: right;\">\n",
       "      <th></th>\n",
       "      <th>breath_id</th>\n",
       "      <th>R</th>\n",
       "      <th>C</th>\n",
       "      <th>time_step</th>\n",
       "      <th>u_in</th>\n",
       "      <th>u_out</th>\n",
       "      <th>pressure</th>\n",
       "    </tr>\n",
       "  </thead>\n",
       "  <tbody>\n",
       "    <tr>\n",
       "      <th>0</th>\n",
       "      <td>100616</td>\n",
       "      <td>0.666667</td>\n",
       "      <td>-0.25</td>\n",
       "      <td>0.000000</td>\n",
       "      <td>-0.493266</td>\n",
       "      <td>-1.0</td>\n",
       "      <td>2.955104</td>\n",
       "    </tr>\n",
       "    <tr>\n",
       "      <th>1</th>\n",
       "      <td>100616</td>\n",
       "      <td>0.666667</td>\n",
       "      <td>-0.25</td>\n",
       "      <td>0.033487</td>\n",
       "      <td>-0.293046</td>\n",
       "      <td>-1.0</td>\n",
       "      <td>3.236312</td>\n",
       "    </tr>\n",
       "    <tr>\n",
       "      <th>2</th>\n",
       "      <td>100616</td>\n",
       "      <td>0.666667</td>\n",
       "      <td>-0.25</td>\n",
       "      <td>0.066916</td>\n",
       "      <td>-0.113374</td>\n",
       "      <td>-1.0</td>\n",
       "      <td>3.798729</td>\n",
       "    </tr>\n",
       "    <tr>\n",
       "      <th>3</th>\n",
       "      <td>100616</td>\n",
       "      <td>0.666667</td>\n",
       "      <td>-0.25</td>\n",
       "      <td>0.101291</td>\n",
       "      <td>0.046688</td>\n",
       "      <td>-1.0</td>\n",
       "      <td>4.712657</td>\n",
       "    </tr>\n",
       "    <tr>\n",
       "      <th>4</th>\n",
       "      <td>100616</td>\n",
       "      <td>0.666667</td>\n",
       "      <td>-0.25</td>\n",
       "      <td>0.134807</td>\n",
       "      <td>0.178513</td>\n",
       "      <td>-1.0</td>\n",
       "      <td>5.767190</td>\n",
       "    </tr>\n",
       "  </tbody>\n",
       "</table>\n",
       "</div>"
      ],
      "text/plain": [
       "   breath_id         R     C  time_step      u_in  u_out  pressure\n",
       "0     100616  0.666667 -0.25   0.000000 -0.493266   -1.0  2.955104\n",
       "1     100616  0.666667 -0.25   0.033487 -0.293046   -1.0  3.236312\n",
       "2     100616  0.666667 -0.25   0.066916 -0.113374   -1.0  3.798729\n",
       "3     100616  0.666667 -0.25   0.101291  0.046688   -1.0  4.712657\n",
       "4     100616  0.666667 -0.25   0.134807  0.178513   -1.0  5.767190"
      ]
     },
     "execution_count": 23,
     "metadata": {},
     "output_type": "execute_result"
    }
   ],
   "source": [
    "#Calling Libraries\n",
    "import numpy as np\n",
    "import pandas as pd\n",
    "import datetime as dt\n",
    "import matplotlib.pyplot as plt\n",
    "\n",
    "#read csv from local\n",
    "csv_path = \"/Users/dilarahaciali/Downloads/testmod.csv\"\n",
    "df = pd.read_csv(csv_path)\n",
    "df.head()"
   ]
  },
  {
   "cell_type": "code",
   "execution_count": 25,
   "metadata": {},
   "outputs": [
    {
     "data": {
      "text/plain": [
       "5"
      ]
     },
     "execution_count": 25,
     "metadata": {},
     "output_type": "execute_result"
    }
   ],
   "source": [
    "#drop breathe_id\n",
    "df = df.drop(columns=[\"breath_id\",\"time_step\"])\n",
    "\n",
    "n_steps = 80\n",
    "n_columns = len(df.columns)\n",
    "n_columns"
   ]
  },
  {
   "cell_type": "code",
   "execution_count": 38,
   "metadata": {},
   "outputs": [],
   "source": [
    "#minimizing dataset to demo version only 200 samples with reshaping first\n",
    "n_samples = len(df) // n_steps  # Calculate the number of breaths\n",
    "divided_df = df.values[:n_samples * n_steps].reshape(-1, n_steps, n_columns)[14890:15090]"
   ]
  },
  {
   "cell_type": "code",
   "execution_count": 39,
   "metadata": {},
   "outputs": [
    {
     "data": {
      "text/plain": [
       "200"
      ]
     },
     "execution_count": 39,
     "metadata": {},
     "output_type": "execute_result"
    }
   ],
   "source": [
    "len(divided_df)"
   ]
  },
  {
   "cell_type": "code",
   "execution_count": 42,
   "metadata": {},
   "outputs": [],
   "source": [
    "reshaped_df = pd.DataFrame(divided_df.reshape(len(divided_df)*n_steps,n_columns),columns=df.columns)"
   ]
  },
  {
   "cell_type": "code",
   "execution_count": 43,
   "metadata": {},
   "outputs": [
    {
     "data": {
      "text/plain": [
       "(16000, 5)"
      ]
     },
     "execution_count": 43,
     "metadata": {},
     "output_type": "execute_result"
    }
   ],
   "source": [
    "reshaped_df.shape"
   ]
  },
  {
   "cell_type": "code",
   "execution_count": 44,
   "metadata": {},
   "outputs": [
    {
     "data": {
      "text/html": [
       "<div>\n",
       "<style scoped>\n",
       "    .dataframe tbody tr th:only-of-type {\n",
       "        vertical-align: middle;\n",
       "    }\n",
       "\n",
       "    .dataframe tbody tr th {\n",
       "        vertical-align: top;\n",
       "    }\n",
       "\n",
       "    .dataframe thead th {\n",
       "        text-align: right;\n",
       "    }\n",
       "</style>\n",
       "<table border=\"1\" class=\"dataframe\">\n",
       "  <thead>\n",
       "    <tr style=\"text-align: right;\">\n",
       "      <th></th>\n",
       "      <th>R</th>\n",
       "      <th>C</th>\n",
       "      <th>u_in</th>\n",
       "      <th>u_out</th>\n",
       "      <th>pressure</th>\n",
       "    </tr>\n",
       "  </thead>\n",
       "  <tbody>\n",
       "    <tr>\n",
       "      <th>0</th>\n",
       "      <td>0.0</td>\n",
       "      <td>0.75</td>\n",
       "      <td>-0.955539</td>\n",
       "      <td>-1.0</td>\n",
       "      <td>6.329607</td>\n",
       "    </tr>\n",
       "    <tr>\n",
       "      <th>1</th>\n",
       "      <td>0.0</td>\n",
       "      <td>0.75</td>\n",
       "      <td>-0.854404</td>\n",
       "      <td>-1.0</td>\n",
       "      <td>6.329607</td>\n",
       "    </tr>\n",
       "    <tr>\n",
       "      <th>2</th>\n",
       "      <td>0.0</td>\n",
       "      <td>0.75</td>\n",
       "      <td>-0.810828</td>\n",
       "      <td>-1.0</td>\n",
       "      <td>6.470211</td>\n",
       "    </tr>\n",
       "    <tr>\n",
       "      <th>3</th>\n",
       "      <td>0.0</td>\n",
       "      <td>0.75</td>\n",
       "      <td>-0.739457</td>\n",
       "      <td>-1.0</td>\n",
       "      <td>6.189002</td>\n",
       "    </tr>\n",
       "    <tr>\n",
       "      <th>4</th>\n",
       "      <td>0.0</td>\n",
       "      <td>0.75</td>\n",
       "      <td>-0.695066</td>\n",
       "      <td>-1.0</td>\n",
       "      <td>6.259305</td>\n",
       "    </tr>\n",
       "  </tbody>\n",
       "</table>\n",
       "</div>"
      ],
      "text/plain": [
       "     R     C      u_in  u_out  pressure\n",
       "0  0.0  0.75 -0.955539   -1.0  6.329607\n",
       "1  0.0  0.75 -0.854404   -1.0  6.329607\n",
       "2  0.0  0.75 -0.810828   -1.0  6.470211\n",
       "3  0.0  0.75 -0.739457   -1.0  6.189002\n",
       "4  0.0  0.75 -0.695066   -1.0  6.259305"
      ]
     },
     "execution_count": 44,
     "metadata": {},
     "output_type": "execute_result"
    }
   ],
   "source": [
    "reshaped_df.head()"
   ]
  },
  {
   "cell_type": "code",
   "execution_count": 45,
   "metadata": {},
   "outputs": [],
   "source": [
    "reshaped_df.to_csv(\"demo_test.csv\", index=False)"
   ]
  },
  {
   "cell_type": "markdown",
   "metadata": {},
   "source": []
  },
  {
   "cell_type": "markdown",
   "metadata": {},
   "source": []
  }
 ],
 "metadata": {
  "kernelspec": {
   "display_name": "Mechanical-Ventilation-Prediction",
   "language": "python",
   "name": "python3"
  },
  "language_info": {
   "codemirror_mode": {
    "name": "ipython",
    "version": 3
   },
   "file_extension": ".py",
   "mimetype": "text/x-python",
   "name": "python",
   "nbconvert_exporter": "python",
   "pygments_lexer": "ipython3",
   "version": "3.10.6"
  },
  "orig_nbformat": 4
 },
 "nbformat": 4,
 "nbformat_minor": 2
}
