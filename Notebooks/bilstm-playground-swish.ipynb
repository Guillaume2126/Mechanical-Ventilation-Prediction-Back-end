{
 "cells": [
  {
   "cell_type": "code",
   "execution_count": 1,
   "id": "25712074",
   "metadata": {
    "_cell_guid": "b1076dfc-b9ad-4769-8c92-a6c4dae69d19",
    "_uuid": "8f2839f25d086af736a60e9eeb907d3b93b6e0e5",
    "execution": {
     "iopub.execute_input": "2023-09-05T11:30:12.767605Z",
     "iopub.status.busy": "2023-09-05T11:30:12.766796Z",
     "iopub.status.idle": "2023-09-05T11:30:22.424146Z",
     "shell.execute_reply": "2023-09-05T11:30:22.423050Z"
    },
    "papermill": {
     "duration": 9.668018,
     "end_time": "2023-09-05T11:30:22.426662",
     "exception": false,
     "start_time": "2023-09-05T11:30:12.758644",
     "status": "completed"
    },
    "tags": []
   },
   "outputs": [
    {
     "name": "stderr",
     "output_type": "stream",
     "text": [
      "/opt/conda/lib/python3.10/site-packages/scipy/__init__.py:146: UserWarning: A NumPy version >=1.16.5 and <1.23.0 is required for this version of SciPy (detected version 1.23.5\n",
      "  warnings.warn(f\"A NumPy version >={np_minversion} and <{np_maxversion}\"\n"
     ]
    }
   ],
   "source": [
    "import os\n",
    "os.environ['TF_CPP_MIN_LOG_LEVEL'] = '3'\n",
    "\n",
    "import seaborn as sns\n",
    "import matplotlib.pyplot as plt\n",
    "%matplotlib inline\n",
    "sns.set_style(\"darkgrid\")\n",
    "\n",
    "import numpy as np\n",
    "import pandas as pd\n",
    "import tensorflow as tf\n",
    "from tensorflow.keras import layers\n",
    "from sklearn.preprocessing import RobustScaler"
   ]
  },
  {
   "cell_type": "code",
   "execution_count": 2,
   "id": "4c9f3cf5",
   "metadata": {
    "execution": {
     "iopub.execute_input": "2023-09-05T11:30:22.441871Z",
     "iopub.status.busy": "2023-09-05T11:30:22.439962Z",
     "iopub.status.idle": "2023-09-05T11:30:37.595185Z",
     "shell.execute_reply": "2023-09-05T11:30:37.594114Z"
    },
    "papermill": {
     "duration": 15.164748,
     "end_time": "2023-09-05T11:30:37.597779",
     "exception": false,
     "start_time": "2023-09-05T11:30:22.433031",
     "status": "completed"
    },
    "tags": []
   },
   "outputs": [],
   "source": [
    "train = pd.read_csv(\"/kaggle/input/ventilator-pressure-prediction/train.csv\", index_col=[0])\n",
    "test = pd.read_csv(\"/kaggle/input/ventilator-pressure-prediction/test.csv\", index_col=[0])"
   ]
  },
  {
   "cell_type": "code",
   "execution_count": 3,
   "id": "da10413b",
   "metadata": {
    "execution": {
     "iopub.execute_input": "2023-09-05T11:30:37.611655Z",
     "iopub.status.busy": "2023-09-05T11:30:37.611349Z",
     "iopub.status.idle": "2023-09-05T11:30:37.619549Z",
     "shell.execute_reply": "2023-09-05T11:30:37.617571Z"
    },
    "papermill": {
     "duration": 0.017631,
     "end_time": "2023-09-05T11:30:37.621995",
     "exception": false,
     "start_time": "2023-09-05T11:30:37.604364",
     "status": "completed"
    },
    "tags": []
   },
   "outputs": [
    {
     "data": {
      "text/plain": [
       "(6036000, 7)"
      ]
     },
     "execution_count": 3,
     "metadata": {},
     "output_type": "execute_result"
    }
   ],
   "source": [
    "train.shape"
   ]
  },
  {
   "cell_type": "code",
   "execution_count": 4,
   "id": "4a127bcf",
   "metadata": {
    "execution": {
     "iopub.execute_input": "2023-09-05T11:30:37.636464Z",
     "iopub.status.busy": "2023-09-05T11:30:37.635552Z",
     "iopub.status.idle": "2023-09-05T11:30:37.642259Z",
     "shell.execute_reply": "2023-09-05T11:30:37.640809Z"
    },
    "papermill": {
     "duration": 0.016018,
     "end_time": "2023-09-05T11:30:37.644152",
     "exception": false,
     "start_time": "2023-09-05T11:30:37.628134",
     "status": "completed"
    },
    "tags": []
   },
   "outputs": [
    {
     "name": "stdout",
     "output_type": "stream",
     "text": [
      "Index(['breath_id', 'R', 'C', 'time_step', 'u_in', 'u_out', 'pressure'], dtype='object')\n"
     ]
    }
   ],
   "source": [
    "print(train.columns)"
   ]
  },
  {
   "cell_type": "code",
   "execution_count": 5,
   "id": "da6e739a",
   "metadata": {
    "execution": {
     "iopub.execute_input": "2023-09-05T11:30:37.657792Z",
     "iopub.status.busy": "2023-09-05T11:30:37.657518Z",
     "iopub.status.idle": "2023-09-05T11:30:37.661961Z",
     "shell.execute_reply": "2023-09-05T11:30:37.660926Z"
    },
    "papermill": {
     "duration": 0.013805,
     "end_time": "2023-09-05T11:30:37.664270",
     "exception": false,
     "start_time": "2023-09-05T11:30:37.650465",
     "status": "completed"
    },
    "tags": []
   },
   "outputs": [],
   "source": [
    "feature_cols = [\"R\",\"C\", \"u_in\", \"u_out\"]"
   ]
  },
  {
   "cell_type": "code",
   "execution_count": 6,
   "id": "8e677ed9",
   "metadata": {
    "execution": {
     "iopub.execute_input": "2023-09-05T11:30:37.677599Z",
     "iopub.status.busy": "2023-09-05T11:30:37.677325Z",
     "iopub.status.idle": "2023-09-05T11:30:38.716962Z",
     "shell.execute_reply": "2023-09-05T11:30:38.715905Z"
    },
    "papermill": {
     "duration": 1.049215,
     "end_time": "2023-09-05T11:30:38.719569",
     "exception": false,
     "start_time": "2023-09-05T11:30:37.670354",
     "status": "completed"
    },
    "tags": []
   },
   "outputs": [],
   "source": [
    "RS = RobustScaler()\n",
    "train[feature_cols] = RS.fit_transform(train[feature_cols])\n",
    "test[feature_cols] = RS.transform(test[feature_cols])"
   ]
  },
  {
   "cell_type": "code",
   "execution_count": 7,
   "id": "4e53e95e",
   "metadata": {
    "execution": {
     "iopub.execute_input": "2023-09-05T11:30:38.733575Z",
     "iopub.status.busy": "2023-09-05T11:30:38.733247Z",
     "iopub.status.idle": "2023-09-05T11:30:38.738988Z",
     "shell.execute_reply": "2023-09-05T11:30:38.738055Z"
    },
    "papermill": {
     "duration": 0.015003,
     "end_time": "2023-09-05T11:30:38.741083",
     "exception": false,
     "start_time": "2023-09-05T11:30:38.726080",
     "status": "completed"
    },
    "tags": []
   },
   "outputs": [],
   "source": [
    "n_steps = 80\n",
    "n_features = len(feature_cols)"
   ]
  },
  {
   "cell_type": "code",
   "execution_count": 8,
   "id": "876603cf",
   "metadata": {
    "execution": {
     "iopub.execute_input": "2023-09-05T11:30:38.754330Z",
     "iopub.status.busy": "2023-09-05T11:30:38.754036Z",
     "iopub.status.idle": "2023-09-05T11:30:38.941739Z",
     "shell.execute_reply": "2023-09-05T11:30:38.940314Z"
    },
    "papermill": {
     "duration": 0.19722,
     "end_time": "2023-09-05T11:30:38.944185",
     "exception": false,
     "start_time": "2023-09-05T11:30:38.746965",
     "status": "completed"
    },
    "tags": []
   },
   "outputs": [
    {
     "name": "stdout",
     "output_type": "stream",
     "text": [
      "(75450, 80, 4) (75450, 80)\n"
     ]
    }
   ],
   "source": [
    "n_steps = 80\n",
    "n_features = len(feature_cols)\n",
    "target_column_name = 'pressure'  # Replace with the actual target column name\n",
    "\n",
    "# Assuming \"train\" is a DataFrame containing your training data\n",
    "n_samples_train = len(train) // n_steps  # Calculate the number of breaths\n",
    "y_train = train[target_column_name].values[:n_samples_train * n_steps].reshape(-1, n_steps)\n",
    "X_train = train[feature_cols].values[:n_samples_train * n_steps].reshape(-1, n_steps, n_features)\n",
    "\n",
    "print(X_train.shape, y_train.shape)"
   ]
  },
  {
   "cell_type": "code",
   "execution_count": 9,
   "id": "20ddcd36",
   "metadata": {
    "execution": {
     "iopub.execute_input": "2023-09-05T11:30:38.957837Z",
     "iopub.status.busy": "2023-09-05T11:30:38.957558Z",
     "iopub.status.idle": "2023-09-05T11:30:46.033690Z",
     "shell.execute_reply": "2023-09-05T11:30:46.032915Z"
    },
    "papermill": {
     "duration": 7.109335,
     "end_time": "2023-09-05T11:30:46.059862",
     "exception": false,
     "start_time": "2023-09-05T11:30:38.950527",
     "status": "completed"
    },
    "tags": []
   },
   "outputs": [
    {
     "name": "stdout",
     "output_type": "stream",
     "text": [
      "Model: \"sequential\"\n",
      "_________________________________________________________________\n",
      " Layer (type)                Output Shape              Param #   \n",
      "=================================================================\n",
      " bidirectional (Bidirectiona  (None, 80, 300)          186000    \n",
      " l)                                                              \n",
      "                                                                 \n",
      " bidirectional_1 (Bidirectio  (None, 80, 300)          541200    \n",
      " nal)                                                            \n",
      "                                                                 \n",
      " bidirectional_2 (Bidirectio  (None, 80, 300)          541200    \n",
      " nal)                                                            \n",
      "                                                                 \n",
      " bidirectional_3 (Bidirectio  (None, 80, 300)          541200    \n",
      " nal)                                                            \n",
      "                                                                 \n",
      " dropout (Dropout)           (None, 80, 300)           0         \n",
      "                                                                 \n",
      " flatten (Flatten)           (None, 24000)             0         \n",
      "                                                                 \n",
      " dense (Dense)               (None, 128)               3072128   \n",
      "                                                                 \n",
      " dense_1 (Dense)             (None, 256)               33024     \n",
      "                                                                 \n",
      " dense_2 (Dense)             (None, 512)               131584    \n",
      "                                                                 \n",
      " dense_3 (Dense)             (None, 80)                41040     \n",
      "                                                                 \n",
      "=================================================================\n",
      "Total params: 5,087,376\n",
      "Trainable params: 5,087,376\n",
      "Non-trainable params: 0\n",
      "_________________________________________________________________\n"
     ]
    }
   ],
   "source": [
    "def get_model():\n",
    "    act = \"swish\"\n",
    "    model = tf.keras.Sequential([\n",
    "        layers.InputLayer(input_shape=(n_steps,n_features)),\n",
    "        layers.Bidirectional(layers.LSTM(150, return_sequences=True)),\n",
    "        layers.Bidirectional(layers.LSTM(150, return_sequences=True)),\n",
    "        layers.Bidirectional(layers.LSTM(150, return_sequences=True)),\n",
    "        layers.Bidirectional(layers.LSTM(150, return_sequences=True)),\n",
    "        layers.Dropout(0.2),\n",
    "        layers.Flatten(),\n",
    "        layers.Dense(128, activation=act),\n",
    "        layers.Dense(256, activation=act),\n",
    "        layers.Dense(512, activation=act),\n",
    "        layers.Dense(80)\n",
    "    ])\n",
    "    return model\n",
    "model = get_model()\n",
    "model.compile(optimizer=\"adam\", loss=\"mae\")\n",
    "\n",
    "model.summary()"
   ]
  },
  {
   "cell_type": "code",
   "execution_count": 10,
   "id": "429d2e08",
   "metadata": {
    "execution": {
     "iopub.execute_input": "2023-09-05T11:30:46.078557Z",
     "iopub.status.busy": "2023-09-05T11:30:46.078234Z",
     "iopub.status.idle": "2023-09-05T13:11:20.111045Z",
     "shell.execute_reply": "2023-09-05T13:11:20.109736Z"
    },
    "papermill": {
     "duration": 6034.045639,
     "end_time": "2023-09-05T13:11:20.114138",
     "exception": false,
     "start_time": "2023-09-05T11:30:46.068499",
     "status": "completed"
    },
    "tags": []
   },
   "outputs": [
    {
     "name": "stdout",
     "output_type": "stream",
     "text": [
      "Epoch 1/200\n",
      "118/118 [==============================] - 49s 251ms/step - loss: 2.1403 - val_loss: 1.1646 - lr: 0.0010\n",
      "Epoch 2/200\n",
      "118/118 [==============================] - 28s 239ms/step - loss: 1.0871 - val_loss: 0.9488 - lr: 9.9885e-04\n",
      "Epoch 3/200\n",
      "118/118 [==============================] - 29s 243ms/step - loss: 0.9077 - val_loss: 0.8249 - lr: 9.9770e-04\n",
      "Epoch 4/200\n",
      "118/118 [==============================] - 30s 259ms/step - loss: 0.8114 - val_loss: 0.7942 - lr: 9.9655e-04\n",
      "Epoch 5/200\n",
      "118/118 [==============================] - 30s 255ms/step - loss: 0.7639 - val_loss: 0.7057 - lr: 9.9541e-04\n",
      "Epoch 6/200\n",
      "118/118 [==============================] - 29s 247ms/step - loss: 0.7256 - val_loss: 0.6669 - lr: 9.9426e-04\n",
      "Epoch 7/200\n",
      "118/118 [==============================] - 30s 251ms/step - loss: 0.6666 - val_loss: 0.6421 - lr: 9.9312e-04\n",
      "Epoch 8/200\n",
      "118/118 [==============================] - 30s 254ms/step - loss: 0.6584 - val_loss: 0.6143 - lr: 9.9197e-04\n",
      "Epoch 9/200\n",
      "118/118 [==============================] - 30s 253ms/step - loss: 0.6280 - val_loss: 0.6434 - lr: 9.9083e-04\n",
      "Epoch 10/200\n",
      "118/118 [==============================] - 29s 250ms/step - loss: 0.6054 - val_loss: 0.7151 - lr: 9.8969e-04\n",
      "Epoch 11/200\n",
      "118/118 [==============================] - 30s 252ms/step - loss: 0.5810 - val_loss: 0.5666 - lr: 9.8855e-04\n",
      "Epoch 12/200\n",
      "118/118 [==============================] - 30s 253ms/step - loss: 0.5685 - val_loss: 0.5601 - lr: 9.8742e-04\n",
      "Epoch 13/200\n",
      "118/118 [==============================] - 30s 252ms/step - loss: 0.5693 - val_loss: 0.5493 - lr: 9.8628e-04\n",
      "Epoch 14/200\n",
      "118/118 [==============================] - 30s 253ms/step - loss: 0.5497 - val_loss: 0.5206 - lr: 9.8514e-04\n",
      "Epoch 15/200\n",
      "118/118 [==============================] - 30s 255ms/step - loss: 0.5274 - val_loss: 0.5100 - lr: 9.8401e-04\n",
      "Epoch 16/200\n",
      "118/118 [==============================] - 30s 253ms/step - loss: 0.5200 - val_loss: 0.5673 - lr: 9.8288e-04\n",
      "Epoch 17/200\n",
      "118/118 [==============================] - 30s 251ms/step - loss: 0.5230 - val_loss: 0.5095 - lr: 9.8175e-04\n",
      "Epoch 18/200\n",
      "118/118 [==============================] - 30s 252ms/step - loss: 0.5099 - val_loss: 0.4876 - lr: 9.8062e-04\n",
      "Epoch 19/200\n",
      "118/118 [==============================] - 29s 249ms/step - loss: 0.5017 - val_loss: 0.5088 - lr: 9.7949e-04\n",
      "Epoch 20/200\n",
      "118/118 [==============================] - 30s 252ms/step - loss: 0.5000 - val_loss: 0.4875 - lr: 9.7836e-04\n",
      "Epoch 21/200\n",
      "118/118 [==============================] - 30s 253ms/step - loss: 0.4939 - val_loss: 0.4708 - lr: 9.7724e-04\n",
      "Epoch 22/200\n",
      "118/118 [==============================] - 30s 254ms/step - loss: 0.4721 - val_loss: 0.4734 - lr: 9.7611e-04\n",
      "Epoch 23/200\n",
      "118/118 [==============================] - 30s 252ms/step - loss: 0.4710 - val_loss: 0.4802 - lr: 9.7499e-04\n",
      "Epoch 24/200\n",
      "118/118 [==============================] - 30s 253ms/step - loss: 0.4724 - val_loss: 0.4569 - lr: 9.7387e-04\n",
      "Epoch 25/200\n",
      "118/118 [==============================] - 30s 251ms/step - loss: 0.4638 - val_loss: 0.4564 - lr: 9.7275e-04\n",
      "Epoch 26/200\n",
      "118/118 [==============================] - 30s 251ms/step - loss: 0.4742 - val_loss: 0.4812 - lr: 9.7163e-04\n",
      "Epoch 27/200\n",
      "118/118 [==============================] - 30s 253ms/step - loss: 0.4462 - val_loss: 0.4358 - lr: 9.7051e-04\n",
      "Epoch 28/200\n",
      "118/118 [==============================] - 30s 253ms/step - loss: 0.4461 - val_loss: 0.4797 - lr: 9.6939e-04\n",
      "Epoch 29/200\n",
      "118/118 [==============================] - 30s 253ms/step - loss: 0.4513 - val_loss: 0.4391 - lr: 9.6828e-04\n",
      "Epoch 30/200\n",
      "118/118 [==============================] - 30s 253ms/step - loss: 0.4393 - val_loss: 0.4512 - lr: 9.6716e-04\n",
      "Epoch 31/200\n",
      "118/118 [==============================] - 30s 253ms/step - loss: 0.4294 - val_loss: 0.4418 - lr: 9.6605e-04\n",
      "Epoch 32/200\n",
      "118/118 [==============================] - 30s 253ms/step - loss: 0.4290 - val_loss: 0.4406 - lr: 9.6494e-04\n",
      "Epoch 33/200\n",
      "118/118 [==============================] - 30s 251ms/step - loss: 0.4272 - val_loss: 0.4181 - lr: 9.6383e-04\n",
      "Epoch 34/200\n",
      "118/118 [==============================] - 30s 252ms/step - loss: 0.4193 - val_loss: 0.4482 - lr: 9.6272e-04\n",
      "Epoch 35/200\n",
      "118/118 [==============================] - 30s 252ms/step - loss: 0.4122 - val_loss: 0.4100 - lr: 9.6161e-04\n",
      "Epoch 36/200\n",
      "118/118 [==============================] - 30s 252ms/step - loss: 0.4174 - val_loss: 0.4082 - lr: 9.6051e-04\n",
      "Epoch 37/200\n",
      "118/118 [==============================] - 30s 252ms/step - loss: 0.4132 - val_loss: 0.4495 - lr: 9.5940e-04\n",
      "Epoch 38/200\n",
      "118/118 [==============================] - 30s 254ms/step - loss: 0.4125 - val_loss: 0.4088 - lr: 9.5830e-04\n",
      "Epoch 39/200\n",
      "118/118 [==============================] - 30s 254ms/step - loss: 0.4012 - val_loss: 0.4071 - lr: 9.5719e-04\n",
      "Epoch 40/200\n",
      "118/118 [==============================] - 30s 254ms/step - loss: 0.3941 - val_loss: 0.4172 - lr: 9.5609e-04\n",
      "Epoch 41/200\n",
      "118/118 [==============================] - 30s 252ms/step - loss: 0.3899 - val_loss: 0.4008 - lr: 9.5499e-04\n",
      "Epoch 42/200\n",
      "118/118 [==============================] - 30s 253ms/step - loss: 0.3929 - val_loss: 0.4106 - lr: 9.5389e-04\n",
      "Epoch 43/200\n",
      "118/118 [==============================] - 30s 254ms/step - loss: 0.3928 - val_loss: 0.3780 - lr: 9.5280e-04\n",
      "Epoch 44/200\n",
      "118/118 [==============================] - 30s 254ms/step - loss: 0.3820 - val_loss: 0.4068 - lr: 9.5170e-04\n",
      "Epoch 45/200\n",
      "118/118 [==============================] - 30s 255ms/step - loss: 0.3809 - val_loss: 0.3795 - lr: 9.5060e-04\n",
      "Epoch 46/200\n",
      "118/118 [==============================] - 30s 253ms/step - loss: 0.3788 - val_loss: 0.3766 - lr: 9.4951e-04\n",
      "Epoch 47/200\n",
      "118/118 [==============================] - 30s 254ms/step - loss: 0.3759 - val_loss: 0.3742 - lr: 9.4842e-04\n",
      "Epoch 48/200\n",
      "118/118 [==============================] - 30s 252ms/step - loss: 0.3677 - val_loss: 0.3772 - lr: 9.4733e-04\n",
      "Epoch 49/200\n",
      "118/118 [==============================] - 30s 253ms/step - loss: 0.3652 - val_loss: 0.3664 - lr: 9.4624e-04\n",
      "Epoch 50/200\n",
      "118/118 [==============================] - 30s 253ms/step - loss: 0.3668 - val_loss: 0.3727 - lr: 9.4515e-04\n",
      "Epoch 51/200\n",
      "118/118 [==============================] - 30s 252ms/step - loss: 0.3633 - val_loss: 0.3628 - lr: 9.4406e-04\n",
      "Epoch 52/200\n",
      "118/118 [==============================] - 30s 251ms/step - loss: 0.3599 - val_loss: 0.3555 - lr: 9.4297e-04\n",
      "Epoch 53/200\n",
      "118/118 [==============================] - 30s 252ms/step - loss: 0.3562 - val_loss: 0.3658 - lr: 9.4189e-04\n",
      "Epoch 54/200\n",
      "118/118 [==============================] - 30s 255ms/step - loss: 0.3538 - val_loss: 0.3541 - lr: 9.4081e-04\n",
      "Epoch 55/200\n",
      "118/118 [==============================] - 30s 253ms/step - loss: 0.3462 - val_loss: 0.3587 - lr: 9.3972e-04\n",
      "Epoch 56/200\n",
      "118/118 [==============================] - 30s 254ms/step - loss: 0.3466 - val_loss: 0.3571 - lr: 9.3864e-04\n",
      "Epoch 57/200\n",
      "118/118 [==============================] - 30s 254ms/step - loss: 0.3454 - val_loss: 0.3503 - lr: 9.3756e-04\n",
      "Epoch 58/200\n",
      "118/118 [==============================] - 30s 254ms/step - loss: 0.3372 - val_loss: 0.3517 - lr: 9.3648e-04\n",
      "Epoch 59/200\n",
      "118/118 [==============================] - 30s 254ms/step - loss: 0.3398 - val_loss: 0.3473 - lr: 9.3541e-04\n",
      "Epoch 60/200\n",
      "118/118 [==============================] - 30s 254ms/step - loss: 0.3345 - val_loss: 0.3390 - lr: 9.3433e-04\n",
      "Epoch 61/200\n",
      "118/118 [==============================] - 30s 252ms/step - loss: 0.3339 - val_loss: 0.3902 - lr: 9.3325e-04\n",
      "Epoch 62/200\n",
      "118/118 [==============================] - 30s 253ms/step - loss: 0.3307 - val_loss: 0.3413 - lr: 9.3218e-04\n",
      "Epoch 63/200\n",
      "118/118 [==============================] - 30s 253ms/step - loss: 0.3327 - val_loss: 0.3527 - lr: 9.3111e-04\n",
      "Epoch 64/200\n",
      "118/118 [==============================] - 30s 252ms/step - loss: 0.3220 - val_loss: 0.3412 - lr: 9.3004e-04\n",
      "Epoch 65/200\n",
      "118/118 [==============================] - 30s 251ms/step - loss: 0.3220 - val_loss: 0.3553 - lr: 9.2897e-04\n",
      "Epoch 66/200\n",
      "118/118 [==============================] - 30s 251ms/step - loss: 0.3201 - val_loss: 0.3379 - lr: 9.2790e-04\n",
      "Epoch 67/200\n",
      "118/118 [==============================] - 30s 251ms/step - loss: 0.3238 - val_loss: 0.3308 - lr: 9.2683e-04\n",
      "Epoch 68/200\n",
      "118/118 [==============================] - 30s 252ms/step - loss: 0.3193 - val_loss: 0.3258 - lr: 9.2576e-04\n",
      "Epoch 69/200\n",
      "118/118 [==============================] - 30s 250ms/step - loss: 0.3115 - val_loss: 0.3216 - lr: 9.2470e-04\n",
      "Epoch 70/200\n",
      "118/118 [==============================] - 30s 251ms/step - loss: 0.3091 - val_loss: 0.3357 - lr: 9.2363e-04\n",
      "Epoch 71/200\n",
      "118/118 [==============================] - 30s 252ms/step - loss: 0.3096 - val_loss: 0.3231 - lr: 9.2257e-04\n",
      "Epoch 72/200\n",
      "118/118 [==============================] - 30s 251ms/step - loss: 0.3051 - val_loss: 0.3375 - lr: 9.2151e-04\n",
      "Epoch 73/200\n",
      "118/118 [==============================] - 30s 252ms/step - loss: 0.3014 - val_loss: 0.3229 - lr: 9.2045e-04\n",
      "Epoch 74/200\n",
      "118/118 [==============================] - 30s 254ms/step - loss: 0.3057 - val_loss: 0.3232 - lr: 9.1939e-04\n",
      "Epoch 75/200\n",
      "118/118 [==============================] - 30s 253ms/step - loss: 0.3000 - val_loss: 0.3196 - lr: 9.1833e-04\n",
      "Epoch 76/200\n",
      "118/118 [==============================] - 30s 252ms/step - loss: 0.3054 - val_loss: 0.3101 - lr: 9.1728e-04\n",
      "Epoch 77/200\n",
      "118/118 [==============================] - 30s 253ms/step - loss: 0.3018 - val_loss: 0.3256 - lr: 9.1622e-04\n",
      "Epoch 78/200\n",
      "118/118 [==============================] - 30s 252ms/step - loss: 0.2956 - val_loss: 0.3128 - lr: 9.1517e-04\n",
      "Epoch 79/200\n",
      "118/118 [==============================] - 30s 255ms/step - loss: 0.2936 - val_loss: 0.3200 - lr: 9.1411e-04\n",
      "Epoch 80/200\n",
      "118/118 [==============================] - 30s 254ms/step - loss: 0.2930 - val_loss: 0.3029 - lr: 9.1306e-04\n",
      "Epoch 81/200\n",
      "118/118 [==============================] - 30s 254ms/step - loss: 0.2888 - val_loss: 0.3147 - lr: 9.1201e-04\n",
      "Epoch 82/200\n",
      "118/118 [==============================] - 30s 254ms/step - loss: 0.2865 - val_loss: 0.3092 - lr: 9.1096e-04\n",
      "Epoch 83/200\n",
      "118/118 [==============================] - 30s 254ms/step - loss: 0.2832 - val_loss: 0.3044 - lr: 9.0991e-04\n",
      "Epoch 84/200\n",
      "118/118 [==============================] - 30s 253ms/step - loss: 0.2863 - val_loss: 0.3198 - lr: 9.0887e-04\n",
      "Epoch 85/200\n",
      "118/118 [==============================] - 30s 254ms/step - loss: 0.2843 - val_loss: 0.3139 - lr: 9.0782e-04\n",
      "Epoch 86/200\n",
      "118/118 [==============================] - 30s 254ms/step - loss: 0.2831 - val_loss: 0.3080 - lr: 9.0678e-04\n",
      "Epoch 87/200\n",
      "118/118 [==============================] - 30s 250ms/step - loss: 0.2794 - val_loss: 0.3302 - lr: 9.0573e-04\n",
      "Epoch 88/200\n",
      "118/118 [==============================] - 30s 252ms/step - loss: 0.2818 - val_loss: 0.3064 - lr: 9.0469e-04\n",
      "Epoch 89/200\n",
      "118/118 [==============================] - 30s 252ms/step - loss: 0.2795 - val_loss: 0.3162 - lr: 9.0365e-04\n",
      "Epoch 90/200\n",
      "118/118 [==============================] - 30s 252ms/step - loss: 0.2740 - val_loss: 0.2993 - lr: 9.0261e-04\n",
      "Epoch 91/200\n",
      "118/118 [==============================] - 30s 252ms/step - loss: 0.2719 - val_loss: 0.2937 - lr: 9.0157e-04\n",
      "Epoch 92/200\n",
      "118/118 [==============================] - 30s 251ms/step - loss: 0.2708 - val_loss: 0.2969 - lr: 9.0053e-04\n",
      "Epoch 93/200\n",
      "118/118 [==============================] - 30s 252ms/step - loss: 0.2727 - val_loss: 0.2952 - lr: 8.9950e-04\n",
      "Epoch 94/200\n",
      "118/118 [==============================] - 30s 252ms/step - loss: 0.2768 - val_loss: 0.3087 - lr: 8.9846e-04\n",
      "Epoch 95/200\n",
      "118/118 [==============================] - 30s 254ms/step - loss: 0.2693 - val_loss: 0.2911 - lr: 8.9743e-04\n",
      "Epoch 96/200\n",
      "118/118 [==============================] - 30s 252ms/step - loss: 0.2680 - val_loss: 0.2873 - lr: 8.9640e-04\n",
      "Epoch 97/200\n",
      "118/118 [==============================] - 30s 250ms/step - loss: 0.2653 - val_loss: 0.2898 - lr: 8.9536e-04\n",
      "Epoch 98/200\n",
      "118/118 [==============================] - 30s 252ms/step - loss: 0.2649 - val_loss: 0.2828 - lr: 8.9433e-04\n",
      "Epoch 99/200\n",
      "118/118 [==============================] - 30s 252ms/step - loss: 0.2681 - val_loss: 0.2907 - lr: 8.9331e-04\n",
      "Epoch 100/200\n",
      "118/118 [==============================] - 30s 252ms/step - loss: 0.2606 - val_loss: 0.2902 - lr: 8.9228e-04\n",
      "Epoch 101/200\n",
      "118/118 [==============================] - 30s 252ms/step - loss: 0.2620 - val_loss: 0.2877 - lr: 8.9125e-04\n",
      "Epoch 102/200\n",
      "118/118 [==============================] - 30s 252ms/step - loss: 0.2580 - val_loss: 0.2826 - lr: 8.9023e-04\n",
      "Epoch 103/200\n",
      "118/118 [==============================] - 30s 252ms/step - loss: 0.2640 - val_loss: 0.2933 - lr: 8.8920e-04\n",
      "Epoch 104/200\n",
      "118/118 [==============================] - 30s 252ms/step - loss: 0.2593 - val_loss: 0.2846 - lr: 8.8818e-04\n",
      "Epoch 105/200\n",
      "118/118 [==============================] - 30s 253ms/step - loss: 0.2554 - val_loss: 0.2837 - lr: 8.8716e-04\n",
      "Epoch 106/200\n",
      "118/118 [==============================] - 30s 253ms/step - loss: 0.2549 - val_loss: 0.2843 - lr: 8.8614e-04\n",
      "Epoch 107/200\n",
      "118/118 [==============================] - 30s 253ms/step - loss: 0.2601 - val_loss: 0.2834 - lr: 8.8512e-04\n",
      "Epoch 108/200\n",
      "118/118 [==============================] - 30s 254ms/step - loss: 0.2510 - val_loss: 0.2800 - lr: 8.8410e-04\n",
      "Epoch 109/200\n",
      "118/118 [==============================] - 30s 251ms/step - loss: 0.2549 - val_loss: 0.2785 - lr: 8.8308e-04\n",
      "Epoch 110/200\n",
      "118/118 [==============================] - 30s 252ms/step - loss: 0.2574 - val_loss: 0.2754 - lr: 8.8206e-04\n",
      "Epoch 111/200\n",
      "118/118 [==============================] - 30s 253ms/step - loss: 0.2491 - val_loss: 0.2780 - lr: 8.8105e-04\n",
      "Epoch 112/200\n",
      "118/118 [==============================] - 30s 253ms/step - loss: 0.2498 - val_loss: 0.2750 - lr: 8.8004e-04\n",
      "Epoch 113/200\n",
      "118/118 [==============================] - 30s 252ms/step - loss: 0.2471 - val_loss: 0.2743 - lr: 8.7902e-04\n",
      "Epoch 114/200\n",
      "118/118 [==============================] - 30s 252ms/step - loss: 0.2491 - val_loss: 0.2734 - lr: 8.7801e-04\n",
      "Epoch 115/200\n",
      "118/118 [==============================] - 30s 251ms/step - loss: 0.2476 - val_loss: 0.2809 - lr: 8.7700e-04\n",
      "Epoch 116/200\n",
      "118/118 [==============================] - 30s 254ms/step - loss: 0.2456 - val_loss: 0.2757 - lr: 8.7599e-04\n",
      "Epoch 117/200\n",
      "118/118 [==============================] - 30s 254ms/step - loss: 0.2458 - val_loss: 0.2702 - lr: 8.7498e-04\n",
      "Epoch 118/200\n",
      "118/118 [==============================] - 30s 254ms/step - loss: 0.2429 - val_loss: 0.2714 - lr: 8.7398e-04\n",
      "Epoch 119/200\n",
      "118/118 [==============================] - 30s 254ms/step - loss: 0.2437 - val_loss: 0.2725 - lr: 8.7297e-04\n",
      "Epoch 120/200\n",
      "118/118 [==============================] - 30s 253ms/step - loss: 0.2426 - val_loss: 0.2765 - lr: 8.7197e-04\n",
      "Epoch 121/200\n",
      "118/118 [==============================] - 30s 252ms/step - loss: 0.2398 - val_loss: 0.2721 - lr: 8.7096e-04\n",
      "Epoch 122/200\n",
      "118/118 [==============================] - 30s 253ms/step - loss: 0.2381 - val_loss: 0.2698 - lr: 8.6996e-04\n",
      "Epoch 123/200\n",
      "118/118 [==============================] - 30s 252ms/step - loss: 0.2407 - val_loss: 0.2720 - lr: 8.6896e-04\n",
      "Epoch 124/200\n",
      "118/118 [==============================] - 30s 252ms/step - loss: 0.2395 - val_loss: 0.2717 - lr: 8.6796e-04\n",
      "Epoch 125/200\n",
      "118/118 [==============================] - 30s 252ms/step - loss: 0.2363 - val_loss: 0.2640 - lr: 8.6696e-04\n",
      "Epoch 126/200\n",
      "118/118 [==============================] - 30s 252ms/step - loss: 0.2374 - val_loss: 0.2675 - lr: 8.6596e-04\n",
      "Epoch 127/200\n",
      "118/118 [==============================] - 30s 251ms/step - loss: 0.2369 - val_loss: 0.2686 - lr: 8.6497e-04\n",
      "Epoch 128/200\n",
      "118/118 [==============================] - 30s 252ms/step - loss: 0.2342 - val_loss: 0.2671 - lr: 8.6397e-04\n",
      "Epoch 129/200\n",
      "118/118 [==============================] - 30s 252ms/step - loss: 0.2353 - val_loss: 0.2743 - lr: 8.6298e-04\n",
      "Epoch 130/200\n",
      "118/118 [==============================] - 30s 251ms/step - loss: 0.2344 - val_loss: 0.2632 - lr: 8.6199e-04\n",
      "Epoch 131/200\n",
      "118/118 [==============================] - 30s 252ms/step - loss: 0.2329 - val_loss: 0.2626 - lr: 8.6099e-04\n",
      "Epoch 132/200\n",
      "118/118 [==============================] - 30s 252ms/step - loss: 0.2290 - val_loss: 0.2638 - lr: 8.6000e-04\n",
      "Epoch 133/200\n",
      "118/118 [==============================] - 30s 252ms/step - loss: 0.2327 - val_loss: 0.2651 - lr: 8.5901e-04\n",
      "Epoch 134/200\n",
      "118/118 [==============================] - 30s 252ms/step - loss: 0.2311 - val_loss: 0.2848 - lr: 8.5803e-04\n",
      "Epoch 135/200\n",
      "118/118 [==============================] - 30s 253ms/step - loss: 0.2330 - val_loss: 0.2644 - lr: 8.5704e-04\n",
      "Epoch 136/200\n",
      "118/118 [==============================] - 30s 253ms/step - loss: 0.2295 - val_loss: 0.2595 - lr: 8.5605e-04\n",
      "Epoch 137/200\n",
      "118/118 [==============================] - 30s 252ms/step - loss: 0.2276 - val_loss: 0.2691 - lr: 8.5507e-04\n",
      "Epoch 138/200\n",
      "118/118 [==============================] - 30s 252ms/step - loss: 0.2255 - val_loss: 0.2617 - lr: 8.5408e-04\n",
      "Epoch 139/200\n",
      "118/118 [==============================] - 30s 253ms/step - loss: 0.2300 - val_loss: 0.2626 - lr: 8.5310e-04\n",
      "Epoch 140/200\n",
      "118/118 [==============================] - 30s 256ms/step - loss: 0.2285 - val_loss: 0.2639 - lr: 8.5212e-04\n",
      "Epoch 141/200\n",
      "118/118 [==============================] - 30s 253ms/step - loss: 0.2302 - val_loss: 0.2630 - lr: 8.5114e-04\n",
      "Epoch 142/200\n",
      "118/118 [==============================] - 30s 256ms/step - loss: 0.2271 - val_loss: 0.2574 - lr: 8.5016e-04\n",
      "Epoch 143/200\n",
      "118/118 [==============================] - 30s 255ms/step - loss: 0.2245 - val_loss: 0.2565 - lr: 8.4918e-04\n",
      "Epoch 144/200\n",
      "118/118 [==============================] - 30s 254ms/step - loss: 0.2231 - val_loss: 0.2583 - lr: 8.4820e-04\n",
      "Epoch 145/200\n",
      "118/118 [==============================] - 30s 258ms/step - loss: 0.2247 - val_loss: 0.2616 - lr: 8.4723e-04\n",
      "Epoch 146/200\n",
      "118/118 [==============================] - 30s 255ms/step - loss: 0.2222 - val_loss: 0.2657 - lr: 8.4625e-04\n",
      "Epoch 147/200\n",
      "118/118 [==============================] - 30s 254ms/step - loss: 0.2223 - val_loss: 0.2703 - lr: 8.4528e-04\n",
      "Epoch 148/200\n",
      "118/118 [==============================] - 30s 255ms/step - loss: 0.2214 - val_loss: 0.2545 - lr: 8.4431e-04\n",
      "Epoch 149/200\n",
      "118/118 [==============================] - 30s 254ms/step - loss: 0.2183 - val_loss: 0.2590 - lr: 8.4333e-04\n",
      "Epoch 150/200\n",
      "118/118 [==============================] - 30s 253ms/step - loss: 0.2217 - val_loss: 0.2578 - lr: 8.4236e-04\n",
      "Epoch 151/200\n",
      "118/118 [==============================] - 30s 253ms/step - loss: 0.2245 - val_loss: 0.2558 - lr: 8.4140e-04\n",
      "Epoch 152/200\n",
      "118/118 [==============================] - 30s 253ms/step - loss: 0.2194 - val_loss: 0.2536 - lr: 8.4043e-04\n",
      "Epoch 153/200\n",
      "118/118 [==============================] - 30s 252ms/step - loss: 0.2179 - val_loss: 0.2588 - lr: 8.3946e-04\n",
      "Epoch 154/200\n",
      "118/118 [==============================] - 30s 255ms/step - loss: 0.2206 - val_loss: 0.2572 - lr: 8.3849e-04\n",
      "Epoch 155/200\n",
      "118/118 [==============================] - 30s 254ms/step - loss: 0.2178 - val_loss: 0.2558 - lr: 8.3753e-04\n",
      "Epoch 156/200\n",
      "118/118 [==============================] - 30s 258ms/step - loss: 0.2175 - val_loss: 0.2514 - lr: 8.3657e-04\n",
      "Epoch 157/200\n",
      "118/118 [==============================] - 30s 252ms/step - loss: 0.2189 - val_loss: 0.2553 - lr: 8.3560e-04\n",
      "Epoch 158/200\n",
      "118/118 [==============================] - 30s 252ms/step - loss: 0.2186 - val_loss: 0.2520 - lr: 8.3464e-04\n",
      "Epoch 159/200\n",
      "118/118 [==============================] - 30s 252ms/step - loss: 0.2178 - val_loss: 0.2545 - lr: 8.3368e-04\n",
      "Epoch 160/200\n",
      "118/118 [==============================] - 30s 252ms/step - loss: 0.2135 - val_loss: 0.2504 - lr: 8.3272e-04\n",
      "Epoch 161/200\n",
      "118/118 [==============================] - 30s 251ms/step - loss: 0.2137 - val_loss: 0.2508 - lr: 8.3176e-04\n",
      "Epoch 162/200\n",
      "118/118 [==============================] - 30s 253ms/step - loss: 0.2125 - val_loss: 0.2545 - lr: 8.3081e-04\n",
      "Epoch 163/200\n",
      "118/118 [==============================] - 30s 253ms/step - loss: 0.2128 - val_loss: 0.2494 - lr: 8.2985e-04\n",
      "Epoch 164/200\n",
      "118/118 [==============================] - 30s 255ms/step - loss: 0.2123 - val_loss: 0.2607 - lr: 8.2890e-04\n",
      "Epoch 165/200\n",
      "118/118 [==============================] - 30s 254ms/step - loss: 0.2128 - val_loss: 0.2526 - lr: 8.2794e-04\n",
      "Epoch 166/200\n",
      "118/118 [==============================] - 30s 257ms/step - loss: 0.2149 - val_loss: 0.2535 - lr: 8.2699e-04\n",
      "Epoch 167/200\n",
      "118/118 [==============================] - 30s 255ms/step - loss: 0.2134 - val_loss: 0.2482 - lr: 8.2604e-04\n",
      "Epoch 168/200\n",
      "118/118 [==============================] - 30s 253ms/step - loss: 0.2123 - val_loss: 0.2558 - lr: 8.2509e-04\n",
      "Epoch 169/200\n",
      "118/118 [==============================] - 30s 255ms/step - loss: 0.2098 - val_loss: 0.2538 - lr: 8.2414e-04\n",
      "Epoch 170/200\n",
      "118/118 [==============================] - 30s 255ms/step - loss: 0.2114 - val_loss: 0.2585 - lr: 8.2319e-04\n",
      "Epoch 171/200\n",
      "118/118 [==============================] - 30s 253ms/step - loss: 0.2105 - val_loss: 0.2476 - lr: 8.2224e-04\n",
      "Epoch 172/200\n",
      "118/118 [==============================] - 30s 252ms/step - loss: 0.2099 - val_loss: 0.2545 - lr: 8.2130e-04\n",
      "Epoch 173/200\n",
      "118/118 [==============================] - 30s 252ms/step - loss: 0.2157 - val_loss: 0.3126 - lr: 8.2035e-04\n",
      "Epoch 174/200\n",
      "118/118 [==============================] - 30s 252ms/step - loss: 0.2137 - val_loss: 0.2477 - lr: 8.1941e-04\n",
      "Epoch 175/200\n",
      "118/118 [==============================] - 30s 252ms/step - loss: 0.2074 - val_loss: 0.2460 - lr: 8.1846e-04\n",
      "Epoch 176/200\n",
      "118/118 [==============================] - 30s 254ms/step - loss: 0.2068 - val_loss: 0.2464 - lr: 8.1752e-04\n",
      "Epoch 177/200\n",
      "118/118 [==============================] - 30s 255ms/step - loss: 0.2056 - val_loss: 0.2455 - lr: 8.1658e-04\n",
      "Epoch 178/200\n",
      "118/118 [==============================] - 30s 254ms/step - loss: 0.2062 - val_loss: 0.2464 - lr: 8.1564e-04\n",
      "Epoch 179/200\n",
      "118/118 [==============================] - 30s 254ms/step - loss: 0.2052 - val_loss: 0.2467 - lr: 8.1470e-04\n",
      "Epoch 180/200\n",
      "118/118 [==============================] - 30s 256ms/step - loss: 0.2075 - val_loss: 0.2484 - lr: 8.1377e-04\n",
      "Epoch 181/200\n",
      "118/118 [==============================] - 30s 255ms/step - loss: 0.2045 - val_loss: 0.2476 - lr: 8.1283e-04\n",
      "Epoch 182/200\n",
      "118/118 [==============================] - 30s 255ms/step - loss: 0.2076 - val_loss: 0.2536 - lr: 8.1190e-04\n",
      "Epoch 183/200\n",
      "118/118 [==============================] - 30s 255ms/step - loss: 0.2058 - val_loss: 0.2436 - lr: 8.1096e-04\n",
      "Epoch 184/200\n",
      "118/118 [==============================] - 30s 255ms/step - loss: 0.2057 - val_loss: 0.2438 - lr: 8.1003e-04\n",
      "Epoch 185/200\n",
      "118/118 [==============================] - 30s 254ms/step - loss: 0.2051 - val_loss: 0.2493 - lr: 8.0910e-04\n",
      "Epoch 186/200\n",
      "118/118 [==============================] - 30s 255ms/step - loss: 0.2086 - val_loss: 0.2434 - lr: 8.0817e-04\n",
      "Epoch 187/200\n",
      "118/118 [==============================] - 30s 254ms/step - loss: 0.2030 - val_loss: 0.2441 - lr: 8.0724e-04\n",
      "Epoch 188/200\n",
      "118/118 [==============================] - 30s 253ms/step - loss: 0.2032 - val_loss: 0.2425 - lr: 8.0631e-04\n",
      "Epoch 189/200\n",
      "118/118 [==============================] - 30s 252ms/step - loss: 0.2003 - val_loss: 0.2432 - lr: 8.0538e-04\n",
      "Epoch 190/200\n",
      "118/118 [==============================] - 30s 253ms/step - loss: 0.1997 - val_loss: 0.2458 - lr: 8.0445e-04\n",
      "Epoch 191/200\n",
      "118/118 [==============================] - 30s 251ms/step - loss: 0.2019 - val_loss: 0.2497 - lr: 8.0353e-04\n",
      "Epoch 192/200\n",
      "118/118 [==============================] - 30s 253ms/step - loss: 0.2016 - val_loss: 0.2404 - lr: 8.0260e-04\n",
      "Epoch 193/200\n",
      "118/118 [==============================] - 30s 253ms/step - loss: 0.1989 - val_loss: 0.2479 - lr: 8.0168e-04\n",
      "Epoch 194/200\n",
      "118/118 [==============================] - 30s 253ms/step - loss: 0.2007 - val_loss: 0.2470 - lr: 8.0076e-04\n",
      "Epoch 195/200\n",
      "118/118 [==============================] - 30s 253ms/step - loss: 0.2013 - val_loss: 0.2544 - lr: 7.9983e-04\n",
      "Epoch 196/200\n",
      "118/118 [==============================] - 30s 255ms/step - loss: 0.2011 - val_loss: 0.2451 - lr: 7.9891e-04\n",
      "Epoch 197/200\n",
      "118/118 [==============================] - 30s 255ms/step - loss: 0.1996 - val_loss: 0.2441 - lr: 7.9799e-04\n",
      "Epoch 198/200\n",
      "118/118 [==============================] - 30s 254ms/step - loss: 0.1987 - val_loss: 0.2392 - lr: 7.9708e-04\n",
      "Epoch 199/200\n",
      "118/118 [==============================] - 30s 255ms/step - loss: 0.1973 - val_loss: 0.2396 - lr: 7.9616e-04\n",
      "Epoch 200/200\n",
      "118/118 [==============================] - 30s 256ms/step - loss: 0.2002 - val_loss: 0.2463 - lr: 7.9524e-04\n"
     ]
    }
   ],
   "source": [
    "scheduler = tf.keras.optimizers.schedules.ExponentialDecay(initial_learning_rate=1e-3, decay_steps=1e4, decay_rate=1e-5)\n",
    "cb_lr = tf.keras.callbacks.LearningRateScheduler(scheduler)\n",
    "cb_es = tf.keras.callbacks.EarlyStopping(monitor=\"val_loss\", patience=10, restore_best_weights=True)\n",
    "\n",
    "history = model.fit(X_train, y_train, validation_split=0.2, epochs=200, batch_size=512, callbacks=[cb_es, cb_lr])"
   ]
  },
  {
   "cell_type": "code",
   "execution_count": 11,
   "id": "f3554797",
   "metadata": {
    "execution": {
     "iopub.execute_input": "2023-09-05T13:11:24.177092Z",
     "iopub.status.busy": "2023-09-05T13:11:24.176703Z",
     "iopub.status.idle": "2023-09-05T13:11:24.692655Z",
     "shell.execute_reply": "2023-09-05T13:11:24.691553Z"
    },
    "papermill": {
     "duration": 2.534752,
     "end_time": "2023-09-05T13:11:24.695197",
     "exception": false,
     "start_time": "2023-09-05T13:11:22.160445",
     "status": "completed"
    },
    "tags": []
   },
   "outputs": [
    {
     "data": {
      "image/png": "[encoded data removed]",
      "text/plain": [
       "<Figure size 1600x700 with 1 Axes>"
      ]
     },
     "metadata": {},
     "output_type": "display_data"
    }
   ],
   "source": [
    "plt.figure(figsize=(16,7))\n",
    "loss=history.history['loss']\n",
    "val_loss=history.history['val_loss']\n",
    "\n",
    "epochs=range(1,len(loss)+1)\n",
    "\n",
    "plt.plot(epochs, loss, 'r')\n",
    "plt.plot(epochs, val_loss, 'b')\n",
    "plt.legend([\"Training\", \"Validation\" ])\n",
    "plt.xlabel(\"Epochs\")\n",
    "plt.ylabel(\"Loss\")\n",
    "plt.title('Training and validation loss')\n",
    "\n",
    "plt.show()"
   ]
  },
  {
   "cell_type": "code",
   "execution_count": 12,
   "id": "83d87cf2",
   "metadata": {
    "execution": {
     "iopub.execute_input": "2023-09-05T13:11:28.710353Z",
     "iopub.status.busy": "2023-09-05T13:11:28.709959Z",
     "iopub.status.idle": "2023-09-05T13:11:32.097634Z",
     "shell.execute_reply": "2023-09-05T13:11:32.096623Z"
    },
    "papermill": {
     "duration": 5.330139,
     "end_time": "2023-09-05T13:11:32.099946",
     "exception": false,
     "start_time": "2023-09-05T13:11:26.769807",
     "status": "completed"
    },
    "tags": []
   },
   "outputs": [
    {
     "name": "stdout",
     "output_type": "stream",
     "text": [
      "1/1 [==============================] - 3s 3s/step\n"
     ]
    },
    {
     "data": {
      "image/png": "[encoded data removed]",
      "text/plain": [
       "<Figure size 1000x500 with 1 Axes>"
      ]
     },
     "metadata": {},
     "output_type": "display_data"
    }
   ],
   "source": [
    "idx = 1\n",
    "df_plot = train[train['breath_id'] == idx]\n",
    "p = model.predict(df_plot[feature_cols].values.reshape(-1, n_steps, n_features))\n",
    "x = range(len(df_plot))  # Use the length of df_plot for x values\n",
    "y = df_plot['pressure']\n",
    "\n",
    "plt.figure(figsize=(10, 5))\n",
    "sns.lineplot(x=x, y=y, label=\"Ground Truth\")\n",
    "sns.lineplot(x=x, y=p.reshape(-1), label=\"Predicted\")\n",
    "plt.legend()\n",
    "plt.ylabel(\"Pressure\")\n",
    "plt.xlabel(\"Time Steps\")\n",
    "plt.show()"
   ]
  }
 ],
 "kernelspec": {
  "display_name": "Python 3",
  "language": "python",
  "name": "python3"
 },
 "language_info": {
  "codemirror_mode": {
   "name": "ipython",
   "version": 3
  },
  "file_extension": ".py",
  "mimetype": "text/x-python",
  "name": "python",
  "nbconvert_exporter": "python",
  "pygments_lexer": "ipython3",
  "version": "3.6.4"
 },
 "metadata": {
  "kernelspec": {
   "display_name": "Python 3",
   "language": "python",
   "name": "python3"
  },
  "language_info": {
   "codemirror_mode": {
    "name": "ipython",
    "version": 3
   },
   "file_extension": ".py",
   "mimetype": "text/x-python",
   "name": "python",
   "nbconvert_exporter": "python",
   "pygments_lexer": "ipython3",
   "version": "3.10.12"
  },
  "papermill": {
   "default_parameters": {},
   "duration": 6089.221821,
   "end_time": "2023-09-05T13:11:37.969767",
   "environment_variables": {},
   "exception": null,
   "input_path": "__notebook__.ipynb",
   "output_path": "__notebook__.ipynb",
   "parameters": {},
   "start_time": "2023-09-05T11:30:08.747946",
   "version": "2.4.0"
  }
 },
 "nbformat": 4,
 "nbformat_minor": 5
}
