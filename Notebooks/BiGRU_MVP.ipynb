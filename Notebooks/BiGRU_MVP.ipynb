{
  "cells": [
    {
      "cell_type": "code",
      "source": [
        "from google.colab import drive\n",
        "drive.mount('/content/drive')"
      ],
      "metadata": {
        "colab": {
          "base_uri": "https://localhost:8080/"
        },
        "id": "qH6EjwPjML39",
        "outputId": "30f528ba-ea93-44cd-eea3-6edef5f0253f"
      },
      "id": "qH6EjwPjML39",
      "execution_count": 37,
      "outputs": [
        {
          "output_type": "stream",
          "name": "stdout",
          "text": [
            "Drive already mounted at /content/drive; to attempt to forcibly remount, call drive.mount(\"/content/drive\", force_remount=True).\n"
          ]
        }
      ]
    },
    {
      "cell_type": "code",
      "execution_count": 38,
      "metadata": {
        "id": "80bcf1a2"
      },
      "outputs": [],
      "source": [
        "import os\n",
        "os.environ['TF_CPP_MIN_LOG_LEVEL'] = '3'\n",
        "\n",
        "import seaborn as sns\n",
        "import matplotlib.pyplot as plt\n",
        "%matplotlib inline\n",
        "sns.set_style(\"darkgrid\")\n",
        "\n",
        "import numpy as np\n",
        "import pandas as pd\n",
        "import tensorflow as tf\n",
        "from tensorflow.keras import layers\n",
        "from sklearn.preprocessing import RobustScaler"
      ],
      "id": "80bcf1a2"
    },
    {
      "cell_type": "code",
      "execution_count": 39,
      "metadata": {
        "colab": {
          "base_uri": "https://localhost:8080/"
        },
        "id": "0a09d153",
        "outputId": "c1e37048-4f40-470d-d9d1-4e91111b1ed2"
      },
      "outputs": [
        {
          "output_type": "stream",
          "name": "stdout",
          "text": [
            "Number of replicas: 1\n"
          ]
        }
      ],
      "source": [
        "try:\n",
        "    tpu = tf.distribute.cluster_resolver.TPUClusterResolver()\n",
        "    print('Device:', tpu.master())\n",
        "    tf.config.experimental_connect_to_cluster(tpu)\n",
        "    tf.tpu.experimental.initialize_tpu_system(tpu)\n",
        "    strategy = tf.distribute.experimental.TPUStrategy(tpu)\n",
        "except:\n",
        "    strategy = tf.distribute.get_strategy()\n",
        "print('Number of replicas:', strategy.num_replicas_in_sync)"
      ],
      "id": "0a09d153"
    },
    {
      "cell_type": "markdown",
      "metadata": {
        "id": "193ffbf1"
      },
      "source": [
        "# Prepare Data"
      ],
      "id": "193ffbf1"
    },
    {
      "cell_type": "code",
      "execution_count": 40,
      "metadata": {
        "id": "d3d950ac"
      },
      "outputs": [],
      "source": [
        "train = pd.read_csv(\"/content/drive/MyDrive/train.csv\", index_col=[0])\n",
        "test = pd.read_csv(\"/content/drive/MyDrive/test.csv\", index_col=[0])"
      ],
      "id": "d3d950ac"
    },
    {
      "cell_type": "code",
      "source": [
        "train.shape"
      ],
      "metadata": {
        "colab": {
          "base_uri": "https://localhost:8080/"
        },
        "id": "yUZak86Jn_pZ",
        "outputId": "c44ecf79-b2e2-4822-fb8a-8bfd00f61d22"
      },
      "id": "yUZak86Jn_pZ",
      "execution_count": 41,
      "outputs": [
        {
          "output_type": "execute_result",
          "data": {
            "text/plain": [
              "(6036000, 7)"
            ]
          },
          "metadata": {},
          "execution_count": 41
        }
      ]
    },
    {
      "cell_type": "code",
      "source": [
        "test.shape"
      ],
      "metadata": {
        "colab": {
          "base_uri": "https://localhost:8080/"
        },
        "id": "4AXpmGnMoBSx",
        "outputId": "967a5d25-f337-4850-d84b-56567cfbec4a"
      },
      "id": "4AXpmGnMoBSx",
      "execution_count": 42,
      "outputs": [
        {
          "output_type": "execute_result",
          "data": {
            "text/plain": [
              "(4024000, 6)"
            ]
          },
          "metadata": {},
          "execution_count": 42
        }
      ]
    },
    {
      "cell_type": "code",
      "execution_count": 43,
      "metadata": {
        "colab": {
          "base_uri": "https://localhost:8080/"
        },
        "id": "jbvaEk5K9boC",
        "outputId": "98d7161e-cdf4-4caf-f7f7-b4cee8180ca4"
      },
      "outputs": [
        {
          "output_type": "stream",
          "name": "stdout",
          "text": [
            "Index(['breath_id', 'R', 'C', 'time_step', 'u_in', 'u_out', 'pressure'], dtype='object')\n"
          ]
        }
      ],
      "source": [
        "print(train.columns)"
      ],
      "id": "jbvaEk5K9boC"
    },
    {
      "cell_type": "code",
      "execution_count": 44,
      "metadata": {
        "id": "65b2a770"
      },
      "outputs": [],
      "source": [
        "feature_cols = [\"R\",\"C\", \"u_in\", \"u_out\"]"
      ],
      "id": "65b2a770"
    },
    {
      "cell_type": "markdown",
      "metadata": {
        "id": "d00e1770"
      },
      "source": [
        "### Plot"
      ],
      "id": "d00e1770"
    },
    {
      "cell_type": "code",
      "execution_count": 45,
      "metadata": {
        "id": "81c64c14"
      },
      "outputs": [],
      "source": [
        "# train[feature_cols+[\"pressure\"]].hist(bins=10, figsize=(20,3), layout=(1,5))\n",
        "# plt.show()"
      ],
      "id": "81c64c14"
    },
    {
      "cell_type": "code",
      "execution_count": 46,
      "metadata": {
        "id": "5ad16460"
      },
      "outputs": [],
      "source": [
        "# idx = 1\n",
        "# df_plot = train[train.breath_id==idx]\n",
        "\n",
        "# plt.figure(figsize=(10,5))\n",
        "# sns.lineplot(y=df_plot[\"u_in\"], x=df_plot[\"time_step\"])\n",
        "# sns.lineplot(y=df_plot[\"u_out\"], x=df_plot[\"time_step\"])\n",
        "# sns.lineplot(y=df_plot[\"pressure\"], x=df_plot[\"time_step\"])\n",
        "# plt.legend([\"u_in\",\"u_out\", \"pressure\"])\n",
        "# plt.ylabel(\"\")\n",
        "# plt.xlabel(\"Time Steps\")\n",
        "# plt.show()"
      ],
      "id": "5ad16460"
    },
    {
      "cell_type": "markdown",
      "metadata": {
        "id": "aa11dfc1"
      },
      "source": [
        "# Reshape to prepare them as Time Series"
      ],
      "id": "aa11dfc1"
    },
    {
      "cell_type": "code",
      "execution_count": 47,
      "metadata": {
        "id": "4439bbc1"
      },
      "outputs": [],
      "source": [
        "RS = RobustScaler()\n",
        "train[feature_cols] = RS.fit_transform(train[feature_cols])\n",
        "test[feature_cols] = RS.transform(test[feature_cols])"
      ],
      "id": "4439bbc1"
    },
    {
      "cell_type": "markdown",
      "metadata": {
        "id": "1a78d8d9"
      },
      "source": [
        "# Define Model"
      ],
      "id": "1a78d8d9"
    },
    {
      "cell_type": "code",
      "execution_count": 48,
      "metadata": {
        "id": "WHMaBjMS8WIE"
      },
      "outputs": [],
      "source": [
        "n_steps = 80\n",
        "n_features = len(feature_cols)"
      ],
      "id": "WHMaBjMS8WIE"
    },
    {
      "cell_type": "code",
      "execution_count": 49,
      "metadata": {
        "colab": {
          "base_uri": "https://localhost:8080/"
        },
        "id": "I_vH_vdB9PbG",
        "outputId": "ba669ec0-613a-4c5f-bd83-5eb0b96a4d27"
      },
      "outputs": [
        {
          "output_type": "stream",
          "name": "stdout",
          "text": [
            "Index(['breath_id', 'R', 'C', 'time_step', 'u_in', 'u_out', 'pressure'], dtype='object')\n"
          ]
        }
      ],
      "source": [
        "print(train.columns)"
      ],
      "id": "I_vH_vdB9PbG"
    },
    {
      "cell_type": "code",
      "execution_count": 50,
      "metadata": {
        "colab": {
          "base_uri": "https://localhost:8080/"
        },
        "id": "wCjQTLQlVMp8",
        "outputId": "839172aa-b9f1-447e-8a27-ac051fb92250"
      },
      "outputs": [
        {
          "output_type": "execute_result",
          "data": {
            "text/plain": [
              "(6036000, 7)"
            ]
          },
          "metadata": {},
          "execution_count": 50
        }
      ],
      "source": [
        "train.shape"
      ],
      "id": "wCjQTLQlVMp8"
    },
    {
      "cell_type": "code",
      "execution_count": 51,
      "metadata": {
        "colab": {
          "base_uri": "https://localhost:8080/"
        },
        "id": "sh_Gj84nVixo",
        "outputId": "5bd67446-809e-414c-dfc0-94dd274c5928"
      },
      "outputs": [
        {
          "output_type": "stream",
          "name": "stdout",
          "text": [
            "24144000\n"
          ]
        }
      ],
      "source": [
        "print(train[feature_cols].values.size)"
      ],
      "id": "sh_Gj84nVixo"
    },
    {
      "cell_type": "code",
      "execution_count": 52,
      "metadata": {
        "id": "VeHJ_-qTW96r",
        "colab": {
          "base_uri": "https://localhost:8080/"
        },
        "outputId": "db13f0ed-8a91-41af-f114-a983c7c0c4ce"
      },
      "outputs": [
        {
          "output_type": "stream",
          "name": "stdout",
          "text": [
            "(75450, 80, 4) (75450, 80)\n"
          ]
        }
      ],
      "source": [
        "n_steps = 80\n",
        "n_features = len(feature_cols)\n",
        "target_column_name = 'pressure'  # Replace with the actual target column name\n",
        "\n",
        "# Assuming \"train\" is a DataFrame containing your training data\n",
        "n_samples_train = len(train) // n_steps  # Calculate the number of breaths\n",
        "y_train = train[target_column_name].values[:n_samples_train * n_steps].reshape(-1, n_steps)\n",
        "X_train = train[feature_cols].values[:n_samples_train * n_steps].reshape(-1, n_steps, n_features)\n",
        "\n",
        "print(X_train.shape, y_train.shape)"
      ],
      "id": "VeHJ_-qTW96r"
    },
    {
      "cell_type": "code",
      "execution_count": 53,
      "metadata": {
        "colab": {
          "base_uri": "https://localhost:8080/"
        },
        "id": "2e010347",
        "outputId": "c582de4a-4955-4a06-806e-7c3e933be259"
      },
      "outputs": [
        {
          "output_type": "stream",
          "name": "stdout",
          "text": [
            "Model: \"sequential_2\"\n",
            "_________________________________________________________________\n",
            " Layer (type)                Output Shape              Param #   \n",
            "=================================================================\n",
            " bidirectional_8 (Bidirectio  (None, 80, 300)          140400    \n",
            " nal)                                                            \n",
            "                                                                 \n",
            " bidirectional_9 (Bidirectio  (None, 80, 300)          406800    \n",
            " nal)                                                            \n",
            "                                                                 \n",
            " bidirectional_10 (Bidirecti  (None, 80, 300)          406800    \n",
            " onal)                                                           \n",
            "                                                                 \n",
            " bidirectional_11 (Bidirecti  (None, 80, 300)          406800    \n",
            " onal)                                                           \n",
            "                                                                 \n",
            " dropout_2 (Dropout)         (None, 80, 300)           0         \n",
            "                                                                 \n",
            " flatten_2 (Flatten)         (None, 24000)             0         \n",
            "                                                                 \n",
            " dense_8 (Dense)             (None, 128)               3072128   \n",
            "                                                                 \n",
            " dense_9 (Dense)             (None, 256)               33024     \n",
            "                                                                 \n",
            " dense_10 (Dense)            (None, 512)               131584    \n",
            "                                                                 \n",
            " dense_11 (Dense)            (None, 80)                41040     \n",
            "                                                                 \n",
            "=================================================================\n",
            "Total params: 4,638,576\n",
            "Trainable params: 4,638,576\n",
            "Non-trainable params: 0\n",
            "_________________________________________________________________\n"
          ]
        }
      ],
      "source": [
        "def get_bigru_model():\n",
        "    act = \"swish\"\n",
        "    model = tf.keras.Sequential([\n",
        "        layers.InputLayer(input_shape=(n_steps, n_features)),\n",
        "        layers.Bidirectional(layers.GRU(150, return_sequences=True)),\n",
        "        layers.Bidirectional(layers.GRU(150, return_sequences=True)),\n",
        "        layers.Bidirectional(layers.GRU(150, return_sequences=True)),\n",
        "        layers.Bidirectional(layers.GRU(150, return_sequences=True)),\n",
        "        layers.Dropout(0.2),\n",
        "        layers.Flatten(),\n",
        "        layers.Dense(128, activation=act),\n",
        "        layers.Dense(256, activation=act),\n",
        "        layers.Dense(512, activation=act),\n",
        "        layers.Dense(80)\n",
        "    ])\n",
        "    return model\n",
        "\n",
        "bigru_model = get_bigru_model()\n",
        "bigru_model.compile(optimizer=\"adam\", loss=\"mae\")\n",
        "\n",
        "bigru_model.summary()"
      ],
      "id": "2e010347"
    },
    {
      "cell_type": "markdown",
      "metadata": {
        "id": "d046cc5a"
      },
      "source": [
        "# Train Model"
      ],
      "id": "d046cc5a"
    },
    {
      "cell_type": "code",
      "execution_count": 54,
      "metadata": {
        "colab": {
          "base_uri": "https://localhost:8080/"
        },
        "id": "bbbc49fc",
        "outputId": "f3706ada-1da0-4cd6-87da-06fcc36439cd"
      },
      "outputs": [
        {
          "output_type": "stream",
          "name": "stdout",
          "text": [
            "Epoch 1/200\n",
            "118/118 [==============================] - 47s 226ms/step - loss: 2.1557 - val_loss: 1.1984 - lr: 0.0010\n",
            "Epoch 2/200\n",
            "118/118 [==============================] - 24s 199ms/step - loss: 1.0859 - val_loss: 1.1387 - lr: 9.9885e-04\n",
            "Epoch 3/200\n",
            "118/118 [==============================] - 24s 205ms/step - loss: 0.9018 - val_loss: 1.0625 - lr: 9.9770e-04\n",
            "Epoch 4/200\n",
            "118/118 [==============================] - 25s 211ms/step - loss: 0.8171 - val_loss: 0.7468 - lr: 9.9655e-04\n",
            "Epoch 5/200\n",
            "118/118 [==============================] - 25s 215ms/step - loss: 0.7272 - val_loss: 0.6799 - lr: 9.9541e-04\n",
            "Epoch 6/200\n",
            "118/118 [==============================] - 25s 210ms/step - loss: 0.6591 - val_loss: 0.6205 - lr: 9.9426e-04\n",
            "Epoch 7/200\n",
            "118/118 [==============================] - 25s 211ms/step - loss: 0.6460 - val_loss: 0.6030 - lr: 9.9312e-04\n",
            "Epoch 8/200\n",
            "118/118 [==============================] - 25s 212ms/step - loss: 0.6014 - val_loss: 0.5540 - lr: 9.9197e-04\n",
            "Epoch 9/200\n",
            "118/118 [==============================] - 25s 211ms/step - loss: 0.5822 - val_loss: 0.5443 - lr: 9.9083e-04\n",
            "Epoch 10/200\n",
            "118/118 [==============================] - 25s 211ms/step - loss: 0.5667 - val_loss: 0.5337 - lr: 9.8969e-04\n",
            "Epoch 11/200\n",
            "118/118 [==============================] - 25s 211ms/step - loss: 0.5545 - val_loss: 0.5160 - lr: 9.8855e-04\n",
            "Epoch 12/200\n",
            "118/118 [==============================] - 25s 211ms/step - loss: 0.5249 - val_loss: 0.5787 - lr: 9.8742e-04\n",
            "Epoch 13/200\n",
            "118/118 [==============================] - 25s 211ms/step - loss: 0.5476 - val_loss: 0.5115 - lr: 9.8628e-04\n",
            "Epoch 14/200\n",
            "118/118 [==============================] - 25s 211ms/step - loss: 0.5195 - val_loss: 0.4837 - lr: 9.8514e-04\n",
            "Epoch 15/200\n",
            "118/118 [==============================] - 25s 211ms/step - loss: 0.5029 - val_loss: 0.5295 - lr: 9.8401e-04\n",
            "Epoch 16/200\n",
            "118/118 [==============================] - 25s 211ms/step - loss: 0.5026 - val_loss: 0.4730 - lr: 9.8288e-04\n",
            "Epoch 17/200\n",
            "118/118 [==============================] - 25s 211ms/step - loss: 0.4909 - val_loss: 0.6041 - lr: 9.8175e-04\n",
            "Epoch 18/200\n",
            "118/118 [==============================] - 25s 211ms/step - loss: 0.4840 - val_loss: 0.4750 - lr: 9.8062e-04\n",
            "Epoch 19/200\n",
            "118/118 [==============================] - 25s 212ms/step - loss: 0.4724 - val_loss: 0.4656 - lr: 9.7949e-04\n",
            "Epoch 20/200\n",
            "118/118 [==============================] - 25s 212ms/step - loss: 0.4714 - val_loss: 0.4478 - lr: 9.7836e-04\n",
            "Epoch 21/200\n",
            "118/118 [==============================] - 25s 212ms/step - loss: 0.4640 - val_loss: 0.4741 - lr: 9.7724e-04\n",
            "Epoch 22/200\n",
            "118/118 [==============================] - 25s 211ms/step - loss: 0.4678 - val_loss: 0.4497 - lr: 9.7611e-04\n",
            "Epoch 23/200\n",
            "118/118 [==============================] - 25s 211ms/step - loss: 0.4552 - val_loss: 0.4503 - lr: 9.7499e-04\n",
            "Epoch 24/200\n",
            "118/118 [==============================] - 25s 211ms/step - loss: 0.4430 - val_loss: 0.4752 - lr: 9.7387e-04\n",
            "Epoch 25/200\n",
            "118/118 [==============================] - 25s 211ms/step - loss: 0.4465 - val_loss: 0.4253 - lr: 9.7275e-04\n",
            "Epoch 26/200\n",
            "118/118 [==============================] - 25s 211ms/step - loss: 0.4294 - val_loss: 0.4218 - lr: 9.7163e-04\n",
            "Epoch 27/200\n",
            "118/118 [==============================] - 25s 211ms/step - loss: 0.4310 - val_loss: 0.4155 - lr: 9.7051e-04\n",
            "Epoch 28/200\n",
            "118/118 [==============================] - 25s 210ms/step - loss: 0.4202 - val_loss: 0.4428 - lr: 9.6939e-04\n",
            "Epoch 29/200\n",
            "118/118 [==============================] - 25s 211ms/step - loss: 0.4376 - val_loss: 0.4080 - lr: 9.6828e-04\n",
            "Epoch 30/200\n",
            "118/118 [==============================] - 25s 211ms/step - loss: 0.4162 - val_loss: 0.4108 - lr: 9.6716e-04\n",
            "Epoch 31/200\n",
            "118/118 [==============================] - 25s 211ms/step - loss: 0.4146 - val_loss: 0.4365 - lr: 9.6605e-04\n",
            "Epoch 32/200\n",
            "118/118 [==============================] - 25s 211ms/step - loss: 0.4166 - val_loss: 0.3929 - lr: 9.6494e-04\n",
            "Epoch 33/200\n",
            "118/118 [==============================] - 25s 210ms/step - loss: 0.4046 - val_loss: 0.4244 - lr: 9.6383e-04\n",
            "Epoch 34/200\n",
            "118/118 [==============================] - 25s 211ms/step - loss: 0.3978 - val_loss: 0.3816 - lr: 9.6272e-04\n",
            "Epoch 35/200\n",
            "118/118 [==============================] - 25s 210ms/step - loss: 0.3954 - val_loss: 0.4047 - lr: 9.6161e-04\n",
            "Epoch 36/200\n",
            "118/118 [==============================] - 25s 211ms/step - loss: 0.4009 - val_loss: 0.4059 - lr: 9.6051e-04\n",
            "Epoch 37/200\n",
            "118/118 [==============================] - 25s 211ms/step - loss: 0.3945 - val_loss: 0.3806 - lr: 9.5940e-04\n",
            "Epoch 38/200\n",
            "118/118 [==============================] - 25s 210ms/step - loss: 0.3884 - val_loss: 0.3904 - lr: 9.5830e-04\n",
            "Epoch 39/200\n",
            "118/118 [==============================] - 25s 211ms/step - loss: 0.3946 - val_loss: 0.3906 - lr: 9.5719e-04\n",
            "Epoch 40/200\n",
            "118/118 [==============================] - 26s 217ms/step - loss: 0.3880 - val_loss: 0.3735 - lr: 9.5609e-04\n",
            "Epoch 41/200\n",
            "118/118 [==============================] - 25s 211ms/step - loss: 0.3761 - val_loss: 0.3830 - lr: 9.5499e-04\n",
            "Epoch 42/200\n",
            "118/118 [==============================] - 25s 212ms/step - loss: 0.3790 - val_loss: 0.4143 - lr: 9.5389e-04\n",
            "Epoch 43/200\n",
            "118/118 [==============================] - 25s 212ms/step - loss: 0.3758 - val_loss: 0.3920 - lr: 9.5280e-04\n",
            "Epoch 44/200\n",
            "118/118 [==============================] - 25s 211ms/step - loss: 0.3721 - val_loss: 0.4088 - lr: 9.5170e-04\n",
            "Epoch 45/200\n",
            "118/118 [==============================] - 25s 211ms/step - loss: 0.3729 - val_loss: 0.3800 - lr: 9.5060e-04\n",
            "Epoch 46/200\n",
            "118/118 [==============================] - 25s 211ms/step - loss: 0.3713 - val_loss: 0.3593 - lr: 9.4951e-04\n",
            "Epoch 47/200\n",
            "118/118 [==============================] - 25s 211ms/step - loss: 0.3629 - val_loss: 0.3623 - lr: 9.4842e-04\n",
            "Epoch 48/200\n",
            "118/118 [==============================] - 25s 211ms/step - loss: 0.3589 - val_loss: 0.3650 - lr: 9.4733e-04\n",
            "Epoch 49/200\n",
            "118/118 [==============================] - 25s 211ms/step - loss: 0.3630 - val_loss: 0.3935 - lr: 9.4624e-04\n",
            "Epoch 50/200\n",
            "118/118 [==============================] - 25s 211ms/step - loss: 0.3554 - val_loss: 0.3534 - lr: 9.4515e-04\n",
            "Epoch 51/200\n",
            "118/118 [==============================] - 25s 211ms/step - loss: 0.3548 - val_loss: 0.3749 - lr: 9.4406e-04\n",
            "Epoch 52/200\n",
            "118/118 [==============================] - 26s 217ms/step - loss: 0.3550 - val_loss: 0.3504 - lr: 9.4297e-04\n",
            "Epoch 53/200\n",
            "118/118 [==============================] - 25s 211ms/step - loss: 0.3511 - val_loss: 0.3810 - lr: 9.4189e-04\n",
            "Epoch 54/200\n",
            "118/118 [==============================] - 25s 211ms/step - loss: 0.3624 - val_loss: 0.3473 - lr: 9.4081e-04\n",
            "Epoch 55/200\n",
            "118/118 [==============================] - 25s 212ms/step - loss: 0.3517 - val_loss: 0.3638 - lr: 9.3972e-04\n",
            "Epoch 56/200\n",
            "118/118 [==============================] - 25s 211ms/step - loss: 0.3513 - val_loss: 0.3431 - lr: 9.3864e-04\n",
            "Epoch 57/200\n",
            "118/118 [==============================] - 25s 211ms/step - loss: 0.3456 - val_loss: 0.3691 - lr: 9.3756e-04\n",
            "Epoch 58/200\n",
            "118/118 [==============================] - 25s 211ms/step - loss: 0.3504 - val_loss: 0.3453 - lr: 9.3648e-04\n",
            "Epoch 59/200\n",
            "118/118 [==============================] - 25s 211ms/step - loss: 0.3401 - val_loss: 0.3645 - lr: 9.3541e-04\n",
            "Epoch 60/200\n",
            "118/118 [==============================] - 25s 211ms/step - loss: 0.3416 - val_loss: 0.3401 - lr: 9.3433e-04\n",
            "Epoch 61/200\n",
            "118/118 [==============================] - 25s 211ms/step - loss: 0.3357 - val_loss: 0.3421 - lr: 9.3325e-04\n",
            "Epoch 62/200\n",
            "118/118 [==============================] - 25s 211ms/step - loss: 0.3357 - val_loss: 0.3386 - lr: 9.3218e-04\n",
            "Epoch 63/200\n",
            "118/118 [==============================] - 25s 211ms/step - loss: 0.3344 - val_loss: 0.3392 - lr: 9.3111e-04\n",
            "Epoch 64/200\n",
            "118/118 [==============================] - 25s 211ms/step - loss: 0.3388 - val_loss: 0.3628 - lr: 9.3004e-04\n",
            "Epoch 65/200\n",
            "118/118 [==============================] - 25s 211ms/step - loss: 0.3298 - val_loss: 0.3313 - lr: 9.2897e-04\n",
            "Epoch 66/200\n",
            "118/118 [==============================] - 25s 211ms/step - loss: 0.3300 - val_loss: 0.3742 - lr: 9.2790e-04\n",
            "Epoch 67/200\n",
            "118/118 [==============================] - 25s 211ms/step - loss: 0.3276 - val_loss: 0.3561 - lr: 9.2683e-04\n",
            "Epoch 68/200\n",
            "118/118 [==============================] - 25s 212ms/step - loss: 0.3300 - val_loss: 0.3380 - lr: 9.2576e-04\n",
            "Epoch 69/200\n",
            "118/118 [==============================] - 25s 212ms/step - loss: 0.3247 - val_loss: 0.3304 - lr: 9.2470e-04\n",
            "Epoch 70/200\n",
            "118/118 [==============================] - 25s 211ms/step - loss: 0.3267 - val_loss: 0.3403 - lr: 9.2363e-04\n",
            "Epoch 71/200\n",
            "118/118 [==============================] - 25s 211ms/step - loss: 0.3284 - val_loss: 0.3504 - lr: 9.2257e-04\n",
            "Epoch 72/200\n",
            "118/118 [==============================] - 25s 211ms/step - loss: 0.3235 - val_loss: 0.3320 - lr: 9.2151e-04\n",
            "Epoch 73/200\n",
            "118/118 [==============================] - 25s 211ms/step - loss: 0.3201 - val_loss: 0.3361 - lr: 9.2045e-04\n",
            "Epoch 74/200\n",
            "118/118 [==============================] - 25s 211ms/step - loss: 0.3185 - val_loss: 0.3347 - lr: 9.1939e-04\n",
            "Epoch 75/200\n",
            "118/118 [==============================] - 25s 211ms/step - loss: 0.3413 - val_loss: 0.3272 - lr: 9.1833e-04\n",
            "Epoch 76/200\n",
            "118/118 [==============================] - 25s 211ms/step - loss: 0.3157 - val_loss: 0.3319 - lr: 9.1728e-04\n",
            "Epoch 77/200\n",
            "118/118 [==============================] - 25s 211ms/step - loss: 0.3125 - val_loss: 0.3303 - lr: 9.1622e-04\n",
            "Epoch 78/200\n",
            "118/118 [==============================] - 25s 211ms/step - loss: 0.3114 - val_loss: 0.3264 - lr: 9.1517e-04\n",
            "Epoch 79/200\n",
            "118/118 [==============================] - 25s 212ms/step - loss: 0.3112 - val_loss: 0.3322 - lr: 9.1411e-04\n",
            "Epoch 80/200\n",
            "118/118 [==============================] - 25s 211ms/step - loss: 0.3118 - val_loss: 0.3269 - lr: 9.1306e-04\n",
            "Epoch 81/200\n",
            "118/118 [==============================] - 25s 211ms/step - loss: 0.3057 - val_loss: 0.3175 - lr: 9.1201e-04\n",
            "Epoch 82/200\n",
            "118/118 [==============================] - 25s 211ms/step - loss: 0.3086 - val_loss: 0.3257 - lr: 9.1096e-04\n",
            "Epoch 83/200\n",
            "118/118 [==============================] - 25s 211ms/step - loss: 0.3097 - val_loss: 0.3226 - lr: 9.0991e-04\n",
            "Epoch 84/200\n",
            "118/118 [==============================] - 25s 211ms/step - loss: 0.3054 - val_loss: 0.3163 - lr: 9.0887e-04\n",
            "Epoch 85/200\n",
            "118/118 [==============================] - 25s 211ms/step - loss: 0.3050 - val_loss: 0.3152 - lr: 9.0782e-04\n",
            "Epoch 86/200\n",
            "118/118 [==============================] - 25s 211ms/step - loss: 0.3107 - val_loss: 0.3408 - lr: 9.0678e-04\n",
            "Epoch 87/200\n",
            "118/118 [==============================] - 25s 211ms/step - loss: 0.3072 - val_loss: 0.3242 - lr: 9.0573e-04\n",
            "Epoch 88/200\n",
            "118/118 [==============================] - 25s 211ms/step - loss: 0.3030 - val_loss: 0.3125 - lr: 9.0469e-04\n",
            "Epoch 89/200\n",
            "118/118 [==============================] - 25s 211ms/step - loss: 0.2995 - val_loss: 0.3237 - lr: 9.0365e-04\n",
            "Epoch 90/200\n",
            "118/118 [==============================] - 25s 211ms/step - loss: 0.3044 - val_loss: 0.3159 - lr: 9.0261e-04\n",
            "Epoch 91/200\n",
            "118/118 [==============================] - 25s 211ms/step - loss: 0.2943 - val_loss: 0.3137 - lr: 9.0157e-04\n",
            "Epoch 92/200\n",
            "118/118 [==============================] - 25s 211ms/step - loss: 0.2954 - val_loss: 0.3194 - lr: 9.0053e-04\n",
            "Epoch 93/200\n",
            "118/118 [==============================] - 25s 211ms/step - loss: 0.2973 - val_loss: 0.3191 - lr: 8.9950e-04\n",
            "Epoch 94/200\n",
            "118/118 [==============================] - 25s 211ms/step - loss: 0.2936 - val_loss: 0.3152 - lr: 8.9846e-04\n",
            "Epoch 95/200\n",
            "118/118 [==============================] - 25s 211ms/step - loss: 0.2924 - val_loss: 0.3210 - lr: 8.9743e-04\n",
            "Epoch 96/200\n",
            "118/118 [==============================] - 25s 211ms/step - loss: 0.2942 - val_loss: 0.3383 - lr: 8.9640e-04\n",
            "Epoch 97/200\n",
            "118/118 [==============================] - 25s 211ms/step - loss: 0.2934 - val_loss: 0.3296 - lr: 8.9536e-04\n",
            "Epoch 98/200\n",
            "118/118 [==============================] - 25s 211ms/step - loss: 0.2903 - val_loss: 0.3099 - lr: 8.9433e-04\n",
            "Epoch 99/200\n",
            "118/118 [==============================] - 25s 211ms/step - loss: 0.2937 - val_loss: 0.3136 - lr: 8.9331e-04\n",
            "Epoch 100/200\n",
            "118/118 [==============================] - 25s 211ms/step - loss: 0.2863 - val_loss: 0.3092 - lr: 8.9228e-04\n",
            "Epoch 101/200\n",
            "118/118 [==============================] - 25s 211ms/step - loss: 0.2852 - val_loss: 0.3164 - lr: 8.9125e-04\n",
            "Epoch 102/200\n",
            "118/118 [==============================] - 25s 211ms/step - loss: 0.2866 - val_loss: 0.3060 - lr: 8.9023e-04\n",
            "Epoch 103/200\n",
            "118/118 [==============================] - 25s 211ms/step - loss: 0.2907 - val_loss: 0.3121 - lr: 8.8920e-04\n",
            "Epoch 104/200\n",
            "118/118 [==============================] - 25s 212ms/step - loss: 0.2913 - val_loss: 0.3454 - lr: 8.8818e-04\n",
            "Epoch 105/200\n",
            "118/118 [==============================] - 25s 212ms/step - loss: 0.2815 - val_loss: 0.3110 - lr: 8.8716e-04\n",
            "Epoch 106/200\n",
            "118/118 [==============================] - 25s 211ms/step - loss: 0.2829 - val_loss: 0.3092 - lr: 8.8614e-04\n",
            "Epoch 107/200\n",
            "118/118 [==============================] - 25s 212ms/step - loss: 0.2818 - val_loss: 0.3025 - lr: 8.8512e-04\n",
            "Epoch 108/200\n",
            "118/118 [==============================] - 25s 211ms/step - loss: 0.2798 - val_loss: 0.3061 - lr: 8.8410e-04\n",
            "Epoch 109/200\n",
            "118/118 [==============================] - 25s 212ms/step - loss: 0.2786 - val_loss: 0.3134 - lr: 8.8308e-04\n",
            "Epoch 110/200\n",
            "118/118 [==============================] - 25s 213ms/step - loss: 0.2830 - val_loss: 0.3146 - lr: 8.8206e-04\n",
            "Epoch 111/200\n",
            "118/118 [==============================] - 25s 213ms/step - loss: 0.2790 - val_loss: 0.3007 - lr: 8.8105e-04\n",
            "Epoch 112/200\n",
            "118/118 [==============================] - 25s 212ms/step - loss: 0.2761 - val_loss: 0.3173 - lr: 8.8004e-04\n",
            "Epoch 113/200\n",
            "118/118 [==============================] - 25s 212ms/step - loss: 0.2774 - val_loss: 0.3149 - lr: 8.7902e-04\n",
            "Epoch 114/200\n",
            "118/118 [==============================] - 25s 212ms/step - loss: 0.2738 - val_loss: 0.2995 - lr: 8.7801e-04\n",
            "Epoch 115/200\n",
            "118/118 [==============================] - 25s 212ms/step - loss: 0.2810 - val_loss: 0.2996 - lr: 8.7700e-04\n",
            "Epoch 116/200\n",
            "118/118 [==============================] - 25s 211ms/step - loss: 0.2787 - val_loss: 0.3099 - lr: 8.7599e-04\n",
            "Epoch 117/200\n",
            "118/118 [==============================] - 25s 211ms/step - loss: 0.2788 - val_loss: 0.3274 - lr: 8.7498e-04\n",
            "Epoch 118/200\n",
            "118/118 [==============================] - 25s 211ms/step - loss: 0.2725 - val_loss: 0.3152 - lr: 8.7398e-04\n",
            "Epoch 119/200\n",
            "118/118 [==============================] - 25s 212ms/step - loss: 0.2761 - val_loss: 0.3038 - lr: 8.7297e-04\n",
            "Epoch 120/200\n",
            "118/118 [==============================] - 25s 212ms/step - loss: 0.2749 - val_loss: 0.3010 - lr: 8.7197e-04\n",
            "Epoch 121/200\n",
            "118/118 [==============================] - 25s 211ms/step - loss: 0.2717 - val_loss: 0.3003 - lr: 8.7096e-04\n",
            "Epoch 122/200\n",
            "118/118 [==============================] - 25s 212ms/step - loss: 0.2686 - val_loss: 0.3258 - lr: 8.6996e-04\n",
            "Epoch 123/200\n",
            "118/118 [==============================] - 25s 212ms/step - loss: 0.2730 - val_loss: 0.2985 - lr: 8.6896e-04\n",
            "Epoch 124/200\n",
            "118/118 [==============================] - 25s 212ms/step - loss: 0.2666 - val_loss: 0.3034 - lr: 8.6796e-04\n",
            "Epoch 125/200\n",
            "118/118 [==============================] - 25s 212ms/step - loss: 0.2677 - val_loss: 0.3039 - lr: 8.6696e-04\n",
            "Epoch 126/200\n",
            "118/118 [==============================] - 25s 211ms/step - loss: 0.2660 - val_loss: 0.3008 - lr: 8.6596e-04\n",
            "Epoch 127/200\n",
            "118/118 [==============================] - 25s 211ms/step - loss: 0.2649 - val_loss: 0.2962 - lr: 8.6497e-04\n",
            "Epoch 128/200\n",
            "118/118 [==============================] - 25s 212ms/step - loss: 0.2674 - val_loss: 0.3046 - lr: 8.6397e-04\n",
            "Epoch 129/200\n",
            "118/118 [==============================] - 25s 213ms/step - loss: 0.2654 - val_loss: 0.2996 - lr: 8.6298e-04\n",
            "Epoch 130/200\n",
            "118/118 [==============================] - 25s 212ms/step - loss: 0.2629 - val_loss: 0.2987 - lr: 8.6199e-04\n",
            "Epoch 131/200\n",
            "118/118 [==============================] - 25s 212ms/step - loss: 0.2693 - val_loss: 0.2939 - lr: 8.6099e-04\n",
            "Epoch 132/200\n",
            "118/118 [==============================] - 25s 212ms/step - loss: 0.2625 - val_loss: 0.2930 - lr: 8.6000e-04\n",
            "Epoch 133/200\n",
            "118/118 [==============================] - 25s 211ms/step - loss: 0.2622 - val_loss: 0.2932 - lr: 8.5901e-04\n",
            "Epoch 134/200\n",
            "118/118 [==============================] - 25s 211ms/step - loss: 0.2636 - val_loss: 0.3010 - lr: 8.5803e-04\n",
            "Epoch 135/200\n",
            "118/118 [==============================] - 25s 211ms/step - loss: 0.2603 - val_loss: 0.3034 - lr: 8.5704e-04\n",
            "Epoch 136/200\n",
            "118/118 [==============================] - 25s 211ms/step - loss: 0.2621 - val_loss: 0.3032 - lr: 8.5605e-04\n",
            "Epoch 137/200\n",
            "118/118 [==============================] - 25s 211ms/step - loss: 0.2599 - val_loss: 0.2955 - lr: 8.5507e-04\n",
            "Epoch 138/200\n",
            "118/118 [==============================] - 25s 211ms/step - loss: 0.2584 - val_loss: 0.2963 - lr: 8.5408e-04\n",
            "Epoch 139/200\n",
            "118/118 [==============================] - 25s 211ms/step - loss: 0.2594 - val_loss: 0.2921 - lr: 8.5310e-04\n",
            "Epoch 140/200\n",
            "118/118 [==============================] - 25s 212ms/step - loss: 0.2556 - val_loss: 0.2945 - lr: 8.5212e-04\n",
            "Epoch 141/200\n",
            "118/118 [==============================] - 25s 211ms/step - loss: 0.2560 - val_loss: 0.3007 - lr: 8.5114e-04\n",
            "Epoch 142/200\n",
            "118/118 [==============================] - 25s 211ms/step - loss: 0.2572 - val_loss: 0.2924 - lr: 8.5016e-04\n",
            "Epoch 143/200\n",
            "118/118 [==============================] - 25s 211ms/step - loss: 0.2556 - val_loss: 0.2936 - lr: 8.4918e-04\n",
            "Epoch 144/200\n",
            "118/118 [==============================] - 25s 212ms/step - loss: 0.2624 - val_loss: 0.3060 - lr: 8.4820e-04\n",
            "Epoch 145/200\n",
            "118/118 [==============================] - 25s 211ms/step - loss: 0.2555 - val_loss: 0.2935 - lr: 8.4723e-04\n",
            "Epoch 146/200\n",
            "118/118 [==============================] - 25s 212ms/step - loss: 0.2573 - val_loss: 0.3027 - lr: 8.4625e-04\n",
            "Epoch 147/200\n",
            "118/118 [==============================] - 25s 212ms/step - loss: 0.2520 - val_loss: 0.2927 - lr: 8.4528e-04\n",
            "Epoch 148/200\n",
            "118/118 [==============================] - 25s 211ms/step - loss: 0.2514 - val_loss: 0.2906 - lr: 8.4431e-04\n",
            "Epoch 149/200\n",
            "118/118 [==============================] - 25s 212ms/step - loss: 0.2536 - val_loss: 0.2962 - lr: 8.4333e-04\n",
            "Epoch 150/200\n",
            "118/118 [==============================] - 25s 212ms/step - loss: 0.2544 - val_loss: 0.2906 - lr: 8.4236e-04\n",
            "Epoch 151/200\n",
            "118/118 [==============================] - 25s 212ms/step - loss: 0.2498 - val_loss: 0.2858 - lr: 8.4140e-04\n",
            "Epoch 152/200\n",
            "118/118 [==============================] - 25s 211ms/step - loss: 0.2483 - val_loss: 0.2872 - lr: 8.4043e-04\n",
            "Epoch 153/200\n",
            "118/118 [==============================] - 25s 212ms/step - loss: 0.2487 - val_loss: 0.2926 - lr: 8.3946e-04\n",
            "Epoch 154/200\n",
            "118/118 [==============================] - 25s 211ms/step - loss: 0.2490 - val_loss: 0.2924 - lr: 8.3849e-04\n",
            "Epoch 155/200\n",
            "118/118 [==============================] - 25s 212ms/step - loss: 0.2503 - val_loss: 0.3042 - lr: 8.3753e-04\n",
            "Epoch 156/200\n",
            "118/118 [==============================] - 25s 211ms/step - loss: 0.2494 - val_loss: 0.2910 - lr: 8.3657e-04\n",
            "Epoch 157/200\n",
            "118/118 [==============================] - 25s 211ms/step - loss: 0.2518 - val_loss: 0.2893 - lr: 8.3560e-04\n",
            "Epoch 158/200\n",
            "118/118 [==============================] - 26s 217ms/step - loss: 0.2472 - val_loss: 0.2879 - lr: 8.3464e-04\n",
            "Epoch 159/200\n",
            "118/118 [==============================] - 25s 211ms/step - loss: 0.2455 - val_loss: 0.2931 - lr: 8.3368e-04\n",
            "Epoch 160/200\n",
            "118/118 [==============================] - 25s 211ms/step - loss: 0.2506 - val_loss: 0.2852 - lr: 8.3272e-04\n",
            "Epoch 161/200\n",
            "118/118 [==============================] - 25s 210ms/step - loss: 0.2453 - val_loss: 0.2894 - lr: 8.3176e-04\n",
            "Epoch 162/200\n",
            "118/118 [==============================] - 25s 211ms/step - loss: 0.2475 - val_loss: 0.2881 - lr: 8.3081e-04\n",
            "Epoch 163/200\n",
            "118/118 [==============================] - 25s 212ms/step - loss: 0.2443 - val_loss: 0.2960 - lr: 8.2985e-04\n",
            "Epoch 164/200\n",
            "118/118 [==============================] - 25s 211ms/step - loss: 0.2441 - val_loss: 0.2869 - lr: 8.2890e-04\n",
            "Epoch 165/200\n",
            "118/118 [==============================] - 25s 211ms/step - loss: 0.2434 - val_loss: 0.2884 - lr: 8.2794e-04\n",
            "Epoch 166/200\n",
            "118/118 [==============================] - 25s 211ms/step - loss: 0.2443 - val_loss: 0.2880 - lr: 8.2699e-04\n",
            "Epoch 167/200\n",
            "118/118 [==============================] - 25s 212ms/step - loss: 0.2413 - val_loss: 0.2834 - lr: 8.2604e-04\n",
            "Epoch 168/200\n",
            "118/118 [==============================] - 25s 212ms/step - loss: 0.2424 - val_loss: 0.2863 - lr: 8.2509e-04\n",
            "Epoch 169/200\n",
            "118/118 [==============================] - 25s 212ms/step - loss: 0.2418 - val_loss: 0.2822 - lr: 8.2414e-04\n",
            "Epoch 170/200\n",
            "118/118 [==============================] - 25s 211ms/step - loss: 0.2436 - val_loss: 0.2838 - lr: 8.2319e-04\n",
            "Epoch 171/200\n",
            "118/118 [==============================] - 25s 211ms/step - loss: 0.2390 - val_loss: 0.2844 - lr: 8.2224e-04\n",
            "Epoch 172/200\n",
            "118/118 [==============================] - 25s 212ms/step - loss: 0.2382 - val_loss: 0.2822 - lr: 8.2130e-04\n",
            "Epoch 173/200\n",
            "118/118 [==============================] - 25s 212ms/step - loss: 0.2444 - val_loss: 0.2951 - lr: 8.2035e-04\n",
            "Epoch 174/200\n",
            "118/118 [==============================] - 25s 212ms/step - loss: 0.2367 - val_loss: 0.2808 - lr: 8.1941e-04\n",
            "Epoch 175/200\n",
            "118/118 [==============================] - 25s 212ms/step - loss: 0.2372 - val_loss: 0.2790 - lr: 8.1846e-04\n",
            "Epoch 176/200\n",
            "118/118 [==============================] - 25s 211ms/step - loss: 0.2382 - val_loss: 0.2886 - lr: 8.1752e-04\n",
            "Epoch 177/200\n",
            "118/118 [==============================] - 25s 211ms/step - loss: 0.2403 - val_loss: 0.2858 - lr: 8.1658e-04\n",
            "Epoch 178/200\n",
            "118/118 [==============================] - 25s 211ms/step - loss: 0.2387 - val_loss: 0.2838 - lr: 8.1564e-04\n",
            "Epoch 179/200\n",
            "118/118 [==============================] - 25s 211ms/step - loss: 0.2374 - val_loss: 0.2937 - lr: 8.1470e-04\n",
            "Epoch 180/200\n",
            "118/118 [==============================] - 25s 211ms/step - loss: 0.2376 - val_loss: 0.2861 - lr: 8.1377e-04\n",
            "Epoch 181/200\n",
            "118/118 [==============================] - 25s 212ms/step - loss: 0.2365 - val_loss: 0.2824 - lr: 8.1283e-04\n",
            "Epoch 182/200\n",
            "118/118 [==============================] - 25s 212ms/step - loss: 0.2356 - val_loss: 0.2883 - lr: 8.1190e-04\n",
            "Epoch 183/200\n",
            "118/118 [==============================] - 25s 212ms/step - loss: 0.2356 - val_loss: 0.2815 - lr: 8.1096e-04\n",
            "Epoch 184/200\n",
            "118/118 [==============================] - 25s 212ms/step - loss: 0.2370 - val_loss: 0.2948 - lr: 8.1003e-04\n",
            "Epoch 185/200\n",
            "118/118 [==============================] - 25s 213ms/step - loss: 0.2371 - val_loss: 0.2801 - lr: 8.0910e-04\n"
          ]
        }
      ],
      "source": [
        "scheduler = tf.keras.optimizers.schedules.ExponentialDecay(initial_learning_rate=1e-3, decay_steps=1e4, decay_rate=1e-5)\n",
        "cb_lr = tf.keras.callbacks.LearningRateScheduler(scheduler)\n",
        "cb_es = tf.keras.callbacks.EarlyStopping(monitor=\"val_loss\", patience=10, restore_best_weights=True)\n",
        "\n",
        "history = bigru_model.fit(X_train, y_train, validation_split=0.2, epochs=200, batch_size=512, callbacks=[cb_es, cb_lr])"
      ],
      "id": "bbbc49fc"
    },
    {
      "cell_type": "markdown",
      "metadata": {
        "id": "6d693f94"
      },
      "source": [
        "# Plot Metrics"
      ],
      "id": "6d693f94"
    },
    {
      "cell_type": "code",
      "execution_count": 55,
      "metadata": {
        "id": "9287b0b8",
        "colab": {
          "base_uri": "https://localhost:8080/",
          "height": 641
        },
        "outputId": "541c8f01-891c-4d5b-9c36-51540cd72a12"
      },
      "outputs": [
        {
          "output_type": "display_data",
          "data": {
            "text/plain": [
              "<Figure size 1600x700 with 1 Axes>"
            ],
            "image/png": "[encoded data removed]"
          },
          "metadata": {}
        }
      ],
      "source": [
        "plt.figure(figsize=(16,7))\n",
        "loss=history.history['loss']\n",
        "val_loss=history.history['val_loss']\n",
        "\n",
        "epochs=range(1,len(loss)+1)\n",
        "\n",
        "plt.plot(epochs, loss, 'r')\n",
        "plt.plot(epochs, val_loss, 'b')\n",
        "plt.legend([\"Training\", \"Validation\" ])\n",
        "plt.xlabel(\"Epochs\")\n",
        "plt.ylabel(\"Loss\")\n",
        "plt.title('Training and validation loss')\n",
        "\n",
        "plt.show()"
      ],
      "id": "9287b0b8"
    },
    {
      "cell_type": "markdown",
      "metadata": {
        "id": "bc594bea"
      },
      "source": [
        "# Plot"
      ],
      "id": "bc594bea"
    },
    {
      "cell_type": "code",
      "execution_count": 56,
      "metadata": {
        "id": "1bbc1fe9",
        "colab": {
          "base_uri": "https://localhost:8080/",
          "height": 482
        },
        "outputId": "3198d6a7-821e-4bd4-fa37-b33d34b221c9"
      },
      "outputs": [
        {
          "output_type": "stream",
          "name": "stdout",
          "text": [
            "1/1 [==============================] - 3s 3s/step\n"
          ]
        },
        {
          "output_type": "display_data",
          "data": {
            "text/plain": [
              "<Figure size 1000x500 with 1 Axes>"
            ],
            "image/png": "[encoded data removed]"
          },
          "metadata": {}
        }
      ],
      "source": [
        "idx = 1\n",
        "df_plot = train[train['breath_id'] == idx]\n",
        "p = bigru_model.predict(df_plot[feature_cols].values.reshape(-1, n_steps, n_features))\n",
        "x = range(len(df_plot))  # Use the length of df_plot for x values\n",
        "y = df_plot['pressure']\n",
        "plt.figure(figsize=(10, 5))\n",
        "sns.lineplot(x=x, y=y, label=\"Ground Truth\")\n",
        "sns.lineplot(x=x, y=p.reshape(-1), label=\"Predicted\")\n",
        "plt.legend()\n",
        "plt.ylabel(\"Pressure\")\n",
        "plt.xlabel(\"Time Steps\")\n",
        "plt.show()"
      ],
      "id": "1bbc1fe9"
    }
  ],
  "metadata": {
    "accelerator": "GPU",
    "colab": {
      "provenance": []
    },
    "kernelspec": {
      "display_name": "Python 3",
      "name": "python3"
    },
    "language_info": {
      "codemirror_mode": {
        "name": "ipython",
        "version": 3
      },
      "file_extension": ".py",
      "mimetype": "text/x-python",
      "name": "python",
      "nbconvert_exporter": "python",
      "pygments_lexer": "ipython3",
      "version": "3.7.10"
    },
    "papermill": {
      "default_parameters": {},
      "duration": 1210.180872,
      "end_time": "2021-09-28T19:47:16.260431",
      "environment_variables": {},
      "exception": null,
      "input_path": "__notebook__.ipynb",
      "output_path": "__notebook__.ipynb",
      "parameters": {},
      "start_time": "2021-09-28T19:27:06.079559",
      "version": "2.3.3"
    }
  },
  "nbformat": 4,
  "nbformat_minor": 5
}