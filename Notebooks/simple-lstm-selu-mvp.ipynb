{
 "cells": [
  {
   "cell_type": "code",
   "execution_count": 1,
   "id": "6fa708cc",
   "metadata": {
    "_cell_guid": "b1076dfc-b9ad-4769-8c92-a6c4dae69d19",
    "_uuid": "8f2839f25d086af736a60e9eeb907d3b93b6e0e5",
    "execution": {
     "iopub.execute_input": "2023-09-04T19:54:34.953809Z",
     "iopub.status.busy": "2023-09-04T19:54:34.953490Z",
     "iopub.status.idle": "2023-09-04T19:54:46.073473Z",
     "shell.execute_reply": "2023-09-04T19:54:46.072492Z"
    },
    "papermill": {
     "duration": 11.131968,
     "end_time": "2023-09-04T19:54:46.075906",
     "exception": false,
     "start_time": "2023-09-04T19:54:34.943938",
     "status": "completed"
    },
    "tags": []
   },
   "outputs": [
    {
     "name": "stderr",
     "output_type": "stream",
     "text": [
      "/opt/conda/lib/python3.10/site-packages/scipy/__init__.py:146: UserWarning: A NumPy version >=1.16.5 and <1.23.0 is required for this version of SciPy (detected version 1.23.5\n",
      "  warnings.warn(f\"A NumPy version >={np_minversion} and <{np_maxversion}\"\n"
     ]
    }
   ],
   "source": [
    "import os\n",
    "os.environ['TF_CPP_MIN_LOG_LEVEL'] = '3'\n",
    "\n",
    "import seaborn as sns\n",
    "import matplotlib.pyplot as plt\n",
    "%matplotlib inline\n",
    "sns.set_style(\"darkgrid\")\n",
    "\n",
    "import numpy as np\n",
    "import pandas as pd\n",
    "import tensorflow as tf\n",
    "from tensorflow.keras import layers\n",
    "from sklearn.preprocessing import RobustScaler"
   ]
  },
  {
   "cell_type": "code",
   "execution_count": 2,
   "id": "e7c30454",
   "metadata": {
    "execution": {
     "iopub.execute_input": "2023-09-04T19:54:46.091727Z",
     "iopub.status.busy": "2023-09-04T19:54:46.090523Z",
     "iopub.status.idle": "2023-09-04T19:54:59.950790Z",
     "shell.execute_reply": "2023-09-04T19:54:59.949666Z"
    },
    "papermill": {
     "duration": 13.870423,
     "end_time": "2023-09-04T19:54:59.953298",
     "exception": false,
     "start_time": "2023-09-04T19:54:46.082875",
     "status": "completed"
    },
    "tags": []
   },
   "outputs": [],
   "source": [
    "train = pd.read_csv(\"/kaggle/input/ventilator-pressure-prediction/train.csv\", index_col=[0])\n",
    "test = pd.read_csv(\"/kaggle/input/ventilator-pressure-prediction/test.csv\", index_col=[0])"
   ]
  },
  {
   "cell_type": "code",
   "execution_count": 3,
   "id": "6cf7f999",
   "metadata": {
    "execution": {
     "iopub.execute_input": "2023-09-04T19:54:59.967778Z",
     "iopub.status.busy": "2023-09-04T19:54:59.967489Z",
     "iopub.status.idle": "2023-09-04T19:54:59.976839Z",
     "shell.execute_reply": "2023-09-04T19:54:59.975989Z"
    },
    "papermill": {
     "duration": 0.018729,
     "end_time": "2023-09-04T19:54:59.978689",
     "exception": false,
     "start_time": "2023-09-04T19:54:59.959960",
     "status": "completed"
    },
    "tags": []
   },
   "outputs": [
    {
     "data": {
      "text/plain": [
       "(6036000, 7)"
      ]
     },
     "execution_count": 3,
     "metadata": {},
     "output_type": "execute_result"
    }
   ],
   "source": [
    "train.shape"
   ]
  },
  {
   "cell_type": "code",
   "execution_count": 4,
   "id": "526a0e2c",
   "metadata": {
    "execution": {
     "iopub.execute_input": "2023-09-04T19:54:59.992907Z",
     "iopub.status.busy": "2023-09-04T19:54:59.992640Z",
     "iopub.status.idle": "2023-09-04T19:54:59.998546Z",
     "shell.execute_reply": "2023-09-04T19:54:59.997543Z"
    },
    "papermill": {
     "duration": 0.016239,
     "end_time": "2023-09-04T19:55:00.001661",
     "exception": false,
     "start_time": "2023-09-04T19:54:59.985422",
     "status": "completed"
    },
    "tags": []
   },
   "outputs": [
    {
     "data": {
      "text/plain": [
       "(4024000, 6)"
      ]
     },
     "execution_count": 4,
     "metadata": {},
     "output_type": "execute_result"
    }
   ],
   "source": [
    "test.shape"
   ]
  },
  {
   "cell_type": "code",
   "execution_count": 5,
   "id": "230d5c3b",
   "metadata": {
    "execution": {
     "iopub.execute_input": "2023-09-04T19:55:00.015788Z",
     "iopub.status.busy": "2023-09-04T19:55:00.015536Z",
     "iopub.status.idle": "2023-09-04T19:55:00.021356Z",
     "shell.execute_reply": "2023-09-04T19:55:00.020018Z"
    },
    "papermill": {
     "duration": 0.015169,
     "end_time": "2023-09-04T19:55:00.023304",
     "exception": false,
     "start_time": "2023-09-04T19:55:00.008135",
     "status": "completed"
    },
    "tags": []
   },
   "outputs": [
    {
     "name": "stdout",
     "output_type": "stream",
     "text": [
      "Index(['breath_id', 'R', 'C', 'time_step', 'u_in', 'u_out', 'pressure'], dtype='object')\n"
     ]
    }
   ],
   "source": [
    "print(train.columns)"
   ]
  },
  {
   "cell_type": "code",
   "execution_count": 6,
   "id": "8df68c6c",
   "metadata": {
    "execution": {
     "iopub.execute_input": "2023-09-04T19:55:00.038047Z",
     "iopub.status.busy": "2023-09-04T19:55:00.037301Z",
     "iopub.status.idle": "2023-09-04T19:55:00.042383Z",
     "shell.execute_reply": "2023-09-04T19:55:00.041531Z"
    },
    "papermill": {
     "duration": 0.014309,
     "end_time": "2023-09-04T19:55:00.044266",
     "exception": false,
     "start_time": "2023-09-04T19:55:00.029957",
     "status": "completed"
    },
    "tags": []
   },
   "outputs": [],
   "source": [
    "feature_cols = [\"R\",\"C\", \"u_in\", \"u_out\"]"
   ]
  },
  {
   "cell_type": "code",
   "execution_count": 7,
   "id": "62b4844e",
   "metadata": {
    "execution": {
     "iopub.execute_input": "2023-09-04T19:55:00.059308Z",
     "iopub.status.busy": "2023-09-04T19:55:00.058529Z",
     "iopub.status.idle": "2023-09-04T19:55:01.056777Z",
     "shell.execute_reply": "2023-09-04T19:55:01.055756Z"
    },
    "papermill": {
     "duration": 1.008613,
     "end_time": "2023-09-04T19:55:01.059406",
     "exception": false,
     "start_time": "2023-09-04T19:55:00.050793",
     "status": "completed"
    },
    "tags": []
   },
   "outputs": [],
   "source": [
    "RS = RobustScaler()\n",
    "train[feature_cols] = RS.fit_transform(train[feature_cols])\n",
    "test[feature_cols] = RS.transform(test[feature_cols])"
   ]
  },
  {
   "cell_type": "code",
   "execution_count": 8,
   "id": "7fbbbb11",
   "metadata": {
    "execution": {
     "iopub.execute_input": "2023-09-04T19:55:01.074615Z",
     "iopub.status.busy": "2023-09-04T19:55:01.074313Z",
     "iopub.status.idle": "2023-09-04T19:55:01.078839Z",
     "shell.execute_reply": "2023-09-04T19:55:01.077801Z"
    },
    "papermill": {
     "duration": 0.014434,
     "end_time": "2023-09-04T19:55:01.081064",
     "exception": false,
     "start_time": "2023-09-04T19:55:01.066630",
     "status": "completed"
    },
    "tags": []
   },
   "outputs": [],
   "source": [
    "n_steps = 80\n",
    "n_features = len(feature_cols)"
   ]
  },
  {
   "cell_type": "code",
   "execution_count": 9,
   "id": "d6fc26ce",
   "metadata": {
    "execution": {
     "iopub.execute_input": "2023-09-04T19:55:01.095472Z",
     "iopub.status.busy": "2023-09-04T19:55:01.095207Z",
     "iopub.status.idle": "2023-09-04T19:55:01.099942Z",
     "shell.execute_reply": "2023-09-04T19:55:01.099088Z"
    },
    "papermill": {
     "duration": 0.014632,
     "end_time": "2023-09-04T19:55:01.102248",
     "exception": false,
     "start_time": "2023-09-04T19:55:01.087616",
     "status": "completed"
    },
    "tags": []
   },
   "outputs": [
    {
     "name": "stdout",
     "output_type": "stream",
     "text": [
      "Index(['breath_id', 'R', 'C', 'time_step', 'u_in', 'u_out', 'pressure'], dtype='object')\n"
     ]
    }
   ],
   "source": [
    "print(train.columns)"
   ]
  },
  {
   "cell_type": "code",
   "execution_count": 10,
   "id": "182091b7",
   "metadata": {
    "execution": {
     "iopub.execute_input": "2023-09-04T19:55:01.116649Z",
     "iopub.status.busy": "2023-09-04T19:55:01.116328Z",
     "iopub.status.idle": "2023-09-04T19:55:01.122241Z",
     "shell.execute_reply": "2023-09-04T19:55:01.121237Z"
    },
    "papermill": {
     "duration": 0.016399,
     "end_time": "2023-09-04T19:55:01.125308",
     "exception": false,
     "start_time": "2023-09-04T19:55:01.108909",
     "status": "completed"
    },
    "tags": []
   },
   "outputs": [
    {
     "data": {
      "text/plain": [
       "(6036000, 7)"
      ]
     },
     "execution_count": 10,
     "metadata": {},
     "output_type": "execute_result"
    }
   ],
   "source": [
    "train.shape"
   ]
  },
  {
   "cell_type": "code",
   "execution_count": 11,
   "id": "24fc5e4a",
   "metadata": {
    "execution": {
     "iopub.execute_input": "2023-09-04T19:55:01.140114Z",
     "iopub.status.busy": "2023-09-04T19:55:01.139818Z",
     "iopub.status.idle": "2023-09-04T19:55:01.317616Z",
     "shell.execute_reply": "2023-09-04T19:55:01.316434Z"
    },
    "papermill": {
     "duration": 0.187588,
     "end_time": "2023-09-04T19:55:01.319892",
     "exception": false,
     "start_time": "2023-09-04T19:55:01.132304",
     "status": "completed"
    },
    "tags": []
   },
   "outputs": [
    {
     "name": "stdout",
     "output_type": "stream",
     "text": [
      "24144000\n"
     ]
    }
   ],
   "source": [
    "print(train[feature_cols].values.size)"
   ]
  },
  {
   "cell_type": "code",
   "execution_count": 12,
   "id": "f3dcae87",
   "metadata": {
    "execution": {
     "iopub.execute_input": "2023-09-04T19:55:01.335596Z",
     "iopub.status.busy": "2023-09-04T19:55:01.335311Z",
     "iopub.status.idle": "2023-09-04T19:55:01.513870Z",
     "shell.execute_reply": "2023-09-04T19:55:01.512722Z"
    },
    "papermill": {
     "duration": 0.189029,
     "end_time": "2023-09-04T19:55:01.516328",
     "exception": false,
     "start_time": "2023-09-04T19:55:01.327299",
     "status": "completed"
    },
    "tags": []
   },
   "outputs": [
    {
     "name": "stdout",
     "output_type": "stream",
     "text": [
      "(75450, 80, 4) (75450, 80)\n"
     ]
    }
   ],
   "source": [
    "n_steps = 80\n",
    "n_features = len(feature_cols)\n",
    "target_column_name = 'pressure'  # Replace with the actual target column name\n",
    "\n",
    "# Assuming \"train\" is a DataFrame containing your training data\n",
    "n_samples_train = len(train) // n_steps  # Calculate the number of breaths\n",
    "y_train = train[target_column_name].values[:n_samples_train * n_steps].reshape(-1, n_steps)\n",
    "X_train = train[feature_cols].values[:n_samples_train * n_steps].reshape(-1, n_steps, n_features)\n",
    "\n",
    "print(X_train.shape, y_train.shape)"
   ]
  },
  {
   "cell_type": "code",
   "execution_count": 13,
   "id": "5b34835d",
   "metadata": {
    "execution": {
     "iopub.execute_input": "2023-09-04T19:55:01.531943Z",
     "iopub.status.busy": "2023-09-04T19:55:01.531658Z",
     "iopub.status.idle": "2023-09-04T19:55:06.579518Z",
     "shell.execute_reply": "2023-09-04T19:55:06.578720Z"
    },
    "papermill": {
     "duration": 5.066761,
     "end_time": "2023-09-04T19:55:06.590376",
     "exception": false,
     "start_time": "2023-09-04T19:55:01.523615",
     "status": "completed"
    },
    "tags": []
   },
   "outputs": [
    {
     "name": "stdout",
     "output_type": "stream",
     "text": [
      "Model: \"sequential\"\n",
      "_________________________________________________________________\n",
      " Layer (type)                Output Shape              Param #   \n",
      "=================================================================\n",
      " lstm (LSTM)                 (None, 80, 150)           93000     \n",
      "                                                                 \n",
      " dropout (Dropout)           (None, 80, 150)           0         \n",
      "                                                                 \n",
      " flatten (Flatten)           (None, 12000)             0         \n",
      "                                                                 \n",
      " dense (Dense)               (None, 128)               1536128   \n",
      "                                                                 \n",
      " dense_1 (Dense)             (None, 256)               33024     \n",
      "                                                                 \n",
      " dense_2 (Dense)             (None, 512)               131584    \n",
      "                                                                 \n",
      " dense_3 (Dense)             (None, 80)                41040     \n",
      "                                                                 \n",
      "=================================================================\n",
      "Total params: 1,834,776\n",
      "Trainable params: 1,834,776\n",
      "Non-trainable params: 0\n",
      "_________________________________________________________________\n"
     ]
    }
   ],
   "source": [
    "def get_model(n_steps, n_features):\n",
    "    model = tf.keras.Sequential([\n",
    "        layers.InputLayer(input_shape=(n_steps, n_features)),\n",
    "        layers.LSTM(150, return_sequences=True),\n",
    "        layers.Dropout(0.2),\n",
    "        layers.Flatten(),\n",
    "        layers.Dense(128, activation='selu'),\n",
    "        layers.Dense(256, activation='selu'),\n",
    "        layers.Dense(512, activation='selu'),\n",
    "        layers.Dense(80)\n",
    "    ])\n",
    "    return model\n",
    "\n",
    "n_steps = 80\n",
    "n_features = len(feature_cols)\n",
    "model = get_model(n_steps, n_features)\n",
    "model.compile(optimizer=\"adam\", loss=\"mae\")\n",
    "\n",
    "model.summary()"
   ]
  },
  {
   "cell_type": "code",
   "execution_count": 14,
   "id": "72b509e0",
   "metadata": {
    "execution": {
     "iopub.execute_input": "2023-09-04T19:55:06.609539Z",
     "iopub.status.busy": "2023-09-04T19:55:06.609249Z",
     "iopub.status.idle": "2023-09-04T20:00:20.331205Z",
     "shell.execute_reply": "2023-09-04T20:00:20.330178Z"
    },
    "papermill": {
     "duration": 313.733854,
     "end_time": "2023-09-04T20:00:20.333449",
     "exception": false,
     "start_time": "2023-09-04T19:55:06.599595",
     "status": "completed"
    },
    "tags": []
   },
   "outputs": [
    {
     "name": "stdout",
     "output_type": "stream",
     "text": [
      "Epoch 1/200\n",
      "118/118 [==============================] - 11s 28ms/step - loss: 2.0271 - val_loss: 1.1232 - lr: 0.0010\n",
      "Epoch 2/200\n",
      "118/118 [==============================] - 3s 22ms/step - loss: 1.0074 - val_loss: 0.8926 - lr: 9.9885e-04\n",
      "Epoch 3/200\n",
      "118/118 [==============================] - 3s 22ms/step - loss: 0.8550 - val_loss: 0.8150 - lr: 9.9770e-04\n",
      "Epoch 4/200\n",
      "118/118 [==============================] - 3s 23ms/step - loss: 0.7770 - val_loss: 0.7168 - lr: 9.9655e-04\n",
      "Epoch 5/200\n",
      "118/118 [==============================] - 3s 22ms/step - loss: 0.7142 - val_loss: 0.6770 - lr: 9.9541e-04\n",
      "Epoch 6/200\n",
      "118/118 [==============================] - 3s 22ms/step - loss: 0.6798 - val_loss: 0.6570 - lr: 9.9426e-04\n",
      "Epoch 7/200\n",
      "118/118 [==============================] - 3s 22ms/step - loss: 0.6507 - val_loss: 0.6321 - lr: 9.9312e-04\n",
      "Epoch 8/200\n",
      "118/118 [==============================] - 3s 22ms/step - loss: 0.6174 - val_loss: 0.6042 - lr: 9.9197e-04\n",
      "Epoch 9/200\n",
      "118/118 [==============================] - 3s 22ms/step - loss: 0.6014 - val_loss: 0.5715 - lr: 9.9083e-04\n",
      "Epoch 10/200\n",
      "118/118 [==============================] - 3s 22ms/step - loss: 0.5890 - val_loss: 0.5688 - lr: 9.8969e-04\n",
      "Epoch 11/200\n",
      "118/118 [==============================] - 3s 22ms/step - loss: 0.5727 - val_loss: 0.5526 - lr: 9.8855e-04\n",
      "Epoch 12/200\n",
      "118/118 [==============================] - 3s 23ms/step - loss: 0.5664 - val_loss: 0.5426 - lr: 9.8742e-04\n",
      "Epoch 13/200\n",
      "118/118 [==============================] - 3s 22ms/step - loss: 0.5505 - val_loss: 0.5406 - lr: 9.8628e-04\n",
      "Epoch 14/200\n",
      "118/118 [==============================] - 3s 22ms/step - loss: 0.5415 - val_loss: 0.5235 - lr: 9.8514e-04\n",
      "Epoch 15/200\n",
      "118/118 [==============================] - 3s 22ms/step - loss: 0.5329 - val_loss: 0.5545 - lr: 9.8401e-04\n",
      "Epoch 16/200\n",
      "118/118 [==============================] - 3s 23ms/step - loss: 0.5244 - val_loss: 0.5110 - lr: 9.8288e-04\n",
      "Epoch 17/200\n",
      "118/118 [==============================] - 3s 23ms/step - loss: 0.5208 - val_loss: 0.5075 - lr: 9.8175e-04\n",
      "Epoch 18/200\n",
      "118/118 [==============================] - 3s 22ms/step - loss: 0.5147 - val_loss: 0.5133 - lr: 9.8062e-04\n",
      "Epoch 19/200\n",
      "118/118 [==============================] - 3s 23ms/step - loss: 0.5123 - val_loss: 0.4863 - lr: 9.7949e-04\n",
      "Epoch 20/200\n",
      "118/118 [==============================] - 3s 23ms/step - loss: 0.4986 - val_loss: 0.4862 - lr: 9.7836e-04\n",
      "Epoch 21/200\n",
      "118/118 [==============================] - 3s 22ms/step - loss: 0.4972 - val_loss: 0.5217 - lr: 9.7724e-04\n",
      "Epoch 22/200\n",
      "118/118 [==============================] - 3s 22ms/step - loss: 0.4929 - val_loss: 0.4812 - lr: 9.7611e-04\n",
      "Epoch 23/200\n",
      "118/118 [==============================] - 3s 23ms/step - loss: 0.4869 - val_loss: 0.4686 - lr: 9.7499e-04\n",
      "Epoch 24/200\n",
      "118/118 [==============================] - 3s 23ms/step - loss: 0.4854 - val_loss: 0.4686 - lr: 9.7387e-04\n",
      "Epoch 25/200\n",
      "118/118 [==============================] - 3s 23ms/step - loss: 0.4810 - val_loss: 0.4628 - lr: 9.7275e-04\n",
      "Epoch 26/200\n",
      "118/118 [==============================] - 3s 22ms/step - loss: 0.4732 - val_loss: 0.4586 - lr: 9.7163e-04\n",
      "Epoch 27/200\n",
      "118/118 [==============================] - 3s 23ms/step - loss: 0.4720 - val_loss: 0.4651 - lr: 9.7051e-04\n",
      "Epoch 28/200\n",
      "118/118 [==============================] - 3s 25ms/step - loss: 0.4702 - val_loss: 0.4626 - lr: 9.6939e-04\n",
      "Epoch 29/200\n",
      "118/118 [==============================] - 3s 24ms/step - loss: 0.4683 - val_loss: 0.4519 - lr: 9.6828e-04\n",
      "Epoch 30/200\n",
      "118/118 [==============================] - 3s 23ms/step - loss: 0.4613 - val_loss: 0.4578 - lr: 9.6716e-04\n",
      "Epoch 31/200\n",
      "118/118 [==============================] - 3s 23ms/step - loss: 0.4598 - val_loss: 0.4544 - lr: 9.6605e-04\n",
      "Epoch 32/200\n",
      "118/118 [==============================] - 3s 23ms/step - loss: 0.4600 - val_loss: 0.4601 - lr: 9.6494e-04\n",
      "Epoch 33/200\n",
      "118/118 [==============================] - 3s 23ms/step - loss: 0.4532 - val_loss: 0.4542 - lr: 9.6383e-04\n",
      "Epoch 34/200\n",
      "118/118 [==============================] - 3s 24ms/step - loss: 0.4530 - val_loss: 0.4361 - lr: 9.6272e-04\n",
      "Epoch 35/200\n",
      "118/118 [==============================] - 3s 24ms/step - loss: 0.4506 - val_loss: 0.4577 - lr: 9.6161e-04\n",
      "Epoch 36/200\n",
      "118/118 [==============================] - 3s 23ms/step - loss: 0.4457 - val_loss: 0.4323 - lr: 9.6051e-04\n",
      "Epoch 37/200\n",
      "118/118 [==============================] - 3s 24ms/step - loss: 0.4440 - val_loss: 0.4319 - lr: 9.5940e-04\n",
      "Epoch 38/200\n",
      "118/118 [==============================] - 3s 24ms/step - loss: 0.4392 - val_loss: 0.4356 - lr: 9.5830e-04\n",
      "Epoch 39/200\n",
      "118/118 [==============================] - 3s 25ms/step - loss: 0.4380 - val_loss: 0.4293 - lr: 9.5719e-04\n",
      "Epoch 40/200\n",
      "118/118 [==============================] - 3s 24ms/step - loss: 0.4380 - val_loss: 0.4288 - lr: 9.5609e-04\n",
      "Epoch 41/200\n",
      "118/118 [==============================] - 3s 23ms/step - loss: 0.4326 - val_loss: 0.4330 - lr: 9.5499e-04\n",
      "Epoch 42/200\n",
      "118/118 [==============================] - 3s 23ms/step - loss: 0.4396 - val_loss: 0.4340 - lr: 9.5389e-04\n",
      "Epoch 43/200\n",
      "118/118 [==============================] - 3s 23ms/step - loss: 0.4302 - val_loss: 0.4200 - lr: 9.5280e-04\n",
      "Epoch 44/200\n",
      "118/118 [==============================] - 3s 23ms/step - loss: 0.4343 - val_loss: 0.4272 - lr: 9.5170e-04\n",
      "Epoch 45/200\n",
      "118/118 [==============================] - 3s 24ms/step - loss: 0.4281 - val_loss: 0.4188 - lr: 9.5060e-04\n",
      "Epoch 46/200\n",
      "118/118 [==============================] - 3s 23ms/step - loss: 0.4221 - val_loss: 0.4248 - lr: 9.4951e-04\n",
      "Epoch 47/200\n",
      "118/118 [==============================] - 3s 23ms/step - loss: 0.4216 - val_loss: 0.4139 - lr: 9.4842e-04\n",
      "Epoch 48/200\n",
      "118/118 [==============================] - 3s 24ms/step - loss: 0.4195 - val_loss: 0.4160 - lr: 9.4733e-04\n",
      "Epoch 49/200\n",
      "118/118 [==============================] - 3s 23ms/step - loss: 0.4199 - val_loss: 0.4127 - lr: 9.4624e-04\n",
      "Epoch 50/200\n",
      "118/118 [==============================] - 3s 23ms/step - loss: 0.4156 - val_loss: 0.4079 - lr: 9.4515e-04\n",
      "Epoch 51/200\n",
      "118/118 [==============================] - 3s 24ms/step - loss: 0.4184 - val_loss: 0.4158 - lr: 9.4406e-04\n",
      "Epoch 52/200\n",
      "118/118 [==============================] - 3s 23ms/step - loss: 0.4144 - val_loss: 0.4049 - lr: 9.4297e-04\n",
      "Epoch 53/200\n",
      "118/118 [==============================] - 3s 23ms/step - loss: 0.4152 - val_loss: 0.4187 - lr: 9.4189e-04\n",
      "Epoch 54/200\n",
      "118/118 [==============================] - 3s 23ms/step - loss: 0.4154 - val_loss: 0.4108 - lr: 9.4081e-04\n",
      "Epoch 55/200\n",
      "118/118 [==============================] - 3s 24ms/step - loss: 0.4125 - val_loss: 0.4017 - lr: 9.3972e-04\n",
      "Epoch 56/200\n",
      "118/118 [==============================] - 3s 23ms/step - loss: 0.4098 - val_loss: 0.4068 - lr: 9.3864e-04\n",
      "Epoch 57/200\n",
      "118/118 [==============================] - 3s 23ms/step - loss: 0.4067 - val_loss: 0.3995 - lr: 9.3756e-04\n",
      "Epoch 58/200\n",
      "118/118 [==============================] - 3s 23ms/step - loss: 0.4059 - val_loss: 0.3963 - lr: 9.3648e-04\n",
      "Epoch 59/200\n",
      "118/118 [==============================] - 3s 23ms/step - loss: 0.4026 - val_loss: 0.4089 - lr: 9.3541e-04\n",
      "Epoch 60/200\n",
      "118/118 [==============================] - 3s 23ms/step - loss: 0.3995 - val_loss: 0.3961 - lr: 9.3433e-04\n",
      "Epoch 61/200\n",
      "118/118 [==============================] - 3s 24ms/step - loss: 0.4019 - val_loss: 0.4005 - lr: 9.3325e-04\n",
      "Epoch 62/200\n",
      "118/118 [==============================] - 3s 24ms/step - loss: 0.4000 - val_loss: 0.3963 - lr: 9.3218e-04\n",
      "Epoch 63/200\n",
      "118/118 [==============================] - 3s 24ms/step - loss: 0.3978 - val_loss: 0.3904 - lr: 9.3111e-04\n",
      "Epoch 64/200\n",
      "118/118 [==============================] - 3s 23ms/step - loss: 0.3976 - val_loss: 0.3942 - lr: 9.3004e-04\n",
      "Epoch 65/200\n",
      "118/118 [==============================] - 3s 23ms/step - loss: 0.3957 - val_loss: 0.3944 - lr: 9.2897e-04\n",
      "Epoch 66/200\n",
      "118/118 [==============================] - 3s 23ms/step - loss: 0.4010 - val_loss: 0.4005 - lr: 9.2790e-04\n",
      "Epoch 67/200\n",
      "118/118 [==============================] - 3s 24ms/step - loss: 0.3954 - val_loss: 0.4161 - lr: 9.2683e-04\n",
      "Epoch 68/200\n",
      "118/118 [==============================] - 3s 23ms/step - loss: 0.3956 - val_loss: 0.3986 - lr: 9.2576e-04\n",
      "Epoch 69/200\n",
      "118/118 [==============================] - 3s 23ms/step - loss: 0.3925 - val_loss: 0.3940 - lr: 9.2470e-04\n",
      "Epoch 70/200\n",
      "118/118 [==============================] - 3s 24ms/step - loss: 0.3888 - val_loss: 0.3918 - lr: 9.2363e-04\n",
      "Epoch 71/200\n",
      "118/118 [==============================] - 3s 24ms/step - loss: 0.3860 - val_loss: 0.3902 - lr: 9.2257e-04\n",
      "Epoch 72/200\n",
      "118/118 [==============================] - 3s 23ms/step - loss: 0.3888 - val_loss: 0.4106 - lr: 9.2151e-04\n",
      "Epoch 73/200\n",
      "118/118 [==============================] - 3s 24ms/step - loss: 0.3868 - val_loss: 0.3850 - lr: 9.2045e-04\n",
      "Epoch 74/200\n",
      "118/118 [==============================] - 3s 24ms/step - loss: 0.3834 - val_loss: 0.3792 - lr: 9.1939e-04\n",
      "Epoch 75/200\n",
      "118/118 [==============================] - 3s 23ms/step - loss: 0.3876 - val_loss: 0.3922 - lr: 9.1833e-04\n",
      "Epoch 76/200\n",
      "118/118 [==============================] - 3s 23ms/step - loss: 0.3831 - val_loss: 0.3802 - lr: 9.1728e-04\n",
      "Epoch 77/200\n",
      "118/118 [==============================] - 3s 23ms/step - loss: 0.3819 - val_loss: 0.3784 - lr: 9.1622e-04\n",
      "Epoch 78/200\n",
      "118/118 [==============================] - 3s 24ms/step - loss: 0.3821 - val_loss: 0.3785 - lr: 9.1517e-04\n",
      "Epoch 79/200\n",
      "118/118 [==============================] - 3s 24ms/step - loss: 0.3788 - val_loss: 0.3857 - lr: 9.1411e-04\n",
      "Epoch 80/200\n",
      "118/118 [==============================] - 3s 24ms/step - loss: 0.3778 - val_loss: 0.3763 - lr: 9.1306e-04\n",
      "Epoch 81/200\n",
      "118/118 [==============================] - 3s 24ms/step - loss: 0.3776 - val_loss: 0.3781 - lr: 9.1201e-04\n",
      "Epoch 82/200\n",
      "118/118 [==============================] - 3s 24ms/step - loss: 0.3794 - val_loss: 0.3776 - lr: 9.1096e-04\n",
      "Epoch 83/200\n",
      "118/118 [==============================] - 3s 23ms/step - loss: 0.3765 - val_loss: 0.3788 - lr: 9.0991e-04\n",
      "Epoch 84/200\n",
      "118/118 [==============================] - 3s 24ms/step - loss: 0.3754 - val_loss: 0.3747 - lr: 9.0887e-04\n",
      "Epoch 85/200\n",
      "118/118 [==============================] - 3s 25ms/step - loss: 0.3733 - val_loss: 0.3758 - lr: 9.0782e-04\n",
      "Epoch 86/200\n",
      "118/118 [==============================] - 3s 23ms/step - loss: 0.3805 - val_loss: 0.3767 - lr: 9.0678e-04\n",
      "Epoch 87/200\n",
      "118/118 [==============================] - 3s 23ms/step - loss: 0.3712 - val_loss: 0.3739 - lr: 9.0573e-04\n",
      "Epoch 88/200\n",
      "118/118 [==============================] - 3s 23ms/step - loss: 0.3697 - val_loss: 0.3720 - lr: 9.0469e-04\n",
      "Epoch 89/200\n",
      "118/118 [==============================] - 3s 23ms/step - loss: 0.3706 - val_loss: 0.3842 - lr: 9.0365e-04\n",
      "Epoch 90/200\n",
      "118/118 [==============================] - 3s 23ms/step - loss: 0.3707 - val_loss: 0.3746 - lr: 9.0261e-04\n",
      "Epoch 91/200\n",
      "118/118 [==============================] - 3s 24ms/step - loss: 0.3704 - val_loss: 0.3914 - lr: 9.0157e-04\n",
      "Epoch 92/200\n",
      "118/118 [==============================] - 3s 23ms/step - loss: 0.3688 - val_loss: 0.3658 - lr: 9.0053e-04\n",
      "Epoch 93/200\n",
      "118/118 [==============================] - 3s 23ms/step - loss: 0.3695 - val_loss: 0.3706 - lr: 8.9950e-04\n",
      "Epoch 94/200\n",
      "118/118 [==============================] - 3s 23ms/step - loss: 0.3631 - val_loss: 0.3678 - lr: 8.9846e-04\n",
      "Epoch 95/200\n",
      "118/118 [==============================] - 3s 23ms/step - loss: 0.3652 - val_loss: 0.3646 - lr: 8.9743e-04\n",
      "Epoch 96/200\n",
      "118/118 [==============================] - 3s 24ms/step - loss: 0.3632 - val_loss: 0.3646 - lr: 8.9640e-04\n",
      "Epoch 97/200\n",
      "118/118 [==============================] - 3s 25ms/step - loss: 0.3614 - val_loss: 0.3620 - lr: 8.9536e-04\n",
      "Epoch 98/200\n",
      "118/118 [==============================] - 3s 23ms/step - loss: 0.3619 - val_loss: 0.3774 - lr: 8.9433e-04\n",
      "Epoch 99/200\n",
      "118/118 [==============================] - 3s 23ms/step - loss: 0.3608 - val_loss: 0.3714 - lr: 8.9331e-04\n",
      "Epoch 100/200\n",
      "118/118 [==============================] - 3s 23ms/step - loss: 0.3598 - val_loss: 0.3721 - lr: 8.9228e-04\n",
      "Epoch 101/200\n",
      "118/118 [==============================] - 3s 23ms/step - loss: 0.3583 - val_loss: 0.3567 - lr: 8.9125e-04\n",
      "Epoch 102/200\n",
      "118/118 [==============================] - 3s 23ms/step - loss: 0.3586 - val_loss: 0.3641 - lr: 8.9023e-04\n",
      "Epoch 103/200\n",
      "118/118 [==============================] - 3s 23ms/step - loss: 0.3557 - val_loss: 0.3643 - lr: 8.8920e-04\n",
      "Epoch 104/200\n",
      "118/118 [==============================] - 3s 23ms/step - loss: 0.3566 - val_loss: 0.3614 - lr: 8.8818e-04\n",
      "Epoch 105/200\n",
      "118/118 [==============================] - 3s 24ms/step - loss: 0.3574 - val_loss: 0.3608 - lr: 8.8716e-04\n",
      "Epoch 106/200\n",
      "118/118 [==============================] - 3s 24ms/step - loss: 0.3538 - val_loss: 0.3601 - lr: 8.8614e-04\n",
      "Epoch 107/200\n",
      "118/118 [==============================] - 3s 23ms/step - loss: 0.3545 - val_loss: 0.3613 - lr: 8.8512e-04\n",
      "Epoch 108/200\n",
      "118/118 [==============================] - 3s 26ms/step - loss: 0.3527 - val_loss: 0.3586 - lr: 8.8410e-04\n",
      "Epoch 109/200\n",
      "118/118 [==============================] - 3s 23ms/step - loss: 0.3508 - val_loss: 0.3601 - lr: 8.8308e-04\n",
      "Epoch 110/200\n",
      "118/118 [==============================] - 3s 23ms/step - loss: 0.3524 - val_loss: 0.3607 - lr: 8.8206e-04\n",
      "Epoch 111/200\n",
      "118/118 [==============================] - 3s 23ms/step - loss: 0.3504 - val_loss: 0.3594 - lr: 8.8105e-04\n"
     ]
    }
   ],
   "source": [
    "scheduler = tf.keras.optimizers.schedules.ExponentialDecay(initial_learning_rate=1e-3, decay_steps=1e4, decay_rate=1e-5)\n",
    "cb_lr = tf.keras.callbacks.LearningRateScheduler(scheduler)\n",
    "cb_es = tf.keras.callbacks.EarlyStopping(monitor=\"val_loss\", patience=10, restore_best_weights=True)\n",
    "\n",
    "history = model.fit(X_train, y_train, validation_split=0.2, epochs=200, batch_size=512, callbacks=[cb_es, cb_lr])"
   ]
  },
  {
   "cell_type": "code",
   "execution_count": 15,
   "id": "55c6d036",
   "metadata": {
    "execution": {
     "iopub.execute_input": "2023-09-04T20:00:21.043929Z",
     "iopub.status.busy": "2023-09-04T20:00:21.043570Z",
     "iopub.status.idle": "2023-09-04T20:00:31.321388Z",
     "shell.execute_reply": "2023-09-04T20:00:31.320446Z"
    },
    "papermill": {
     "duration": 10.632205,
     "end_time": "2023-09-04T20:00:31.323469",
     "exception": false,
     "start_time": "2023-09-04T20:00:20.691264",
     "status": "completed"
    },
    "tags": []
   },
   "outputs": [
    {
     "data": {
      "image/png": "[encoded data removed]",
      "text/plain": [
       "<Figure size 1600x700 with 1 Axes>"
      ]
     },
     "metadata": {},
     "output_type": "display_data"
    }
   ],
   "source": [
    "plt.figure(figsize=(16,7))\n",
    "loss=history.history['loss']\n",
    "val_loss=history.history['val_loss']\n",
    "\n",
    "epochs=range(1,len(loss)+1)\n",
    "\n",
    "plt.plot(epochs, loss, 'r')\n",
    "plt.plot(epochs, val_loss, 'b')\n",
    "plt.legend([\"Training\", \"Validation\" ])\n",
    "plt.xlabel(\"Epochs\")\n",
    "plt.ylabel(\"Loss\")\n",
    "plt.title('Training and validation loss')\n",
    "\n",
    "plt.show()"
   ]
  },
  {
   "cell_type": "code",
   "execution_count": 16,
   "id": "2e8ac146",
   "metadata": {
    "execution": {
     "iopub.execute_input": "2023-09-04T20:00:32.033659Z",
     "iopub.status.busy": "2023-09-04T20:00:32.033306Z",
     "iopub.status.idle": "2023-09-04T20:00:32.890263Z",
     "shell.execute_reply": "2023-09-04T20:00:32.889332Z"
    },
    "papermill": {
     "duration": 1.214017,
     "end_time": "2023-09-04T20:00:32.892428",
     "exception": false,
     "start_time": "2023-09-04T20:00:31.678411",
     "status": "completed"
    },
    "tags": []
   },
   "outputs": [
    {
     "name": "stdout",
     "output_type": "stream",
     "text": [
      "1/1 [==============================] - 0s 394ms/step\n"
     ]
    },
    {
     "data": {
      "image/png": "[encoded data removed]",
      "text/plain": [
       "<Figure size 1000x500 with 1 Axes>"
      ]
     },
     "metadata": {},
     "output_type": "display_data"
    }
   ],
   "source": [
    "idx = 1\n",
    "df_plot = train[train.breath_id == idx]\n",
    "p = model.predict(df_plot[feature_cols].values.reshape(-1, n_steps, n_features))\n",
    "x = range(80)\n",
    "y = df_plot['pressure']\n",
    "\n",
    "plt.figure(figsize=(10, 5))\n",
    "sns.lineplot(y=y, x=x)\n",
    "sns.lineplot(y=p.reshape(-1), x=x)\n",
    "plt.legend([\"Ground Truth\", \"Predicted\"])\n",
    "plt.ylabel(\"Pressure\")\n",
    "plt.xlabel(\"Time Steps\")\n",
    "plt.show()"
   ]
  }
 ],
 "kernelspec": {
  "display_name": "Python 3",
  "language": "python",
  "name": "python3"
 },
 "language_info": {
  "codemirror_mode": {
   "name": "ipython",
   "version": 3
  },
  "file_extension": ".py",
  "mimetype": "text/x-python",
  "name": "python",
  "nbconvert_exporter": "python",
  "pygments_lexer": "ipython3",
  "version": "3.6.4"
 },
 "metadata": {
  "kernelspec": {
   "display_name": "Python 3",
   "language": "python",
   "name": "python3"
  },
  "language_info": {
   "codemirror_mode": {
    "name": "ipython",
    "version": 3
   },
   "file_extension": ".py",
   "mimetype": "text/x-python",
   "name": "python",
   "nbconvert_exporter": "python",
   "pygments_lexer": "ipython3",
   "version": "3.10.12"
  },
  "papermill": {
   "default_parameters": {},
   "duration": 364.782562,
   "end_time": "2023-09-04T20:00:36.252262",
   "environment_variables": {},
   "exception": null,
   "input_path": "__notebook__.ipynb",
   "output_path": "__notebook__.ipynb",
   "parameters": {},
   "start_time": "2023-09-04T19:54:31.469700",
   "version": "2.4.0"
  }
 },
 "nbformat": 4,
 "nbformat_minor": 5
}
