{
 "cells": [
  {
   "cell_type": "code",
   "execution_count": 1,
   "id": "59e8a824",
   "metadata": {
    "_cell_guid": "b1076dfc-b9ad-4769-8c92-a6c4dae69d19",
    "_uuid": "8f2839f25d086af736a60e9eeb907d3b93b6e0e5",
    "execution": {
     "iopub.execute_input": "2023-09-04T20:07:15.916399Z",
     "iopub.status.busy": "2023-09-04T20:07:15.915962Z",
     "iopub.status.idle": "2023-09-04T20:07:26.981243Z",
     "shell.execute_reply": "2023-09-04T20:07:26.980257Z"
    },
    "papermill": {
     "duration": 11.078517,
     "end_time": "2023-09-04T20:07:26.983650",
     "exception": false,
     "start_time": "2023-09-04T20:07:15.905133",
     "status": "completed"
    },
    "tags": []
   },
   "outputs": [
    {
     "name": "stderr",
     "output_type": "stream",
     "text": [
      "/opt/conda/lib/python3.10/site-packages/scipy/__init__.py:146: UserWarning: A NumPy version >=1.16.5 and <1.23.0 is required for this version of SciPy (detected version 1.23.5\n",
      "  warnings.warn(f\"A NumPy version >={np_minversion} and <{np_maxversion}\"\n"
     ]
    }
   ],
   "source": [
    "import os\n",
    "os.environ['TF_CPP_MIN_LOG_LEVEL'] = '3'\n",
    "\n",
    "import seaborn as sns\n",
    "import matplotlib.pyplot as plt\n",
    "%matplotlib inline\n",
    "sns.set_style(\"darkgrid\")\n",
    "\n",
    "import numpy as np\n",
    "import pandas as pd\n",
    "import tensorflow as tf\n",
    "from tensorflow.keras import layers\n",
    "from sklearn.preprocessing import RobustScaler"
   ]
  },
  {
   "cell_type": "code",
   "execution_count": 2,
   "id": "e866d146",
   "metadata": {
    "execution": {
     "iopub.execute_input": "2023-09-04T20:07:26.998736Z",
     "iopub.status.busy": "2023-09-04T20:07:26.998196Z",
     "iopub.status.idle": "2023-09-04T20:07:41.422703Z",
     "shell.execute_reply": "2023-09-04T20:07:41.421633Z"
    },
    "papermill": {
     "duration": 14.435048,
     "end_time": "2023-09-04T20:07:41.425609",
     "exception": false,
     "start_time": "2023-09-04T20:07:26.990561",
     "status": "completed"
    },
    "tags": []
   },
   "outputs": [],
   "source": [
    "train = pd.read_csv(\"/kaggle/input/ventilator-pressure-prediction/train.csv\", index_col=[0])\n",
    "test = pd.read_csv(\"/kaggle/input/ventilator-pressure-prediction/test.csv\", index_col=[0])"
   ]
  },
  {
   "cell_type": "code",
   "execution_count": 3,
   "id": "59a08036",
   "metadata": {
    "execution": {
     "iopub.execute_input": "2023-09-04T20:07:41.440531Z",
     "iopub.status.busy": "2023-09-04T20:07:41.440231Z",
     "iopub.status.idle": "2023-09-04T20:07:41.447573Z",
     "shell.execute_reply": "2023-09-04T20:07:41.446545Z"
    },
    "papermill": {
     "duration": 0.01887,
     "end_time": "2023-09-04T20:07:41.451260",
     "exception": false,
     "start_time": "2023-09-04T20:07:41.432390",
     "status": "completed"
    },
    "tags": []
   },
   "outputs": [
    {
     "data": {
      "text/plain": [
       "(6036000, 7)"
      ]
     },
     "execution_count": 3,
     "metadata": {},
     "output_type": "execute_result"
    }
   ],
   "source": [
    "train.shape"
   ]
  },
  {
   "cell_type": "code",
   "execution_count": 4,
   "id": "4b4593ce",
   "metadata": {
    "execution": {
     "iopub.execute_input": "2023-09-04T20:07:41.465610Z",
     "iopub.status.busy": "2023-09-04T20:07:41.465284Z",
     "iopub.status.idle": "2023-09-04T20:07:41.470883Z",
     "shell.execute_reply": "2023-09-04T20:07:41.469970Z"
    },
    "papermill": {
     "duration": 0.015073,
     "end_time": "2023-09-04T20:07:41.472870",
     "exception": false,
     "start_time": "2023-09-04T20:07:41.457797",
     "status": "completed"
    },
    "tags": []
   },
   "outputs": [
    {
     "data": {
      "text/plain": [
       "(4024000, 6)"
      ]
     },
     "execution_count": 4,
     "metadata": {},
     "output_type": "execute_result"
    }
   ],
   "source": [
    "test.shape"
   ]
  },
  {
   "cell_type": "code",
   "execution_count": 5,
   "id": "3298b12a",
   "metadata": {
    "execution": {
     "iopub.execute_input": "2023-09-04T20:07:41.488095Z",
     "iopub.status.busy": "2023-09-04T20:07:41.487307Z",
     "iopub.status.idle": "2023-09-04T20:07:41.494332Z",
     "shell.execute_reply": "2023-09-04T20:07:41.493397Z"
    },
    "papermill": {
     "duration": 0.016948,
     "end_time": "2023-09-04T20:07:41.496671",
     "exception": false,
     "start_time": "2023-09-04T20:07:41.479723",
     "status": "completed"
    },
    "tags": []
   },
   "outputs": [
    {
     "name": "stdout",
     "output_type": "stream",
     "text": [
      "Index(['breath_id', 'R', 'C', 'time_step', 'u_in', 'u_out', 'pressure'], dtype='object')\n"
     ]
    }
   ],
   "source": [
    "print(train.columns)"
   ]
  },
  {
   "cell_type": "code",
   "execution_count": 6,
   "id": "f8b88aa9",
   "metadata": {
    "execution": {
     "iopub.execute_input": "2023-09-04T20:07:41.511376Z",
     "iopub.status.busy": "2023-09-04T20:07:41.511104Z",
     "iopub.status.idle": "2023-09-04T20:07:41.515346Z",
     "shell.execute_reply": "2023-09-04T20:07:41.514330Z"
    },
    "papermill": {
     "duration": 0.013988,
     "end_time": "2023-09-04T20:07:41.517428",
     "exception": false,
     "start_time": "2023-09-04T20:07:41.503440",
     "status": "completed"
    },
    "tags": []
   },
   "outputs": [],
   "source": [
    "feature_cols = [\"R\",\"C\", \"u_in\", \"u_out\"]"
   ]
  },
  {
   "cell_type": "code",
   "execution_count": 7,
   "id": "664d3bd1",
   "metadata": {
    "execution": {
     "iopub.execute_input": "2023-09-04T20:07:41.532754Z",
     "iopub.status.busy": "2023-09-04T20:07:41.532442Z",
     "iopub.status.idle": "2023-09-04T20:07:42.566535Z",
     "shell.execute_reply": "2023-09-04T20:07:42.565533Z"
    },
    "papermill": {
     "duration": 1.044731,
     "end_time": "2023-09-04T20:07:42.569006",
     "exception": false,
     "start_time": "2023-09-04T20:07:41.524275",
     "status": "completed"
    },
    "tags": []
   },
   "outputs": [],
   "source": [
    "RS = RobustScaler()\n",
    "train[feature_cols] = RS.fit_transform(train[feature_cols])\n",
    "test[feature_cols] = RS.transform(test[feature_cols])"
   ]
  },
  {
   "cell_type": "code",
   "execution_count": 8,
   "id": "5b4752c0",
   "metadata": {
    "execution": {
     "iopub.execute_input": "2023-09-04T20:07:42.584531Z",
     "iopub.status.busy": "2023-09-04T20:07:42.584227Z",
     "iopub.status.idle": "2023-09-04T20:07:42.589531Z",
     "shell.execute_reply": "2023-09-04T20:07:42.588675Z"
    },
    "papermill": {
     "duration": 0.015444,
     "end_time": "2023-09-04T20:07:42.591564",
     "exception": false,
     "start_time": "2023-09-04T20:07:42.576120",
     "status": "completed"
    },
    "tags": []
   },
   "outputs": [],
   "source": [
    "n_steps = 80\n",
    "n_features = len(feature_cols)"
   ]
  },
  {
   "cell_type": "code",
   "execution_count": 9,
   "id": "493cd8f8",
   "metadata": {
    "execution": {
     "iopub.execute_input": "2023-09-04T20:07:42.606480Z",
     "iopub.status.busy": "2023-09-04T20:07:42.606207Z",
     "iopub.status.idle": "2023-09-04T20:07:42.611341Z",
     "shell.execute_reply": "2023-09-04T20:07:42.610364Z"
    },
    "papermill": {
     "duration": 0.015359,
     "end_time": "2023-09-04T20:07:42.613691",
     "exception": false,
     "start_time": "2023-09-04T20:07:42.598332",
     "status": "completed"
    },
    "tags": []
   },
   "outputs": [
    {
     "name": "stdout",
     "output_type": "stream",
     "text": [
      "Index(['breath_id', 'R', 'C', 'time_step', 'u_in', 'u_out', 'pressure'], dtype='object')\n"
     ]
    }
   ],
   "source": [
    "print(train.columns)"
   ]
  },
  {
   "cell_type": "code",
   "execution_count": 10,
   "id": "1de16bf7",
   "metadata": {
    "execution": {
     "iopub.execute_input": "2023-09-04T20:07:42.628421Z",
     "iopub.status.busy": "2023-09-04T20:07:42.627944Z",
     "iopub.status.idle": "2023-09-04T20:07:42.633888Z",
     "shell.execute_reply": "2023-09-04T20:07:42.632894Z"
    },
    "papermill": {
     "duration": 0.015522,
     "end_time": "2023-09-04T20:07:42.635988",
     "exception": false,
     "start_time": "2023-09-04T20:07:42.620466",
     "status": "completed"
    },
    "tags": []
   },
   "outputs": [
    {
     "data": {
      "text/plain": [
       "(6036000, 7)"
      ]
     },
     "execution_count": 10,
     "metadata": {},
     "output_type": "execute_result"
    }
   ],
   "source": [
    "train.shape"
   ]
  },
  {
   "cell_type": "code",
   "execution_count": 11,
   "id": "98dc768d",
   "metadata": {
    "execution": {
     "iopub.execute_input": "2023-09-04T20:07:42.651326Z",
     "iopub.status.busy": "2023-09-04T20:07:42.651046Z",
     "iopub.status.idle": "2023-09-04T20:07:42.837475Z",
     "shell.execute_reply": "2023-09-04T20:07:42.835237Z"
    },
    "papermill": {
     "duration": 0.196676,
     "end_time": "2023-09-04T20:07:42.839865",
     "exception": false,
     "start_time": "2023-09-04T20:07:42.643189",
     "status": "completed"
    },
    "tags": []
   },
   "outputs": [
    {
     "name": "stdout",
     "output_type": "stream",
     "text": [
      "24144000\n"
     ]
    }
   ],
   "source": [
    "print(train[feature_cols].values.size)"
   ]
  },
  {
   "cell_type": "code",
   "execution_count": 12,
   "id": "c49eeb26",
   "metadata": {
    "execution": {
     "iopub.execute_input": "2023-09-04T20:07:42.855772Z",
     "iopub.status.busy": "2023-09-04T20:07:42.855462Z",
     "iopub.status.idle": "2023-09-04T20:07:43.038819Z",
     "shell.execute_reply": "2023-09-04T20:07:43.037775Z"
    },
    "papermill": {
     "duration": 0.193918,
     "end_time": "2023-09-04T20:07:43.041030",
     "exception": false,
     "start_time": "2023-09-04T20:07:42.847112",
     "status": "completed"
    },
    "tags": []
   },
   "outputs": [
    {
     "name": "stdout",
     "output_type": "stream",
     "text": [
      "(75450, 80, 4) (75450, 80)\n"
     ]
    }
   ],
   "source": [
    "n_steps = 80\n",
    "n_features = len(feature_cols)\n",
    "target_column_name = 'pressure'  # Replace with the actual target column name\n",
    "\n",
    "# Assuming \"train\" is a DataFrame containing your training data\n",
    "n_samples_train = len(train) // n_steps  # Calculate the number of breaths\n",
    "y_train = train[target_column_name].values[:n_samples_train * n_steps].reshape(-1, n_steps)\n",
    "X_train = train[feature_cols].values[:n_samples_train * n_steps].reshape(-1, n_steps, n_features)\n",
    "\n",
    "print(X_train.shape, y_train.shape)"
   ]
  },
  {
   "cell_type": "code",
   "execution_count": 13,
   "id": "9b4f9040",
   "metadata": {
    "execution": {
     "iopub.execute_input": "2023-09-04T20:07:43.056747Z",
     "iopub.status.busy": "2023-09-04T20:07:43.056462Z",
     "iopub.status.idle": "2023-09-04T20:07:48.100229Z",
     "shell.execute_reply": "2023-09-04T20:07:48.099343Z"
    },
    "papermill": {
     "duration": 5.064278,
     "end_time": "2023-09-04T20:07:48.112601",
     "exception": false,
     "start_time": "2023-09-04T20:07:43.048323",
     "status": "completed"
    },
    "tags": []
   },
   "outputs": [
    {
     "name": "stdout",
     "output_type": "stream",
     "text": [
      "Model: \"sequential\"\n",
      "_________________________________________________________________\n",
      " Layer (type)                Output Shape              Param #   \n",
      "=================================================================\n",
      " lstm (LSTM)                 (None, 80, 150)           93000     \n",
      "                                                                 \n",
      " dropout (Dropout)           (None, 80, 150)           0         \n",
      "                                                                 \n",
      " flatten (Flatten)           (None, 12000)             0         \n",
      "                                                                 \n",
      " dense (Dense)               (None, 128)               1536128   \n",
      "                                                                 \n",
      " dense_1 (Dense)             (None, 256)               33024     \n",
      "                                                                 \n",
      " dense_2 (Dense)             (None, 512)               131584    \n",
      "                                                                 \n",
      " dense_3 (Dense)             (None, 80)                41040     \n",
      "                                                                 \n",
      "=================================================================\n",
      "Total params: 1,834,776\n",
      "Trainable params: 1,834,776\n",
      "Non-trainable params: 0\n",
      "_________________________________________________________________\n"
     ]
    }
   ],
   "source": [
    "def get_model(n_steps, n_features):\n",
    "    model = tf.keras.Sequential([\n",
    "        layers.InputLayer(input_shape=(n_steps, n_features)),\n",
    "        layers.LSTM(150, return_sequences=True),\n",
    "        layers.Dropout(0.2),\n",
    "        layers.Flatten(),\n",
    "        layers.Dense(128, activation='gelu'),\n",
    "        layers.Dense(256, activation='gelu'),\n",
    "        layers.Dense(512, activation='gelu'),\n",
    "        layers.Dense(80)\n",
    "    ])\n",
    "    return model\n",
    "\n",
    "n_steps = 80\n",
    "n_features = len(feature_cols)\n",
    "model = get_model(n_steps, n_features)\n",
    "model.compile(optimizer=\"adam\", loss=\"mae\")\n",
    "\n",
    "model.summary()"
   ]
  },
  {
   "cell_type": "code",
   "execution_count": 14,
   "id": "fe50d9b7",
   "metadata": {
    "execution": {
     "iopub.execute_input": "2023-09-04T20:07:48.131742Z",
     "iopub.status.busy": "2023-09-04T20:07:48.131450Z",
     "iopub.status.idle": "2023-09-04T20:18:12.731076Z",
     "shell.execute_reply": "2023-09-04T20:18:12.729818Z"
    },
    "papermill": {
     "duration": 624.612461,
     "end_time": "2023-09-04T20:18:12.734038",
     "exception": false,
     "start_time": "2023-09-04T20:07:48.121577",
     "status": "completed"
    },
    "tags": []
   },
   "outputs": [
    {
     "name": "stdout",
     "output_type": "stream",
     "text": [
      "Epoch 1/200\n",
      "118/118 [==============================] - 11s 28ms/step - loss: 2.4314 - val_loss: 1.2459 - lr: 0.0010\n",
      "Epoch 2/200\n",
      "118/118 [==============================] - 3s 23ms/step - loss: 1.1288 - val_loss: 1.0361 - lr: 9.9885e-04\n",
      "Epoch 3/200\n",
      "118/118 [==============================] - 3s 22ms/step - loss: 0.9737 - val_loss: 0.9129 - lr: 9.9770e-04\n",
      "Epoch 4/200\n",
      "118/118 [==============================] - 3s 23ms/step - loss: 0.8457 - val_loss: 0.8450 - lr: 9.9655e-04\n",
      "Epoch 5/200\n",
      "118/118 [==============================] - 3s 24ms/step - loss: 0.8056 - val_loss: 0.7792 - lr: 9.9541e-04\n",
      "Epoch 6/200\n",
      "118/118 [==============================] - 3s 22ms/step - loss: 0.7475 - val_loss: 0.7263 - lr: 9.9426e-04\n",
      "Epoch 7/200\n",
      "118/118 [==============================] - 3s 22ms/step - loss: 0.7075 - val_loss: 0.6652 - lr: 9.9312e-04\n",
      "Epoch 8/200\n",
      "118/118 [==============================] - 3s 23ms/step - loss: 0.6710 - val_loss: 0.6433 - lr: 9.9197e-04\n",
      "Epoch 9/200\n",
      "118/118 [==============================] - 3s 22ms/step - loss: 0.6574 - val_loss: 0.6157 - lr: 9.9083e-04\n",
      "Epoch 10/200\n",
      "118/118 [==============================] - 3s 23ms/step - loss: 0.6239 - val_loss: 0.6038 - lr: 9.8969e-04\n",
      "Epoch 11/200\n",
      "118/118 [==============================] - 3s 22ms/step - loss: 0.6113 - val_loss: 0.5726 - lr: 9.8855e-04\n",
      "Epoch 12/200\n",
      "118/118 [==============================] - 3s 23ms/step - loss: 0.5950 - val_loss: 0.5713 - lr: 9.8742e-04\n",
      "Epoch 13/200\n",
      "118/118 [==============================] - 3s 22ms/step - loss: 0.5804 - val_loss: 0.5974 - lr: 9.8628e-04\n",
      "Epoch 14/200\n",
      "118/118 [==============================] - 3s 23ms/step - loss: 0.5847 - val_loss: 0.5564 - lr: 9.8514e-04\n",
      "Epoch 15/200\n",
      "118/118 [==============================] - 3s 23ms/step - loss: 0.5598 - val_loss: 0.5462 - lr: 9.8401e-04\n",
      "Epoch 16/200\n",
      "118/118 [==============================] - 3s 23ms/step - loss: 0.5505 - val_loss: 0.5358 - lr: 9.8288e-04\n",
      "Epoch 17/200\n",
      "118/118 [==============================] - 3s 24ms/step - loss: 0.5457 - val_loss: 0.5371 - lr: 9.8175e-04\n",
      "Epoch 18/200\n",
      "118/118 [==============================] - 3s 23ms/step - loss: 0.5374 - val_loss: 0.5478 - lr: 9.8062e-04\n",
      "Epoch 19/200\n",
      "118/118 [==============================] - 3s 24ms/step - loss: 0.5331 - val_loss: 0.5020 - lr: 9.7949e-04\n",
      "Epoch 20/200\n",
      "118/118 [==============================] - 3s 23ms/step - loss: 0.5338 - val_loss: 0.5356 - lr: 9.7836e-04\n",
      "Epoch 21/200\n",
      "118/118 [==============================] - 3s 23ms/step - loss: 0.5182 - val_loss: 0.5121 - lr: 9.7724e-04\n",
      "Epoch 22/200\n",
      "118/118 [==============================] - 3s 24ms/step - loss: 0.5220 - val_loss: 0.5241 - lr: 9.7611e-04\n",
      "Epoch 23/200\n",
      "118/118 [==============================] - 3s 23ms/step - loss: 0.5112 - val_loss: 0.4852 - lr: 9.7499e-04\n",
      "Epoch 24/200\n",
      "118/118 [==============================] - 3s 23ms/step - loss: 0.5038 - val_loss: 0.5270 - lr: 9.7387e-04\n",
      "Epoch 25/200\n",
      "118/118 [==============================] - 3s 23ms/step - loss: 0.5057 - val_loss: 0.5084 - lr: 9.7275e-04\n",
      "Epoch 26/200\n",
      "118/118 [==============================] - 3s 24ms/step - loss: 0.4971 - val_loss: 0.4823 - lr: 9.7163e-04\n",
      "Epoch 27/200\n",
      "118/118 [==============================] - 3s 24ms/step - loss: 0.4973 - val_loss: 0.4756 - lr: 9.7051e-04\n",
      "Epoch 28/200\n",
      "118/118 [==============================] - 3s 25ms/step - loss: 0.4937 - val_loss: 0.4810 - lr: 9.6939e-04\n",
      "Epoch 29/200\n",
      "118/118 [==============================] - 3s 24ms/step - loss: 0.4857 - val_loss: 0.4952 - lr: 9.6828e-04\n",
      "Epoch 30/200\n",
      "118/118 [==============================] - 3s 24ms/step - loss: 0.4892 - val_loss: 0.4717 - lr: 9.6716e-04\n",
      "Epoch 31/200\n",
      "118/118 [==============================] - 3s 24ms/step - loss: 0.4805 - val_loss: 0.4669 - lr: 9.6605e-04\n",
      "Epoch 32/200\n",
      "118/118 [==============================] - 3s 24ms/step - loss: 0.4764 - val_loss: 0.4686 - lr: 9.6494e-04\n",
      "Epoch 33/200\n",
      "118/118 [==============================] - 3s 25ms/step - loss: 0.4827 - val_loss: 0.4688 - lr: 9.6383e-04\n",
      "Epoch 34/200\n",
      "118/118 [==============================] - 3s 24ms/step - loss: 0.4734 - val_loss: 0.4631 - lr: 9.6272e-04\n",
      "Epoch 35/200\n",
      "118/118 [==============================] - 3s 25ms/step - loss: 0.4782 - val_loss: 0.4831 - lr: 9.6161e-04\n",
      "Epoch 36/200\n",
      "118/118 [==============================] - 3s 24ms/step - loss: 0.4647 - val_loss: 0.4632 - lr: 9.6051e-04\n",
      "Epoch 37/200\n",
      "118/118 [==============================] - 3s 24ms/step - loss: 0.4637 - val_loss: 0.4530 - lr: 9.5940e-04\n",
      "Epoch 38/200\n",
      "118/118 [==============================] - 3s 25ms/step - loss: 0.4666 - val_loss: 0.4835 - lr: 9.5830e-04\n",
      "Epoch 39/200\n",
      "118/118 [==============================] - 3s 25ms/step - loss: 0.4622 - val_loss: 0.4431 - lr: 9.5719e-04\n",
      "Epoch 40/200\n",
      "118/118 [==============================] - 3s 24ms/step - loss: 0.4592 - val_loss: 0.4527 - lr: 9.5609e-04\n",
      "Epoch 41/200\n",
      "118/118 [==============================] - 3s 24ms/step - loss: 0.4585 - val_loss: 0.4902 - lr: 9.5499e-04\n",
      "Epoch 42/200\n",
      "118/118 [==============================] - 3s 24ms/step - loss: 0.4547 - val_loss: 0.4438 - lr: 9.5389e-04\n",
      "Epoch 43/200\n",
      "118/118 [==============================] - 3s 24ms/step - loss: 0.4536 - val_loss: 0.4435 - lr: 9.5280e-04\n",
      "Epoch 44/200\n",
      "118/118 [==============================] - 3s 24ms/step - loss: 0.4487 - val_loss: 0.4524 - lr: 9.5170e-04\n",
      "Epoch 45/200\n",
      "118/118 [==============================] - 3s 24ms/step - loss: 0.4529 - val_loss: 0.4427 - lr: 9.5060e-04\n",
      "Epoch 46/200\n",
      "118/118 [==============================] - 3s 24ms/step - loss: 0.4494 - val_loss: 0.4311 - lr: 9.4951e-04\n",
      "Epoch 47/200\n",
      "118/118 [==============================] - 3s 23ms/step - loss: 0.4466 - val_loss: 0.4332 - lr: 9.4842e-04\n",
      "Epoch 48/200\n",
      "118/118 [==============================] - 3s 24ms/step - loss: 0.4433 - val_loss: 0.4340 - lr: 9.4733e-04\n",
      "Epoch 49/200\n",
      "118/118 [==============================] - 3s 23ms/step - loss: 0.4391 - val_loss: 0.4357 - lr: 9.4624e-04\n",
      "Epoch 50/200\n",
      "118/118 [==============================] - 3s 24ms/step - loss: 0.4463 - val_loss: 0.4284 - lr: 9.4515e-04\n",
      "Epoch 51/200\n",
      "118/118 [==============================] - 3s 24ms/step - loss: 0.4392 - val_loss: 0.4308 - lr: 9.4406e-04\n",
      "Epoch 52/200\n",
      "118/118 [==============================] - 3s 24ms/step - loss: 0.4420 - val_loss: 0.4498 - lr: 9.4297e-04\n",
      "Epoch 53/200\n",
      "118/118 [==============================] - 3s 24ms/step - loss: 0.4316 - val_loss: 0.4291 - lr: 9.4189e-04\n",
      "Epoch 54/200\n",
      "118/118 [==============================] - 3s 24ms/step - loss: 0.4347 - val_loss: 0.4246 - lr: 9.4081e-04\n",
      "Epoch 55/200\n",
      "118/118 [==============================] - 3s 24ms/step - loss: 0.4360 - val_loss: 0.4241 - lr: 9.3972e-04\n",
      "Epoch 56/200\n",
      "118/118 [==============================] - 3s 24ms/step - loss: 0.4304 - val_loss: 0.4256 - lr: 9.3864e-04\n",
      "Epoch 57/200\n",
      "118/118 [==============================] - 3s 23ms/step - loss: 0.4268 - val_loss: 0.4293 - lr: 9.3756e-04\n",
      "Epoch 58/200\n",
      "118/118 [==============================] - 3s 24ms/step - loss: 0.4281 - val_loss: 0.4267 - lr: 9.3648e-04\n",
      "Epoch 59/200\n",
      "118/118 [==============================] - 3s 24ms/step - loss: 0.4283 - val_loss: 0.4180 - lr: 9.3541e-04\n",
      "Epoch 60/200\n",
      "118/118 [==============================] - 3s 24ms/step - loss: 0.4304 - val_loss: 0.4268 - lr: 9.3433e-04\n",
      "Epoch 61/200\n",
      "118/118 [==============================] - 3s 24ms/step - loss: 0.4211 - val_loss: 0.4179 - lr: 9.3325e-04\n",
      "Epoch 62/200\n",
      "118/118 [==============================] - 3s 26ms/step - loss: 0.4234 - val_loss: 0.4215 - lr: 9.3218e-04\n",
      "Epoch 63/200\n",
      "118/118 [==============================] - 3s 24ms/step - loss: 0.4212 - val_loss: 0.4185 - lr: 9.3111e-04\n",
      "Epoch 64/200\n",
      "118/118 [==============================] - 3s 24ms/step - loss: 0.4241 - val_loss: 0.4248 - lr: 9.3004e-04\n",
      "Epoch 65/200\n",
      "118/118 [==============================] - 3s 24ms/step - loss: 0.4173 - val_loss: 0.4186 - lr: 9.2897e-04\n",
      "Epoch 66/200\n",
      "118/118 [==============================] - 3s 24ms/step - loss: 0.4134 - val_loss: 0.4202 - lr: 9.2790e-04\n",
      "Epoch 67/200\n",
      "118/118 [==============================] - 3s 24ms/step - loss: 0.4156 - val_loss: 0.4151 - lr: 9.2683e-04\n",
      "Epoch 68/200\n",
      "118/118 [==============================] - 3s 24ms/step - loss: 0.4126 - val_loss: 0.4120 - lr: 9.2576e-04\n",
      "Epoch 69/200\n",
      "118/118 [==============================] - 3s 24ms/step - loss: 0.4129 - val_loss: 0.4180 - lr: 9.2470e-04\n",
      "Epoch 70/200\n",
      "118/118 [==============================] - 3s 24ms/step - loss: 0.4131 - val_loss: 0.4111 - lr: 9.2363e-04\n",
      "Epoch 71/200\n",
      "118/118 [==============================] - 3s 24ms/step - loss: 0.4137 - val_loss: 0.4191 - lr: 9.2257e-04\n",
      "Epoch 72/200\n",
      "118/118 [==============================] - 3s 24ms/step - loss: 0.4115 - val_loss: 0.4634 - lr: 9.2151e-04\n",
      "Epoch 73/200\n",
      "118/118 [==============================] - 3s 26ms/step - loss: 0.4074 - val_loss: 0.4071 - lr: 9.2045e-04\n",
      "Epoch 74/200\n",
      "118/118 [==============================] - 3s 24ms/step - loss: 0.4097 - val_loss: 0.4040 - lr: 9.1939e-04\n",
      "Epoch 75/200\n",
      "118/118 [==============================] - 3s 24ms/step - loss: 0.4054 - val_loss: 0.4015 - lr: 9.1833e-04\n",
      "Epoch 76/200\n",
      "118/118 [==============================] - 3s 24ms/step - loss: 0.4038 - val_loss: 0.4042 - lr: 9.1728e-04\n",
      "Epoch 77/200\n",
      "118/118 [==============================] - 3s 24ms/step - loss: 0.4053 - val_loss: 0.3975 - lr: 9.1622e-04\n",
      "Epoch 78/200\n",
      "118/118 [==============================] - 3s 24ms/step - loss: 0.4072 - val_loss: 0.4278 - lr: 9.1517e-04\n",
      "Epoch 79/200\n",
      "118/118 [==============================] - 3s 24ms/step - loss: 0.4024 - val_loss: 0.4031 - lr: 9.1411e-04\n",
      "Epoch 80/200\n",
      "118/118 [==============================] - 3s 24ms/step - loss: 0.4016 - val_loss: 0.4009 - lr: 9.1306e-04\n",
      "Epoch 81/200\n",
      "118/118 [==============================] - 3s 24ms/step - loss: 0.4029 - val_loss: 0.4031 - lr: 9.1201e-04\n",
      "Epoch 82/200\n",
      "118/118 [==============================] - 3s 24ms/step - loss: 0.4009 - val_loss: 0.4095 - lr: 9.1096e-04\n",
      "Epoch 83/200\n",
      "118/118 [==============================] - 3s 24ms/step - loss: 0.3978 - val_loss: 0.4100 - lr: 9.0991e-04\n",
      "Epoch 84/200\n",
      "118/118 [==============================] - 3s 24ms/step - loss: 0.3965 - val_loss: 0.3984 - lr: 9.0887e-04\n",
      "Epoch 85/200\n",
      "118/118 [==============================] - 3s 24ms/step - loss: 0.3961 - val_loss: 0.3937 - lr: 9.0782e-04\n",
      "Epoch 86/200\n",
      "118/118 [==============================] - 3s 24ms/step - loss: 0.3942 - val_loss: 0.3955 - lr: 9.0678e-04\n",
      "Epoch 87/200\n",
      "118/118 [==============================] - 3s 25ms/step - loss: 0.3951 - val_loss: 0.4257 - lr: 9.0573e-04\n",
      "Epoch 88/200\n",
      "118/118 [==============================] - 3s 24ms/step - loss: 0.3928 - val_loss: 0.3940 - lr: 9.0469e-04\n",
      "Epoch 89/200\n",
      "118/118 [==============================] - 3s 24ms/step - loss: 0.3914 - val_loss: 0.3978 - lr: 9.0365e-04\n",
      "Epoch 90/200\n",
      "118/118 [==============================] - 3s 24ms/step - loss: 0.3931 - val_loss: 0.3863 - lr: 9.0261e-04\n",
      "Epoch 91/200\n",
      "118/118 [==============================] - 3s 24ms/step - loss: 0.3893 - val_loss: 0.3896 - lr: 9.0157e-04\n",
      "Epoch 92/200\n",
      "118/118 [==============================] - 3s 24ms/step - loss: 0.3915 - val_loss: 0.3899 - lr: 9.0053e-04\n",
      "Epoch 93/200\n",
      "118/118 [==============================] - 3s 24ms/step - loss: 0.3876 - val_loss: 0.3909 - lr: 8.9950e-04\n",
      "Epoch 94/200\n",
      "118/118 [==============================] - 3s 24ms/step - loss: 0.3876 - val_loss: 0.3955 - lr: 8.9846e-04\n",
      "Epoch 95/200\n",
      "118/118 [==============================] - 3s 24ms/step - loss: 0.3889 - val_loss: 0.3930 - lr: 8.9743e-04\n",
      "Epoch 96/200\n",
      "118/118 [==============================] - 3s 24ms/step - loss: 0.3850 - val_loss: 0.3876 - lr: 8.9640e-04\n",
      "Epoch 97/200\n",
      "118/118 [==============================] - 3s 24ms/step - loss: 0.3852 - val_loss: 0.3935 - lr: 8.9536e-04\n",
      "Epoch 98/200\n",
      "118/118 [==============================] - 3s 24ms/step - loss: 0.3922 - val_loss: 0.3855 - lr: 8.9433e-04\n",
      "Epoch 99/200\n",
      "118/118 [==============================] - 3s 24ms/step - loss: 0.3808 - val_loss: 0.3806 - lr: 8.9331e-04\n",
      "Epoch 100/200\n",
      "118/118 [==============================] - 3s 24ms/step - loss: 0.3836 - val_loss: 0.3832 - lr: 8.9228e-04\n",
      "Epoch 101/200\n",
      "118/118 [==============================] - 3s 25ms/step - loss: 0.3891 - val_loss: 0.3802 - lr: 8.9125e-04\n",
      "Epoch 102/200\n",
      "118/118 [==============================] - 3s 24ms/step - loss: 0.3799 - val_loss: 0.3936 - lr: 8.9023e-04\n",
      "Epoch 103/200\n",
      "118/118 [==============================] - 3s 24ms/step - loss: 0.3806 - val_loss: 0.3771 - lr: 8.8920e-04\n",
      "Epoch 104/200\n",
      "118/118 [==============================] - 3s 24ms/step - loss: 0.3800 - val_loss: 0.3801 - lr: 8.8818e-04\n",
      "Epoch 105/200\n",
      "118/118 [==============================] - 3s 24ms/step - loss: 0.3795 - val_loss: 0.4020 - lr: 8.8716e-04\n",
      "Epoch 106/200\n",
      "118/118 [==============================] - 3s 24ms/step - loss: 0.3780 - val_loss: 0.3777 - lr: 8.8614e-04\n",
      "Epoch 107/200\n",
      "118/118 [==============================] - 3s 24ms/step - loss: 0.3787 - val_loss: 0.3804 - lr: 8.8512e-04\n",
      "Epoch 108/200\n",
      "118/118 [==============================] - 3s 24ms/step - loss: 0.3773 - val_loss: 0.3938 - lr: 8.8410e-04\n",
      "Epoch 109/200\n",
      "118/118 [==============================] - 3s 24ms/step - loss: 0.3785 - val_loss: 0.3787 - lr: 8.8308e-04\n",
      "Epoch 110/200\n",
      "118/118 [==============================] - 3s 24ms/step - loss: 0.3749 - val_loss: 0.3865 - lr: 8.8206e-04\n",
      "Epoch 111/200\n",
      "118/118 [==============================] - 3s 25ms/step - loss: 0.3776 - val_loss: 0.3781 - lr: 8.8105e-04\n",
      "Epoch 112/200\n",
      "118/118 [==============================] - 3s 24ms/step - loss: 0.3744 - val_loss: 0.3789 - lr: 8.8004e-04\n",
      "Epoch 113/200\n",
      "118/118 [==============================] - 3s 24ms/step - loss: 0.3728 - val_loss: 0.3733 - lr: 8.7902e-04\n",
      "Epoch 114/200\n",
      "118/118 [==============================] - 3s 24ms/step - loss: 0.3705 - val_loss: 0.3780 - lr: 8.7801e-04\n",
      "Epoch 115/200\n",
      "118/118 [==============================] - 3s 25ms/step - loss: 0.3717 - val_loss: 0.3760 - lr: 8.7700e-04\n",
      "Epoch 116/200\n",
      "118/118 [==============================] - 3s 24ms/step - loss: 0.3708 - val_loss: 0.3807 - lr: 8.7599e-04\n",
      "Epoch 117/200\n",
      "118/118 [==============================] - 3s 24ms/step - loss: 0.3708 - val_loss: 0.3747 - lr: 8.7498e-04\n",
      "Epoch 118/200\n",
      "118/118 [==============================] - 3s 26ms/step - loss: 0.3693 - val_loss: 0.3708 - lr: 8.7398e-04\n",
      "Epoch 119/200\n",
      "118/118 [==============================] - 3s 24ms/step - loss: 0.3749 - val_loss: 0.3721 - lr: 8.7297e-04\n",
      "Epoch 120/200\n",
      "118/118 [==============================] - 3s 24ms/step - loss: 0.3653 - val_loss: 0.3718 - lr: 8.7197e-04\n",
      "Epoch 121/200\n",
      "118/118 [==============================] - 3s 24ms/step - loss: 0.3699 - val_loss: 0.3748 - lr: 8.7096e-04\n",
      "Epoch 122/200\n",
      "118/118 [==============================] - 3s 24ms/step - loss: 0.3679 - val_loss: 0.3679 - lr: 8.6996e-04\n",
      "Epoch 123/200\n",
      "118/118 [==============================] - 3s 24ms/step - loss: 0.3637 - val_loss: 0.3760 - lr: 8.6896e-04\n",
      "Epoch 124/200\n",
      "118/118 [==============================] - 3s 24ms/step - loss: 0.3663 - val_loss: 0.3706 - lr: 8.6796e-04\n",
      "Epoch 125/200\n",
      "118/118 [==============================] - 3s 24ms/step - loss: 0.3663 - val_loss: 0.3811 - lr: 8.6696e-04\n",
      "Epoch 126/200\n",
      "118/118 [==============================] - 3s 24ms/step - loss: 0.3633 - val_loss: 0.3665 - lr: 8.6596e-04\n",
      "Epoch 127/200\n",
      "118/118 [==============================] - 3s 24ms/step - loss: 0.3631 - val_loss: 0.3700 - lr: 8.6497e-04\n",
      "Epoch 128/200\n",
      "118/118 [==============================] - 3s 24ms/step - loss: 0.3672 - val_loss: 0.3702 - lr: 8.6397e-04\n",
      "Epoch 129/200\n",
      "118/118 [==============================] - 3s 25ms/step - loss: 0.3608 - val_loss: 0.3754 - lr: 8.6298e-04\n",
      "Epoch 130/200\n",
      "118/118 [==============================] - 3s 24ms/step - loss: 0.3617 - val_loss: 0.3698 - lr: 8.6199e-04\n",
      "Epoch 131/200\n",
      "118/118 [==============================] - 3s 24ms/step - loss: 0.3608 - val_loss: 0.3667 - lr: 8.6099e-04\n",
      "Epoch 132/200\n",
      "118/118 [==============================] - 3s 24ms/step - loss: 0.3600 - val_loss: 0.3672 - lr: 8.6000e-04\n",
      "Epoch 133/200\n",
      "118/118 [==============================] - 3s 24ms/step - loss: 0.3579 - val_loss: 0.3685 - lr: 8.5901e-04\n",
      "Epoch 134/200\n",
      "118/118 [==============================] - 3s 24ms/step - loss: 0.3591 - val_loss: 0.3636 - lr: 8.5803e-04\n",
      "Epoch 135/200\n",
      "118/118 [==============================] - 3s 24ms/step - loss: 0.3589 - val_loss: 0.3704 - lr: 8.5704e-04\n",
      "Epoch 136/200\n",
      "118/118 [==============================] - 3s 24ms/step - loss: 0.3569 - val_loss: 0.3742 - lr: 8.5605e-04\n",
      "Epoch 137/200\n",
      "118/118 [==============================] - 3s 24ms/step - loss: 0.3563 - val_loss: 0.3703 - lr: 8.5507e-04\n",
      "Epoch 138/200\n",
      "118/118 [==============================] - 3s 25ms/step - loss: 0.3606 - val_loss: 0.3684 - lr: 8.5408e-04\n",
      "Epoch 139/200\n",
      "118/118 [==============================] - 3s 24ms/step - loss: 0.3578 - val_loss: 0.3624 - lr: 8.5310e-04\n",
      "Epoch 140/200\n",
      "118/118 [==============================] - 3s 25ms/step - loss: 0.3543 - val_loss: 0.3587 - lr: 8.5212e-04\n",
      "Epoch 141/200\n",
      "118/118 [==============================] - 3s 24ms/step - loss: 0.3567 - val_loss: 0.3614 - lr: 8.5114e-04\n",
      "Epoch 142/200\n",
      "118/118 [==============================] - 3s 24ms/step - loss: 0.3562 - val_loss: 0.3658 - lr: 8.5016e-04\n",
      "Epoch 143/200\n",
      "118/118 [==============================] - 3s 24ms/step - loss: 0.3558 - val_loss: 0.3627 - lr: 8.4918e-04\n",
      "Epoch 144/200\n",
      "118/118 [==============================] - 3s 24ms/step - loss: 0.3545 - val_loss: 0.3715 - lr: 8.4820e-04\n",
      "Epoch 145/200\n",
      "118/118 [==============================] - 3s 24ms/step - loss: 0.3543 - val_loss: 0.3642 - lr: 8.4723e-04\n",
      "Epoch 146/200\n",
      "118/118 [==============================] - 3s 24ms/step - loss: 0.3539 - val_loss: 0.3604 - lr: 8.4625e-04\n",
      "Epoch 147/200\n",
      "118/118 [==============================] - 3s 24ms/step - loss: 0.3561 - val_loss: 0.3723 - lr: 8.4528e-04\n",
      "Epoch 148/200\n",
      "118/118 [==============================] - 3s 24ms/step - loss: 0.3524 - val_loss: 0.3579 - lr: 8.4431e-04\n",
      "Epoch 149/200\n",
      "118/118 [==============================] - 3s 24ms/step - loss: 0.3500 - val_loss: 0.3560 - lr: 8.4333e-04\n",
      "Epoch 150/200\n",
      "118/118 [==============================] - 3s 24ms/step - loss: 0.3493 - val_loss: 0.3659 - lr: 8.4236e-04\n",
      "Epoch 151/200\n",
      "118/118 [==============================] - 3s 24ms/step - loss: 0.3514 - val_loss: 0.3613 - lr: 8.4140e-04\n",
      "Epoch 152/200\n",
      "118/118 [==============================] - 3s 25ms/step - loss: 0.3498 - val_loss: 0.3563 - lr: 8.4043e-04\n",
      "Epoch 153/200\n",
      "118/118 [==============================] - 3s 24ms/step - loss: 0.3472 - val_loss: 0.3567 - lr: 8.3946e-04\n",
      "Epoch 154/200\n",
      "118/118 [==============================] - 3s 24ms/step - loss: 0.3499 - val_loss: 0.3554 - lr: 8.3849e-04\n",
      "Epoch 155/200\n",
      "118/118 [==============================] - 3s 24ms/step - loss: 0.3502 - val_loss: 0.3675 - lr: 8.3753e-04\n",
      "Epoch 156/200\n",
      "118/118 [==============================] - 3s 24ms/step - loss: 0.3493 - val_loss: 0.3608 - lr: 8.3657e-04\n",
      "Epoch 157/200\n",
      "118/118 [==============================] - 3s 24ms/step - loss: 0.3469 - val_loss: 0.3604 - lr: 8.3560e-04\n",
      "Epoch 158/200\n",
      "118/118 [==============================] - 3s 24ms/step - loss: 0.3474 - val_loss: 0.3509 - lr: 8.3464e-04\n",
      "Epoch 159/200\n",
      "118/118 [==============================] - 3s 24ms/step - loss: 0.3452 - val_loss: 0.3559 - lr: 8.3368e-04\n",
      "Epoch 160/200\n",
      "118/118 [==============================] - 3s 24ms/step - loss: 0.3432 - val_loss: 0.3553 - lr: 8.3272e-04\n",
      "Epoch 161/200\n",
      "118/118 [==============================] - 3s 24ms/step - loss: 0.3476 - val_loss: 0.3552 - lr: 8.3176e-04\n",
      "Epoch 162/200\n",
      "118/118 [==============================] - 3s 24ms/step - loss: 0.3464 - val_loss: 0.3852 - lr: 8.3081e-04\n",
      "Epoch 163/200\n",
      "118/118 [==============================] - 3s 25ms/step - loss: 0.3435 - val_loss: 0.3490 - lr: 8.2985e-04\n",
      "Epoch 164/200\n",
      "118/118 [==============================] - 3s 25ms/step - loss: 0.3409 - val_loss: 0.3505 - lr: 8.2890e-04\n",
      "Epoch 165/200\n",
      "118/118 [==============================] - 3s 24ms/step - loss: 0.3423 - val_loss: 0.3538 - lr: 8.2794e-04\n",
      "Epoch 166/200\n",
      "118/118 [==============================] - 3s 24ms/step - loss: 0.3443 - val_loss: 0.3496 - lr: 8.2699e-04\n",
      "Epoch 167/200\n",
      "118/118 [==============================] - 3s 25ms/step - loss: 0.3434 - val_loss: 0.3475 - lr: 8.2604e-04\n",
      "Epoch 168/200\n",
      "118/118 [==============================] - 3s 24ms/step - loss: 0.3405 - val_loss: 0.3498 - lr: 8.2509e-04\n",
      "Epoch 169/200\n",
      "118/118 [==============================] - 3s 24ms/step - loss: 0.3380 - val_loss: 0.3519 - lr: 8.2414e-04\n",
      "Epoch 170/200\n",
      "118/118 [==============================] - 3s 24ms/step - loss: 0.3386 - val_loss: 0.3473 - lr: 8.2319e-04\n",
      "Epoch 171/200\n",
      "118/118 [==============================] - 3s 24ms/step - loss: 0.3409 - val_loss: 0.3509 - lr: 8.2224e-04\n",
      "Epoch 172/200\n",
      "118/118 [==============================] - 3s 24ms/step - loss: 0.3376 - val_loss: 0.3514 - lr: 8.2130e-04\n",
      "Epoch 173/200\n",
      "118/118 [==============================] - 3s 24ms/step - loss: 0.3392 - val_loss: 0.3455 - lr: 8.2035e-04\n",
      "Epoch 174/200\n",
      "118/118 [==============================] - 3s 24ms/step - loss: 0.3373 - val_loss: 0.3461 - lr: 8.1941e-04\n",
      "Epoch 175/200\n",
      "118/118 [==============================] - 3s 24ms/step - loss: 0.3357 - val_loss: 0.3488 - lr: 8.1846e-04\n",
      "Epoch 176/200\n",
      "118/118 [==============================] - 3s 24ms/step - loss: 0.3362 - val_loss: 0.3477 - lr: 8.1752e-04\n",
      "Epoch 177/200\n",
      "118/118 [==============================] - 3s 24ms/step - loss: 0.3352 - val_loss: 0.3514 - lr: 8.1658e-04\n",
      "Epoch 178/200\n",
      "118/118 [==============================] - 3s 25ms/step - loss: 0.3380 - val_loss: 0.3456 - lr: 8.1564e-04\n",
      "Epoch 179/200\n",
      "118/118 [==============================] - 3s 24ms/step - loss: 0.3353 - val_loss: 0.3462 - lr: 8.1470e-04\n",
      "Epoch 180/200\n",
      "118/118 [==============================] - 3s 24ms/step - loss: 0.3352 - val_loss: 0.3468 - lr: 8.1377e-04\n",
      "Epoch 181/200\n",
      "118/118 [==============================] - 3s 24ms/step - loss: 0.3354 - val_loss: 0.3495 - lr: 8.1283e-04\n",
      "Epoch 182/200\n",
      "118/118 [==============================] - 3s 24ms/step - loss: 0.3346 - val_loss: 0.3437 - lr: 8.1190e-04\n",
      "Epoch 183/200\n",
      "118/118 [==============================] - 3s 24ms/step - loss: 0.3339 - val_loss: 0.3468 - lr: 8.1096e-04\n",
      "Epoch 184/200\n",
      "118/118 [==============================] - 3s 24ms/step - loss: 0.3327 - val_loss: 0.3431 - lr: 8.1003e-04\n",
      "Epoch 185/200\n",
      "118/118 [==============================] - 3s 25ms/step - loss: 0.3331 - val_loss: 0.3441 - lr: 8.0910e-04\n",
      "Epoch 186/200\n",
      "118/118 [==============================] - 3s 24ms/step - loss: 0.3331 - val_loss: 0.3419 - lr: 8.0817e-04\n",
      "Epoch 187/200\n",
      "118/118 [==============================] - 3s 24ms/step - loss: 0.3321 - val_loss: 0.3418 - lr: 8.0724e-04\n",
      "Epoch 188/200\n",
      "118/118 [==============================] - 3s 24ms/step - loss: 0.3296 - val_loss: 0.3449 - lr: 8.0631e-04\n",
      "Epoch 189/200\n",
      "118/118 [==============================] - 3s 24ms/step - loss: 0.3337 - val_loss: 0.3410 - lr: 8.0538e-04\n",
      "Epoch 190/200\n",
      "118/118 [==============================] - 3s 24ms/step - loss: 0.3305 - val_loss: 0.3458 - lr: 8.0445e-04\n",
      "Epoch 191/200\n",
      "118/118 [==============================] - 3s 24ms/step - loss: 0.3325 - val_loss: 0.3499 - lr: 8.0353e-04\n",
      "Epoch 192/200\n",
      "118/118 [==============================] - 3s 24ms/step - loss: 0.3277 - val_loss: 0.3435 - lr: 8.0260e-04\n",
      "Epoch 193/200\n",
      "118/118 [==============================] - 3s 24ms/step - loss: 0.3281 - val_loss: 0.3386 - lr: 8.0168e-04\n",
      "Epoch 194/200\n",
      "118/118 [==============================] - 3s 24ms/step - loss: 0.3274 - val_loss: 0.3408 - lr: 8.0076e-04\n",
      "Epoch 195/200\n",
      "118/118 [==============================] - 3s 24ms/step - loss: 0.3319 - val_loss: 0.3446 - lr: 7.9983e-04\n",
      "Epoch 196/200\n",
      "118/118 [==============================] - 3s 25ms/step - loss: 0.3279 - val_loss: 0.3462 - lr: 7.9891e-04\n",
      "Epoch 197/200\n",
      "118/118 [==============================] - 3s 24ms/step - loss: 0.3275 - val_loss: 0.3399 - lr: 7.9799e-04\n",
      "Epoch 198/200\n",
      "118/118 [==============================] - 3s 24ms/step - loss: 0.3267 - val_loss: 0.3541 - lr: 7.9708e-04\n",
      "Epoch 199/200\n",
      "118/118 [==============================] - 3s 24ms/step - loss: 0.3255 - val_loss: 0.3447 - lr: 7.9616e-04\n",
      "Epoch 200/200\n",
      "118/118 [==============================] - 3s 24ms/step - loss: 0.3275 - val_loss: 0.3455 - lr: 7.9524e-04\n"
     ]
    }
   ],
   "source": [
    "scheduler = tf.keras.optimizers.schedules.ExponentialDecay(initial_learning_rate=1e-3, decay_steps=1e4, decay_rate=1e-5)\n",
    "cb_lr = tf.keras.callbacks.LearningRateScheduler(scheduler)\n",
    "cb_es = tf.keras.callbacks.EarlyStopping(monitor=\"val_loss\", patience=10, restore_best_weights=True)\n",
    "\n",
    "history = model.fit(X_train, y_train, validation_split=0.2, epochs=200, batch_size=512, callbacks=[cb_es, cb_lr])"
   ]
  },
  {
   "cell_type": "code",
   "execution_count": 15,
   "id": "988cc023",
   "metadata": {
    "execution": {
     "iopub.execute_input": "2023-09-04T20:18:14.459178Z",
     "iopub.status.busy": "2023-09-04T20:18:14.458031Z",
     "iopub.status.idle": "2023-09-04T20:18:14.927635Z",
     "shell.execute_reply": "2023-09-04T20:18:14.926713Z"
    },
    "papermill": {
     "duration": 1.262448,
     "end_time": "2023-09-04T20:18:14.930086",
     "exception": false,
     "start_time": "2023-09-04T20:18:13.667638",
     "status": "completed"
    },
    "tags": []
   },
   "outputs": [
    {
     "data": {
      "image/png": "[encoded data removed]",
      "text/plain": [
       "<Figure size 1600x700 with 1 Axes>"
      ]
     },
     "metadata": {},
     "output_type": "display_data"
    }
   ],
   "source": [
    "plt.figure(figsize=(16,7))\n",
    "loss=history.history['loss']\n",
    "val_loss=history.history['val_loss']\n",
    "\n",
    "epochs=range(1,len(loss)+1)\n",
    "\n",
    "plt.plot(epochs, loss, 'r')\n",
    "plt.plot(epochs, val_loss, 'b')\n",
    "plt.legend([\"Training\", \"Validation\" ])\n",
    "plt.xlabel(\"Epochs\")\n",
    "plt.ylabel(\"Loss\")\n",
    "plt.title('Training and validation loss')\n",
    "\n",
    "plt.show()"
   ]
  },
  {
   "cell_type": "code",
   "execution_count": 16,
   "id": "054b9f9d",
   "metadata": {
    "execution": {
     "iopub.execute_input": "2023-09-04T20:18:16.276155Z",
     "iopub.status.busy": "2023-09-04T20:18:16.275770Z",
     "iopub.status.idle": "2023-09-04T20:18:17.207988Z",
     "shell.execute_reply": "2023-09-04T20:18:17.207049Z"
    },
    "papermill": {
     "duration": 1.632748,
     "end_time": "2023-09-04T20:18:17.210290",
     "exception": false,
     "start_time": "2023-09-04T20:18:15.577542",
     "status": "completed"
    },
    "tags": []
   },
   "outputs": [
    {
     "name": "stdout",
     "output_type": "stream",
     "text": [
      "1/1 [==============================] - 0s 429ms/step\n"
     ]
    },
    {
     "data": {
      "image/png": "[encoded data removed]",
      "text/plain": [
       "<Figure size 1000x500 with 1 Axes>"
      ]
     },
     "metadata": {},
     "output_type": "display_data"
    }
   ],
   "source": [
    "idx = 1\n",
    "df_plot = train[train.breath_id == idx]\n",
    "p = model.predict(df_plot[feature_cols].values.reshape(-1, n_steps, n_features))\n",
    "x = range(80)\n",
    "y = df_plot['pressure']\n",
    "\n",
    "plt.figure(figsize=(10, 5))\n",
    "sns.lineplot(y=y, x=x)\n",
    "sns.lineplot(y=p.reshape(-1), x=x)\n",
    "plt.legend([\"Ground Truth\", \"Predicted\"])\n",
    "plt.ylabel(\"Pressure\")\n",
    "plt.xlabel(\"Time Steps\")\n",
    "plt.show()"
   ]
  }
 ],
 "kernelspec": {
  "display_name": "Python 3",
  "language": "python",
  "name": "python3"
 },
 "language_info": {
  "codemirror_mode": {
   "name": "ipython",
   "version": 3
  },
  "file_extension": ".py",
  "mimetype": "text/x-python",
  "name": "python",
  "nbconvert_exporter": "python",
  "pygments_lexer": "ipython3",
  "version": "3.6.4"
 },
 "metadata": {
  "kernelspec": {
   "display_name": "Python 3",
   "language": "python",
   "name": "python3"
  },
  "language_info": {
   "codemirror_mode": {
    "name": "ipython",
    "version": 3
   },
   "file_extension": ".py",
   "mimetype": "text/x-python",
   "name": "python",
   "nbconvert_exporter": "python",
   "pygments_lexer": "ipython3",
   "version": "3.10.12"
  },
  "papermill": {
   "default_parameters": {},
   "duration": 669.028153,
   "end_time": "2023-09-04T20:18:21.335400",
   "environment_variables": {},
   "exception": null,
   "input_path": "__notebook__.ipynb",
   "output_path": "__notebook__.ipynb",
   "parameters": {},
   "start_time": "2023-09-04T20:07:12.307247",
   "version": "2.4.0"
  }
 },
 "nbformat": 4,
 "nbformat_minor": 5
}
