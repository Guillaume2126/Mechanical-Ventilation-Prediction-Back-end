{
 "cells": [
  {
   "cell_type": "code",
   "execution_count": 1,
   "id": "797791ab",
   "metadata": {
    "_cell_guid": "b1076dfc-b9ad-4769-8c92-a6c4dae69d19",
    "_uuid": "8f2839f25d086af736a60e9eeb907d3b93b6e0e5",
    "execution": {
     "iopub.execute_input": "2023-09-04T19:20:35.463700Z",
     "iopub.status.busy": "2023-09-04T19:20:35.462921Z",
     "iopub.status.idle": "2023-09-04T19:20:54.677619Z",
     "shell.execute_reply": "2023-09-04T19:20:54.676569Z"
    },
    "papermill": {
     "duration": 19.227779,
     "end_time": "2023-09-04T19:20:54.680285",
     "exception": false,
     "start_time": "2023-09-04T19:20:35.452506",
     "status": "completed"
    },
    "tags": []
   },
   "outputs": [
    {
     "name": "stderr",
     "output_type": "stream",
     "text": [
      "/opt/conda/lib/python3.10/site-packages/scipy/__init__.py:146: UserWarning: A NumPy version >=1.16.5 and <1.23.0 is required for this version of SciPy (detected version 1.23.5\n",
      "  warnings.warn(f\"A NumPy version >={np_minversion} and <{np_maxversion}\"\n"
     ]
    }
   ],
   "source": [
    "import os\n",
    "os.environ['TF_CPP_MIN_LOG_LEVEL'] = '3'\n",
    "\n",
    "import seaborn as sns\n",
    "import matplotlib.pyplot as plt\n",
    "%matplotlib inline\n",
    "sns.set_style(\"darkgrid\")\n",
    "\n",
    "import numpy as np\n",
    "import pandas as pd\n",
    "import tensorflow as tf\n",
    "from tensorflow.keras import layers\n",
    "from sklearn.preprocessing import RobustScaler"
   ]
  },
  {
   "cell_type": "code",
   "execution_count": 2,
   "id": "076d6a66",
   "metadata": {
    "execution": {
     "iopub.execute_input": "2023-09-04T19:20:54.697047Z",
     "iopub.status.busy": "2023-09-04T19:20:54.696463Z",
     "iopub.status.idle": "2023-09-04T19:21:09.684247Z",
     "shell.execute_reply": "2023-09-04T19:21:09.683191Z"
    },
    "papermill": {
     "duration": 14.998877,
     "end_time": "2023-09-04T19:21:09.687013",
     "exception": false,
     "start_time": "2023-09-04T19:20:54.688136",
     "status": "completed"
    },
    "tags": []
   },
   "outputs": [],
   "source": [
    "train = pd.read_csv(\"/kaggle/input/ventilator-pressure-prediction/train.csv\", index_col=[0])\n",
    "test = pd.read_csv(\"/kaggle/input/ventilator-pressure-prediction/test.csv\", index_col=[0])"
   ]
  },
  {
   "cell_type": "code",
   "execution_count": 3,
   "id": "65fb7aea",
   "metadata": {
    "execution": {
     "iopub.execute_input": "2023-09-04T19:21:09.702194Z",
     "iopub.status.busy": "2023-09-04T19:21:09.701886Z",
     "iopub.status.idle": "2023-09-04T19:21:09.709565Z",
     "shell.execute_reply": "2023-09-04T19:21:09.708404Z"
    },
    "papermill": {
     "duration": 0.018862,
     "end_time": "2023-09-04T19:21:09.713050",
     "exception": false,
     "start_time": "2023-09-04T19:21:09.694188",
     "status": "completed"
    },
    "tags": []
   },
   "outputs": [
    {
     "data": {
      "text/plain": [
       "(6036000, 7)"
      ]
     },
     "execution_count": 3,
     "metadata": {},
     "output_type": "execute_result"
    }
   ],
   "source": [
    "train.shape"
   ]
  },
  {
   "cell_type": "code",
   "execution_count": 4,
   "id": "d573a28b",
   "metadata": {
    "execution": {
     "iopub.execute_input": "2023-09-04T19:21:09.729445Z",
     "iopub.status.busy": "2023-09-04T19:21:09.727872Z",
     "iopub.status.idle": "2023-09-04T19:21:09.735416Z",
     "shell.execute_reply": "2023-09-04T19:21:09.734488Z"
    },
    "papermill": {
     "duration": 0.017586,
     "end_time": "2023-09-04T19:21:09.737671",
     "exception": false,
     "start_time": "2023-09-04T19:21:09.720085",
     "status": "completed"
    },
    "tags": []
   },
   "outputs": [
    {
     "data": {
      "text/plain": [
       "(4024000, 6)"
      ]
     },
     "execution_count": 4,
     "metadata": {},
     "output_type": "execute_result"
    }
   ],
   "source": [
    "test.shape"
   ]
  },
  {
   "cell_type": "code",
   "execution_count": 5,
   "id": "9b597114",
   "metadata": {
    "execution": {
     "iopub.execute_input": "2023-09-04T19:21:09.752691Z",
     "iopub.status.busy": "2023-09-04T19:21:09.752233Z",
     "iopub.status.idle": "2023-09-04T19:21:09.757420Z",
     "shell.execute_reply": "2023-09-04T19:21:09.756418Z"
    },
    "papermill": {
     "duration": 0.016576,
     "end_time": "2023-09-04T19:21:09.760941",
     "exception": false,
     "start_time": "2023-09-04T19:21:09.744365",
     "status": "completed"
    },
    "tags": []
   },
   "outputs": [
    {
     "name": "stdout",
     "output_type": "stream",
     "text": [
      "Index(['breath_id', 'R', 'C', 'time_step', 'u_in', 'u_out', 'pressure'], dtype='object')\n"
     ]
    }
   ],
   "source": [
    "print(train.columns)"
   ]
  },
  {
   "cell_type": "code",
   "execution_count": 6,
   "id": "6487ae79",
   "metadata": {
    "execution": {
     "iopub.execute_input": "2023-09-04T19:21:09.776215Z",
     "iopub.status.busy": "2023-09-04T19:21:09.775937Z",
     "iopub.status.idle": "2023-09-04T19:21:09.779986Z",
     "shell.execute_reply": "2023-09-04T19:21:09.779070Z"
    },
    "papermill": {
     "duration": 0.014107,
     "end_time": "2023-09-04T19:21:09.782183",
     "exception": false,
     "start_time": "2023-09-04T19:21:09.768076",
     "status": "completed"
    },
    "tags": []
   },
   "outputs": [],
   "source": [
    "feature_cols = [\"R\",\"C\", \"u_in\", \"u_out\"]"
   ]
  },
  {
   "cell_type": "code",
   "execution_count": 7,
   "id": "bab3add2",
   "metadata": {
    "execution": {
     "iopub.execute_input": "2023-09-04T19:21:09.797790Z",
     "iopub.status.busy": "2023-09-04T19:21:09.797477Z",
     "iopub.status.idle": "2023-09-04T19:21:10.860627Z",
     "shell.execute_reply": "2023-09-04T19:21:10.859665Z"
    },
    "papermill": {
     "duration": 1.073764,
     "end_time": "2023-09-04T19:21:10.863114",
     "exception": false,
     "start_time": "2023-09-04T19:21:09.789350",
     "status": "completed"
    },
    "tags": []
   },
   "outputs": [],
   "source": [
    "RS = RobustScaler()\n",
    "train[feature_cols] = RS.fit_transform(train[feature_cols])\n",
    "test[feature_cols] = RS.transform(test[feature_cols])"
   ]
  },
  {
   "cell_type": "code",
   "execution_count": 8,
   "id": "93cd2ddb",
   "metadata": {
    "execution": {
     "iopub.execute_input": "2023-09-04T19:21:10.879599Z",
     "iopub.status.busy": "2023-09-04T19:21:10.878147Z",
     "iopub.status.idle": "2023-09-04T19:21:10.884127Z",
     "shell.execute_reply": "2023-09-04T19:21:10.883057Z"
    },
    "papermill": {
     "duration": 0.016065,
     "end_time": "2023-09-04T19:21:10.886478",
     "exception": false,
     "start_time": "2023-09-04T19:21:10.870413",
     "status": "completed"
    },
    "tags": []
   },
   "outputs": [],
   "source": [
    "n_steps = 80\n",
    "n_features = len(feature_cols)"
   ]
  },
  {
   "cell_type": "code",
   "execution_count": 9,
   "id": "2a00a42b",
   "metadata": {
    "execution": {
     "iopub.execute_input": "2023-09-04T19:21:10.900832Z",
     "iopub.status.busy": "2023-09-04T19:21:10.900526Z",
     "iopub.status.idle": "2023-09-04T19:21:10.906377Z",
     "shell.execute_reply": "2023-09-04T19:21:10.905422Z"
    },
    "papermill": {
     "duration": 0.015608,
     "end_time": "2023-09-04T19:21:10.908603",
     "exception": false,
     "start_time": "2023-09-04T19:21:10.892995",
     "status": "completed"
    },
    "tags": []
   },
   "outputs": [
    {
     "name": "stdout",
     "output_type": "stream",
     "text": [
      "Index(['breath_id', 'R', 'C', 'time_step', 'u_in', 'u_out', 'pressure'], dtype='object')\n"
     ]
    }
   ],
   "source": [
    "print(train.columns)"
   ]
  },
  {
   "cell_type": "code",
   "execution_count": 10,
   "id": "5a34b69d",
   "metadata": {
    "execution": {
     "iopub.execute_input": "2023-09-04T19:21:10.923638Z",
     "iopub.status.busy": "2023-09-04T19:21:10.923349Z",
     "iopub.status.idle": "2023-09-04T19:21:10.929482Z",
     "shell.execute_reply": "2023-09-04T19:21:10.928533Z"
    },
    "papermill": {
     "duration": 0.016857,
     "end_time": "2023-09-04T19:21:10.932542",
     "exception": false,
     "start_time": "2023-09-04T19:21:10.915685",
     "status": "completed"
    },
    "tags": []
   },
   "outputs": [
    {
     "data": {
      "text/plain": [
       "(6036000, 7)"
      ]
     },
     "execution_count": 10,
     "metadata": {},
     "output_type": "execute_result"
    }
   ],
   "source": [
    "train.shape"
   ]
  },
  {
   "cell_type": "code",
   "execution_count": 11,
   "id": "59316ef7",
   "metadata": {
    "execution": {
     "iopub.execute_input": "2023-09-04T19:21:10.947585Z",
     "iopub.status.busy": "2023-09-04T19:21:10.947294Z",
     "iopub.status.idle": "2023-09-04T19:21:11.129414Z",
     "shell.execute_reply": "2023-09-04T19:21:11.128015Z"
    },
    "papermill": {
     "duration": 0.195547,
     "end_time": "2023-09-04T19:21:11.135025",
     "exception": false,
     "start_time": "2023-09-04T19:21:10.939478",
     "status": "completed"
    },
    "tags": []
   },
   "outputs": [
    {
     "name": "stdout",
     "output_type": "stream",
     "text": [
      "24144000\n"
     ]
    }
   ],
   "source": [
    "print(train[feature_cols].values.size)"
   ]
  },
  {
   "cell_type": "code",
   "execution_count": 12,
   "id": "6a3b2054",
   "metadata": {
    "execution": {
     "iopub.execute_input": "2023-09-04T19:21:11.153306Z",
     "iopub.status.busy": "2023-09-04T19:21:11.152967Z",
     "iopub.status.idle": "2023-09-04T19:21:11.336836Z",
     "shell.execute_reply": "2023-09-04T19:21:11.335926Z"
    },
    "papermill": {
     "duration": 0.198632,
     "end_time": "2023-09-04T19:21:11.342971",
     "exception": false,
     "start_time": "2023-09-04T19:21:11.144339",
     "status": "completed"
    },
    "tags": []
   },
   "outputs": [
    {
     "name": "stdout",
     "output_type": "stream",
     "text": [
      "(75450, 80, 4) (75450, 80)\n"
     ]
    }
   ],
   "source": [
    "n_steps = 80\n",
    "n_features = len(feature_cols)\n",
    "target_column_name = 'pressure'  # Replace with the actual target column name\n",
    "\n",
    "# Assuming \"train\" is a DataFrame containing your training data\n",
    "n_samples_train = len(train) // n_steps  # Calculate the number of breaths\n",
    "y_train = train[target_column_name].values[:n_samples_train * n_steps].reshape(-1, n_steps)\n",
    "X_train = train[feature_cols].values[:n_samples_train * n_steps].reshape(-1, n_steps, n_features)\n",
    "\n",
    "print(X_train.shape, y_train.shape)"
   ]
  },
  {
   "cell_type": "code",
   "execution_count": 13,
   "id": "5e87656c",
   "metadata": {
    "execution": {
     "iopub.execute_input": "2023-09-04T19:21:11.359045Z",
     "iopub.status.busy": "2023-09-04T19:21:11.358741Z",
     "iopub.status.idle": "2023-09-04T19:21:18.207997Z",
     "shell.execute_reply": "2023-09-04T19:21:18.207170Z"
    },
    "papermill": {
     "duration": 6.86889,
     "end_time": "2023-09-04T19:21:18.219473",
     "exception": false,
     "start_time": "2023-09-04T19:21:11.350583",
     "status": "completed"
    },
    "tags": []
   },
   "outputs": [
    {
     "name": "stdout",
     "output_type": "stream",
     "text": [
      "Model: \"sequential\"\n",
      "_________________________________________________________________\n",
      " Layer (type)                Output Shape              Param #   \n",
      "=================================================================\n",
      " lstm (LSTM)                 (None, 80, 150)           93000     \n",
      "                                                                 \n",
      " dropout (Dropout)           (None, 80, 150)           0         \n",
      "                                                                 \n",
      " flatten (Flatten)           (None, 12000)             0         \n",
      "                                                                 \n",
      " dense (Dense)               (None, 128)               1536128   \n",
      "                                                                 \n",
      " dense_1 (Dense)             (None, 256)               33024     \n",
      "                                                                 \n",
      " dense_2 (Dense)             (None, 512)               131584    \n",
      "                                                                 \n",
      " dense_3 (Dense)             (None, 80)                41040     \n",
      "                                                                 \n",
      "=================================================================\n",
      "Total params: 1,834,776\n",
      "Trainable params: 1,834,776\n",
      "Non-trainable params: 0\n",
      "_________________________________________________________________\n"
     ]
    }
   ],
   "source": [
    "def get_model(n_steps, n_features):\n",
    "    model = tf.keras.Sequential([\n",
    "        layers.InputLayer(input_shape=(n_steps, n_features)),\n",
    "        layers.LSTM(150, return_sequences=True),\n",
    "        layers.Dropout(0.2),\n",
    "        layers.Flatten(),\n",
    "        layers.Dense(128, activation='swish'),\n",
    "        layers.Dense(256, activation='swish'),\n",
    "        layers.Dense(512, activation='swish'),\n",
    "        layers.Dense(80)\n",
    "    ])\n",
    "    return model\n",
    "\n",
    "n_steps = 80\n",
    "n_features = len(feature_cols)\n",
    "model = get_model(n_steps, n_features)\n",
    "model.compile(optimizer=\"adam\", loss=\"mae\")\n",
    "\n",
    "model.summary()"
   ]
  },
  {
   "cell_type": "code",
   "execution_count": 14,
   "id": "3775f407",
   "metadata": {
    "execution": {
     "iopub.execute_input": "2023-09-04T19:21:18.239173Z",
     "iopub.status.busy": "2023-09-04T19:21:18.238851Z",
     "iopub.status.idle": "2023-09-04T19:27:05.445996Z",
     "shell.execute_reply": "2023-09-04T19:27:05.444881Z"
    },
    "papermill": {
     "duration": 347.219488,
     "end_time": "2023-09-04T19:27:05.448313",
     "exception": false,
     "start_time": "2023-09-04T19:21:18.228825",
     "status": "completed"
    },
    "tags": []
   },
   "outputs": [
    {
     "name": "stdout",
     "output_type": "stream",
     "text": [
      "Epoch 1/200\n",
      "118/118 [==============================] - 14s 28ms/step - loss: 2.4910 - val_loss: 1.2612 - lr: 0.0010\n",
      "Epoch 2/200\n",
      "118/118 [==============================] - 3s 23ms/step - loss: 1.1303 - val_loss: 1.0087 - lr: 9.9885e-04\n",
      "Epoch 3/200\n",
      "118/118 [==============================] - 3s 23ms/step - loss: 0.9433 - val_loss: 0.8568 - lr: 9.9770e-04\n",
      "Epoch 4/200\n",
      "118/118 [==============================] - 3s 22ms/step - loss: 0.8436 - val_loss: 0.7901 - lr: 9.9655e-04\n",
      "Epoch 5/200\n",
      "118/118 [==============================] - 3s 23ms/step - loss: 0.7807 - val_loss: 0.7391 - lr: 9.9541e-04\n",
      "Epoch 6/200\n",
      "118/118 [==============================] - 3s 22ms/step - loss: 0.7430 - val_loss: 0.7447 - lr: 9.9426e-04\n",
      "Epoch 7/200\n",
      "118/118 [==============================] - 3s 23ms/step - loss: 0.6971 - val_loss: 0.6756 - lr: 9.9312e-04\n",
      "Epoch 8/200\n",
      "118/118 [==============================] - 3s 23ms/step - loss: 0.6722 - val_loss: 0.6395 - lr: 9.9197e-04\n",
      "Epoch 9/200\n",
      "118/118 [==============================] - 3s 23ms/step - loss: 0.6388 - val_loss: 0.6068 - lr: 9.9083e-04\n",
      "Epoch 10/200\n",
      "118/118 [==============================] - 3s 22ms/step - loss: 0.6173 - val_loss: 0.6243 - lr: 9.8969e-04\n",
      "Epoch 11/200\n",
      "118/118 [==============================] - 3s 24ms/step - loss: 0.6085 - val_loss: 0.5820 - lr: 9.8855e-04\n",
      "Epoch 12/200\n",
      "118/118 [==============================] - 3s 23ms/step - loss: 0.5796 - val_loss: 0.5630 - lr: 9.8742e-04\n",
      "Epoch 13/200\n",
      "118/118 [==============================] - 3s 23ms/step - loss: 0.5791 - val_loss: 0.5598 - lr: 9.8628e-04\n",
      "Epoch 14/200\n",
      "118/118 [==============================] - 3s 23ms/step - loss: 0.5632 - val_loss: 0.5405 - lr: 9.8514e-04\n",
      "Epoch 15/200\n",
      "118/118 [==============================] - 3s 23ms/step - loss: 0.5595 - val_loss: 0.5278 - lr: 9.8401e-04\n",
      "Epoch 16/200\n",
      "118/118 [==============================] - 3s 23ms/step - loss: 0.5475 - val_loss: 0.5228 - lr: 9.8288e-04\n",
      "Epoch 17/200\n",
      "118/118 [==============================] - 3s 23ms/step - loss: 0.5353 - val_loss: 0.5232 - lr: 9.8175e-04\n",
      "Epoch 18/200\n",
      "118/118 [==============================] - 3s 23ms/step - loss: 0.5354 - val_loss: 0.5186 - lr: 9.8062e-04\n",
      "Epoch 19/200\n",
      "118/118 [==============================] - 3s 23ms/step - loss: 0.5176 - val_loss: 0.5063 - lr: 9.7949e-04\n",
      "Epoch 20/200\n",
      "118/118 [==============================] - 3s 23ms/step - loss: 0.5163 - val_loss: 0.5015 - lr: 9.7836e-04\n",
      "Epoch 21/200\n",
      "118/118 [==============================] - 3s 23ms/step - loss: 0.5091 - val_loss: 0.4941 - lr: 9.7724e-04\n",
      "Epoch 22/200\n",
      "118/118 [==============================] - 3s 24ms/step - loss: 0.5075 - val_loss: 0.4858 - lr: 9.7611e-04\n",
      "Epoch 23/200\n",
      "118/118 [==============================] - 3s 24ms/step - loss: 0.4959 - val_loss: 0.4816 - lr: 9.7499e-04\n",
      "Epoch 24/200\n",
      "118/118 [==============================] - 3s 24ms/step - loss: 0.4971 - val_loss: 0.4844 - lr: 9.7387e-04\n",
      "Epoch 25/200\n",
      "118/118 [==============================] - 3s 23ms/step - loss: 0.4923 - val_loss: 0.4810 - lr: 9.7275e-04\n",
      "Epoch 26/200\n",
      "118/118 [==============================] - 3s 23ms/step - loss: 0.4866 - val_loss: 0.4861 - lr: 9.7163e-04\n",
      "Epoch 27/200\n",
      "118/118 [==============================] - 3s 23ms/step - loss: 0.4903 - val_loss: 0.4954 - lr: 9.7051e-04\n",
      "Epoch 28/200\n",
      "118/118 [==============================] - 3s 23ms/step - loss: 0.4818 - val_loss: 0.4768 - lr: 9.6939e-04\n",
      "Epoch 29/200\n",
      "118/118 [==============================] - 3s 24ms/step - loss: 0.4798 - val_loss: 0.4707 - lr: 9.6828e-04\n",
      "Epoch 30/200\n",
      "118/118 [==============================] - 3s 23ms/step - loss: 0.4710 - val_loss: 0.4619 - lr: 9.6716e-04\n",
      "Epoch 31/200\n",
      "118/118 [==============================] - 3s 24ms/step - loss: 0.4723 - val_loss: 0.4651 - lr: 9.6605e-04\n",
      "Epoch 32/200\n",
      "118/118 [==============================] - 3s 23ms/step - loss: 0.4643 - val_loss: 0.4557 - lr: 9.6494e-04\n",
      "Epoch 33/200\n",
      "118/118 [==============================] - 3s 24ms/step - loss: 0.4652 - val_loss: 0.4811 - lr: 9.6383e-04\n",
      "Epoch 34/200\n",
      "118/118 [==============================] - 3s 25ms/step - loss: 0.4637 - val_loss: 0.4497 - lr: 9.6272e-04\n",
      "Epoch 35/200\n",
      "118/118 [==============================] - 3s 24ms/step - loss: 0.4590 - val_loss: 0.4545 - lr: 9.6161e-04\n",
      "Epoch 36/200\n",
      "118/118 [==============================] - 3s 24ms/step - loss: 0.4587 - val_loss: 0.4663 - lr: 9.6051e-04\n",
      "Epoch 37/200\n",
      "118/118 [==============================] - 3s 24ms/step - loss: 0.4556 - val_loss: 0.4543 - lr: 9.5940e-04\n",
      "Epoch 38/200\n",
      "118/118 [==============================] - 3s 24ms/step - loss: 0.4571 - val_loss: 0.4449 - lr: 9.5830e-04\n",
      "Epoch 39/200\n",
      "118/118 [==============================] - 3s 24ms/step - loss: 0.4482 - val_loss: 0.4393 - lr: 9.5719e-04\n",
      "Epoch 40/200\n",
      "118/118 [==============================] - 3s 25ms/step - loss: 0.4458 - val_loss: 0.4397 - lr: 9.5609e-04\n",
      "Epoch 41/200\n",
      "118/118 [==============================] - 3s 24ms/step - loss: 0.4465 - val_loss: 0.4295 - lr: 9.5499e-04\n",
      "Epoch 42/200\n",
      "118/118 [==============================] - 3s 25ms/step - loss: 0.4426 - val_loss: 0.4332 - lr: 9.5389e-04\n",
      "Epoch 43/200\n",
      "118/118 [==============================] - 3s 24ms/step - loss: 0.4412 - val_loss: 0.4331 - lr: 9.5280e-04\n",
      "Epoch 44/200\n",
      "118/118 [==============================] - 3s 25ms/step - loss: 0.4384 - val_loss: 0.4380 - lr: 9.5170e-04\n",
      "Epoch 45/200\n",
      "118/118 [==============================] - 3s 25ms/step - loss: 0.4343 - val_loss: 0.4348 - lr: 9.5060e-04\n",
      "Epoch 46/200\n",
      "118/118 [==============================] - 3s 25ms/step - loss: 0.4353 - val_loss: 0.4265 - lr: 9.4951e-04\n",
      "Epoch 47/200\n",
      "118/118 [==============================] - 3s 24ms/step - loss: 0.4335 - val_loss: 0.4258 - lr: 9.4842e-04\n",
      "Epoch 48/200\n",
      "118/118 [==============================] - 3s 24ms/step - loss: 0.4329 - val_loss: 0.4329 - lr: 9.4733e-04\n",
      "Epoch 49/200\n",
      "118/118 [==============================] - 3s 24ms/step - loss: 0.4296 - val_loss: 0.4278 - lr: 9.4624e-04\n",
      "Epoch 50/200\n",
      "118/118 [==============================] - 3s 24ms/step - loss: 0.4306 - val_loss: 0.4263 - lr: 9.4515e-04\n",
      "Epoch 51/200\n",
      "118/118 [==============================] - 3s 24ms/step - loss: 0.4264 - val_loss: 0.4204 - lr: 9.4406e-04\n",
      "Epoch 52/200\n",
      "118/118 [==============================] - 3s 24ms/step - loss: 0.4207 - val_loss: 0.4281 - lr: 9.4297e-04\n",
      "Epoch 53/200\n",
      "118/118 [==============================] - 3s 24ms/step - loss: 0.4243 - val_loss: 0.4243 - lr: 9.4189e-04\n",
      "Epoch 54/200\n",
      "118/118 [==============================] - 3s 24ms/step - loss: 0.4174 - val_loss: 0.4147 - lr: 9.4081e-04\n",
      "Epoch 55/200\n",
      "118/118 [==============================] - 3s 24ms/step - loss: 0.4187 - val_loss: 0.4146 - lr: 9.3972e-04\n",
      "Epoch 56/200\n",
      "118/118 [==============================] - 3s 24ms/step - loss: 0.4159 - val_loss: 0.4114 - lr: 9.3864e-04\n",
      "Epoch 57/200\n",
      "118/118 [==============================] - 3s 24ms/step - loss: 0.4221 - val_loss: 0.4118 - lr: 9.3756e-04\n",
      "Epoch 58/200\n",
      "118/118 [==============================] - 3s 23ms/step - loss: 0.4179 - val_loss: 0.4217 - lr: 9.3648e-04\n",
      "Epoch 59/200\n",
      "118/118 [==============================] - 3s 24ms/step - loss: 0.4129 - val_loss: 0.4175 - lr: 9.3541e-04\n",
      "Epoch 60/200\n",
      "118/118 [==============================] - 3s 24ms/step - loss: 0.4106 - val_loss: 0.4088 - lr: 9.3433e-04\n",
      "Epoch 61/200\n",
      "118/118 [==============================] - 3s 24ms/step - loss: 0.4097 - val_loss: 0.4065 - lr: 9.3325e-04\n",
      "Epoch 62/200\n",
      "118/118 [==============================] - 3s 24ms/step - loss: 0.4085 - val_loss: 0.4092 - lr: 9.3218e-04\n",
      "Epoch 63/200\n",
      "118/118 [==============================] - 3s 24ms/step - loss: 0.4057 - val_loss: 0.4127 - lr: 9.3111e-04\n",
      "Epoch 64/200\n",
      "118/118 [==============================] - 3s 24ms/step - loss: 0.4060 - val_loss: 0.4084 - lr: 9.3004e-04\n",
      "Epoch 65/200\n",
      "118/118 [==============================] - 3s 24ms/step - loss: 0.4011 - val_loss: 0.3994 - lr: 9.2897e-04\n",
      "Epoch 66/200\n",
      "118/118 [==============================] - 3s 25ms/step - loss: 0.4031 - val_loss: 0.4180 - lr: 9.2790e-04\n",
      "Epoch 67/200\n",
      "118/118 [==============================] - 3s 24ms/step - loss: 0.4037 - val_loss: 0.3975 - lr: 9.2683e-04\n",
      "Epoch 68/200\n",
      "118/118 [==============================] - 3s 25ms/step - loss: 0.3995 - val_loss: 0.4062 - lr: 9.2576e-04\n",
      "Epoch 69/200\n",
      "118/118 [==============================] - 3s 24ms/step - loss: 0.3991 - val_loss: 0.4009 - lr: 9.2470e-04\n",
      "Epoch 70/200\n",
      "118/118 [==============================] - 3s 24ms/step - loss: 0.3987 - val_loss: 0.4026 - lr: 9.2363e-04\n",
      "Epoch 71/200\n",
      "118/118 [==============================] - 3s 24ms/step - loss: 0.3994 - val_loss: 0.3941 - lr: 9.2257e-04\n",
      "Epoch 72/200\n",
      "118/118 [==============================] - 3s 24ms/step - loss: 0.3963 - val_loss: 0.3933 - lr: 9.2151e-04\n",
      "Epoch 73/200\n",
      "118/118 [==============================] - 3s 24ms/step - loss: 0.3950 - val_loss: 0.3924 - lr: 9.2045e-04\n",
      "Epoch 74/200\n",
      "118/118 [==============================] - 3s 24ms/step - loss: 0.3927 - val_loss: 0.3921 - lr: 9.1939e-04\n",
      "Epoch 75/200\n",
      "118/118 [==============================] - 3s 24ms/step - loss: 0.3923 - val_loss: 0.3928 - lr: 9.1833e-04\n",
      "Epoch 76/200\n",
      "118/118 [==============================] - 3s 24ms/step - loss: 0.3896 - val_loss: 0.3848 - lr: 9.1728e-04\n",
      "Epoch 77/200\n",
      "118/118 [==============================] - 3s 25ms/step - loss: 0.3899 - val_loss: 0.3936 - lr: 9.1622e-04\n",
      "Epoch 78/200\n",
      "118/118 [==============================] - 3s 24ms/step - loss: 0.3913 - val_loss: 0.3868 - lr: 9.1517e-04\n",
      "Epoch 79/200\n",
      "118/118 [==============================] - 3s 25ms/step - loss: 0.3859 - val_loss: 0.3900 - lr: 9.1411e-04\n",
      "Epoch 80/200\n",
      "118/118 [==============================] - 3s 24ms/step - loss: 0.3852 - val_loss: 0.3959 - lr: 9.1306e-04\n",
      "Epoch 81/200\n",
      "118/118 [==============================] - 3s 24ms/step - loss: 0.3863 - val_loss: 0.3822 - lr: 9.1201e-04\n",
      "Epoch 82/200\n",
      "118/118 [==============================] - 3s 24ms/step - loss: 0.3832 - val_loss: 0.3875 - lr: 9.1096e-04\n",
      "Epoch 83/200\n",
      "118/118 [==============================] - 3s 24ms/step - loss: 0.3849 - val_loss: 0.3849 - lr: 9.0991e-04\n",
      "Epoch 84/200\n",
      "118/118 [==============================] - 3s 24ms/step - loss: 0.3815 - val_loss: 0.3805 - lr: 9.0887e-04\n",
      "Epoch 85/200\n",
      "118/118 [==============================] - 3s 24ms/step - loss: 0.3872 - val_loss: 0.3841 - lr: 9.0782e-04\n",
      "Epoch 86/200\n",
      "118/118 [==============================] - 3s 24ms/step - loss: 0.3810 - val_loss: 0.3801 - lr: 9.0678e-04\n",
      "Epoch 87/200\n",
      "118/118 [==============================] - 3s 25ms/step - loss: 0.3791 - val_loss: 0.3804 - lr: 9.0573e-04\n",
      "Epoch 88/200\n",
      "118/118 [==============================] - 3s 24ms/step - loss: 0.3769 - val_loss: 0.3911 - lr: 9.0469e-04\n",
      "Epoch 89/200\n",
      "118/118 [==============================] - 3s 24ms/step - loss: 0.3782 - val_loss: 0.3798 - lr: 9.0365e-04\n",
      "Epoch 90/200\n",
      "118/118 [==============================] - 3s 25ms/step - loss: 0.3772 - val_loss: 0.3749 - lr: 9.0261e-04\n",
      "Epoch 91/200\n",
      "118/118 [==============================] - 3s 24ms/step - loss: 0.3746 - val_loss: 0.3825 - lr: 9.0157e-04\n",
      "Epoch 92/200\n",
      "118/118 [==============================] - 3s 24ms/step - loss: 0.3763 - val_loss: 0.3790 - lr: 9.0053e-04\n",
      "Epoch 93/200\n",
      "118/118 [==============================] - 3s 24ms/step - loss: 0.3706 - val_loss: 0.3734 - lr: 8.9950e-04\n",
      "Epoch 94/200\n",
      "118/118 [==============================] - 3s 24ms/step - loss: 0.3725 - val_loss: 0.3777 - lr: 8.9846e-04\n",
      "Epoch 95/200\n",
      "118/118 [==============================] - 3s 24ms/step - loss: 0.3713 - val_loss: 0.3788 - lr: 8.9743e-04\n",
      "Epoch 96/200\n",
      "118/118 [==============================] - 3s 24ms/step - loss: 0.3694 - val_loss: 0.3833 - lr: 8.9640e-04\n",
      "Epoch 97/200\n",
      "118/118 [==============================] - 3s 24ms/step - loss: 0.3702 - val_loss: 0.3739 - lr: 8.9536e-04\n",
      "Epoch 98/200\n",
      "118/118 [==============================] - 3s 24ms/step - loss: 0.3685 - val_loss: 0.3719 - lr: 8.9433e-04\n",
      "Epoch 99/200\n",
      "118/118 [==============================] - 3s 24ms/step - loss: 0.3670 - val_loss: 0.3738 - lr: 8.9331e-04\n",
      "Epoch 100/200\n",
      "118/118 [==============================] - 3s 24ms/step - loss: 0.3683 - val_loss: 0.3853 - lr: 8.9228e-04\n",
      "Epoch 101/200\n",
      "118/118 [==============================] - 3s 26ms/step - loss: 0.3671 - val_loss: 0.3703 - lr: 8.9125e-04\n",
      "Epoch 102/200\n",
      "118/118 [==============================] - 3s 24ms/step - loss: 0.3655 - val_loss: 0.3719 - lr: 8.9023e-04\n",
      "Epoch 103/200\n",
      "118/118 [==============================] - 3s 24ms/step - loss: 0.3622 - val_loss: 0.3640 - lr: 8.8920e-04\n",
      "Epoch 104/200\n",
      "118/118 [==============================] - 3s 24ms/step - loss: 0.3633 - val_loss: 0.3647 - lr: 8.8818e-04\n",
      "Epoch 105/200\n",
      "118/118 [==============================] - 3s 25ms/step - loss: 0.3638 - val_loss: 0.3875 - lr: 8.8716e-04\n",
      "Epoch 106/200\n",
      "118/118 [==============================] - 3s 24ms/step - loss: 0.3639 - val_loss: 0.3720 - lr: 8.8614e-04\n",
      "Epoch 107/200\n",
      "118/118 [==============================] - 3s 24ms/step - loss: 0.3588 - val_loss: 0.3674 - lr: 8.8512e-04\n",
      "Epoch 108/200\n",
      "118/118 [==============================] - 3s 24ms/step - loss: 0.3629 - val_loss: 0.3674 - lr: 8.8410e-04\n",
      "Epoch 109/200\n",
      "118/118 [==============================] - 3s 24ms/step - loss: 0.3584 - val_loss: 0.3612 - lr: 8.8308e-04\n",
      "Epoch 110/200\n",
      "118/118 [==============================] - 3s 24ms/step - loss: 0.3595 - val_loss: 0.3738 - lr: 8.8206e-04\n",
      "Epoch 111/200\n",
      "118/118 [==============================] - 3s 24ms/step - loss: 0.3571 - val_loss: 0.3687 - lr: 8.8105e-04\n",
      "Epoch 112/200\n",
      "118/118 [==============================] - 3s 25ms/step - loss: 0.3568 - val_loss: 0.3615 - lr: 8.8004e-04\n",
      "Epoch 113/200\n",
      "118/118 [==============================] - 3s 24ms/step - loss: 0.3551 - val_loss: 0.3621 - lr: 8.7902e-04\n",
      "Epoch 114/200\n",
      "118/118 [==============================] - 3s 24ms/step - loss: 0.3535 - val_loss: 0.3629 - lr: 8.7801e-04\n",
      "Epoch 115/200\n",
      "118/118 [==============================] - 3s 24ms/step - loss: 0.3536 - val_loss: 0.3613 - lr: 8.7700e-04\n",
      "Epoch 116/200\n",
      "118/118 [==============================] - 3s 24ms/step - loss: 0.3531 - val_loss: 0.3740 - lr: 8.7599e-04\n",
      "Epoch 117/200\n",
      "118/118 [==============================] - 3s 24ms/step - loss: 0.3553 - val_loss: 0.3616 - lr: 8.7498e-04\n",
      "Epoch 118/200\n",
      "118/118 [==============================] - 3s 24ms/step - loss: 0.3526 - val_loss: 0.3626 - lr: 8.7398e-04\n",
      "Epoch 119/200\n",
      "118/118 [==============================] - 3s 25ms/step - loss: 0.3514 - val_loss: 0.3625 - lr: 8.7297e-04\n"
     ]
    }
   ],
   "source": [
    "scheduler = tf.keras.optimizers.schedules.ExponentialDecay(initial_learning_rate=1e-3, decay_steps=1e4, decay_rate=1e-5)\n",
    "cb_lr = tf.keras.callbacks.LearningRateScheduler(scheduler)\n",
    "cb_es = tf.keras.callbacks.EarlyStopping(monitor=\"val_loss\", patience=10, restore_best_weights=True)\n",
    "\n",
    "history = model.fit(X_train, y_train, validation_split=0.2, epochs=200, batch_size=512, callbacks=[cb_es, cb_lr])"
   ]
  },
  {
   "cell_type": "code",
   "execution_count": 15,
   "id": "b990e39a",
   "metadata": {
    "execution": {
     "iopub.execute_input": "2023-09-04T19:27:06.246690Z",
     "iopub.status.busy": "2023-09-04T19:27:06.245578Z",
     "iopub.status.idle": "2023-09-04T19:27:43.321541Z",
     "shell.execute_reply": "2023-09-04T19:27:43.320543Z"
    },
    "papermill": {
     "duration": 37.890055,
     "end_time": "2023-09-04T19:27:43.740891",
     "exception": false,
     "start_time": "2023-09-04T19:27:05.850836",
     "status": "completed"
    },
    "tags": []
   },
   "outputs": [
    {
     "data": {
      "image/png": "[encoded data removed]",
      "text/plain": [
       "<Figure size 1600x700 with 1 Axes>"
      ]
     },
     "metadata": {},
     "output_type": "display_data"
    }
   ],
   "source": [
    "plt.figure(figsize=(16,7))\n",
    "loss=history.history['loss']\n",
    "val_loss=history.history['val_loss']\n",
    "\n",
    "epochs=range(1,len(loss)+1)\n",
    "\n",
    "plt.plot(epochs, loss, 'r')\n",
    "plt.plot(epochs, val_loss, 'b')\n",
    "plt.legend([\"Training\", \"Validation\" ])\n",
    "plt.xlabel(\"Epochs\")\n",
    "plt.ylabel(\"Loss\")\n",
    "plt.title('Training and validation loss')\n",
    "\n",
    "plt.show()"
   ]
  },
  {
   "cell_type": "code",
   "execution_count": 16,
   "id": "2c3db0c8",
   "metadata": {
    "execution": {
     "iopub.execute_input": "2023-09-04T19:27:44.614636Z",
     "iopub.status.busy": "2023-09-04T19:27:44.613476Z",
     "iopub.status.idle": "2023-09-04T19:27:45.591588Z",
     "shell.execute_reply": "2023-09-04T19:27:45.590582Z"
    },
    "papermill": {
     "duration": 1.45213,
     "end_time": "2023-09-04T19:27:45.594016",
     "exception": false,
     "start_time": "2023-09-04T19:27:44.141886",
     "status": "completed"
    },
    "tags": []
   },
   "outputs": [
    {
     "name": "stdout",
     "output_type": "stream",
     "text": [
      "1/1 [==============================] - 0s 445ms/step\n"
     ]
    },
    {
     "data": {
      "image/png": "[encoded data removed]",
      "text/plain": [
       "<Figure size 1000x500 with 1 Axes>"
      ]
     },
     "metadata": {},
     "output_type": "display_data"
    }
   ],
   "source": [
    "idx = 1\n",
    "df_plot = train[train.breath_id == idx]\n",
    "p = model.predict(df_plot[feature_cols].values.reshape(-1, n_steps, n_features))\n",
    "x = range(80)\n",
    "y = df_plot['pressure']\n",
    "\n",
    "plt.figure(figsize=(10, 5))\n",
    "sns.lineplot(y=y, x=x)\n",
    "sns.lineplot(y=p.reshape(-1), x=x)\n",
    "plt.legend([\"Ground Truth\", \"Predicted\"])\n",
    "plt.ylabel(\"Pressure\")\n",
    "plt.xlabel(\"Time Steps\")\n",
    "plt.show()"
   ]
  }
 ],
 "kernelspec": {
  "display_name": "Python 3",
  "language": "python",
  "name": "python3"
 },
 "language_info": {
  "codemirror_mode": {
   "name": "ipython",
   "version": 3
  },
  "file_extension": ".py",
  "mimetype": "text/x-python",
  "name": "python",
  "nbconvert_exporter": "python",
  "pygments_lexer": "ipython3",
  "version": "3.6.4"
 },
 "metadata": {
  "kernelspec": {
   "display_name": "Python 3",
   "language": "python",
   "name": "python3"
  },
  "language_info": {
   "codemirror_mode": {
    "name": "ipython",
    "version": 3
   },
   "file_extension": ".py",
   "mimetype": "text/x-python",
   "name": "python",
   "nbconvert_exporter": "python",
   "pygments_lexer": "ipython3",
   "version": "3.10.12"
  },
  "papermill": {
   "default_parameters": {},
   "duration": 438.758117,
   "end_time": "2023-09-04T19:27:49.187461",
   "environment_variables": {},
   "exception": null,
   "input_path": "__notebook__.ipynb",
   "output_path": "__notebook__.ipynb",
   "parameters": {},
   "start_time": "2023-09-04T19:20:30.429344",
   "version": "2.4.0"
  }
 },
 "nbformat": 4,
 "nbformat_minor": 5
}
