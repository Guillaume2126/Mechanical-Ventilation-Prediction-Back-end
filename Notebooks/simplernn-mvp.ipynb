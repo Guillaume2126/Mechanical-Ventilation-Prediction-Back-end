{
 "cells": [
  {
   "cell_type": "code",
   "execution_count": 1,
   "id": "39a714e3",
   "metadata": {
    "_cell_guid": "b1076dfc-b9ad-4769-8c92-a6c4dae69d19",
    "_uuid": "8f2839f25d086af736a60e9eeb907d3b93b6e0e5",
    "execution": {
     "iopub.execute_input": "2023-09-04T21:18:51.073704Z",
     "iopub.status.busy": "2023-09-04T21:18:51.073238Z",
     "iopub.status.idle": "2023-09-04T21:19:03.013156Z",
     "shell.execute_reply": "2023-09-04T21:19:03.011993Z"
    },
    "papermill": {
     "duration": 11.954714,
     "end_time": "2023-09-04T21:19:03.017664",
     "exception": false,
     "start_time": "2023-09-04T21:18:51.062950",
     "status": "completed"
    },
    "tags": []
   },
   "outputs": [
    {
     "name": "stderr",
     "output_type": "stream",
     "text": [
      "/opt/conda/lib/python3.10/site-packages/scipy/__init__.py:146: UserWarning: A NumPy version >=1.16.5 and <1.23.0 is required for this version of SciPy (detected version 1.23.5\n",
      "  warnings.warn(f\"A NumPy version >={np_minversion} and <{np_maxversion}\"\n"
     ]
    }
   ],
   "source": [
    "import os\n",
    "os.environ['TF_CPP_MIN_LOG_LEVEL'] = '3'\n",
    "\n",
    "import seaborn as sns\n",
    "import matplotlib.pyplot as plt\n",
    "%matplotlib inline\n",
    "sns.set_style(\"darkgrid\")\n",
    "\n",
    "import numpy as np\n",
    "import pandas as pd\n",
    "import tensorflow as tf\n",
    "from tensorflow.keras import layers\n",
    "from sklearn.preprocessing import RobustScaler"
   ]
  },
  {
   "cell_type": "code",
   "execution_count": 2,
   "id": "8c4fd9fc",
   "metadata": {
    "execution": {
     "iopub.execute_input": "2023-09-04T21:19:03.039789Z",
     "iopub.status.busy": "2023-09-04T21:19:03.039181Z",
     "iopub.status.idle": "2023-09-04T21:19:17.197693Z",
     "shell.execute_reply": "2023-09-04T21:19:17.196665Z"
    },
    "papermill": {
     "duration": 14.170438,
     "end_time": "2023-09-04T21:19:17.200538",
     "exception": false,
     "start_time": "2023-09-04T21:19:03.030100",
     "status": "completed"
    },
    "tags": []
   },
   "outputs": [],
   "source": [
    "train = pd.read_csv(\"/kaggle/input/ventilator-pressure-prediction/train.csv\", index_col=[0])\n",
    "test = pd.read_csv(\"/kaggle/input/ventilator-pressure-prediction/test.csv\", index_col=[0])"
   ]
  },
  {
   "cell_type": "code",
   "execution_count": 3,
   "id": "297dd89b",
   "metadata": {
    "execution": {
     "iopub.execute_input": "2023-09-04T21:19:17.216700Z",
     "iopub.status.busy": "2023-09-04T21:19:17.216257Z",
     "iopub.status.idle": "2023-09-04T21:19:17.223597Z",
     "shell.execute_reply": "2023-09-04T21:19:17.222596Z"
    },
    "papermill": {
     "duration": 0.018438,
     "end_time": "2023-09-04T21:19:17.226270",
     "exception": false,
     "start_time": "2023-09-04T21:19:17.207832",
     "status": "completed"
    },
    "tags": []
   },
   "outputs": [
    {
     "data": {
      "text/plain": [
       "(6036000, 7)"
      ]
     },
     "execution_count": 3,
     "metadata": {},
     "output_type": "execute_result"
    }
   ],
   "source": [
    "train.shape"
   ]
  },
  {
   "cell_type": "code",
   "execution_count": 4,
   "id": "63c22bc9",
   "metadata": {
    "execution": {
     "iopub.execute_input": "2023-09-04T21:19:17.241685Z",
     "iopub.status.busy": "2023-09-04T21:19:17.241376Z",
     "iopub.status.idle": "2023-09-04T21:19:17.250435Z",
     "shell.execute_reply": "2023-09-04T21:19:17.249587Z"
    },
    "papermill": {
     "duration": 0.01963,
     "end_time": "2023-09-04T21:19:17.252938",
     "exception": false,
     "start_time": "2023-09-04T21:19:17.233308",
     "status": "completed"
    },
    "tags": []
   },
   "outputs": [
    {
     "data": {
      "text/plain": [
       "(4024000, 6)"
      ]
     },
     "execution_count": 4,
     "metadata": {},
     "output_type": "execute_result"
    }
   ],
   "source": [
    "test.shape"
   ]
  },
  {
   "cell_type": "code",
   "execution_count": 5,
   "id": "9239eee3",
   "metadata": {
    "execution": {
     "iopub.execute_input": "2023-09-04T21:19:17.268791Z",
     "iopub.status.busy": "2023-09-04T21:19:17.268494Z",
     "iopub.status.idle": "2023-09-04T21:19:17.276257Z",
     "shell.execute_reply": "2023-09-04T21:19:17.275388Z"
    },
    "papermill": {
     "duration": 0.017874,
     "end_time": "2023-09-04T21:19:17.278391",
     "exception": false,
     "start_time": "2023-09-04T21:19:17.260517",
     "status": "completed"
    },
    "tags": []
   },
   "outputs": [
    {
     "name": "stdout",
     "output_type": "stream",
     "text": [
      "Index(['breath_id', 'R', 'C', 'time_step', 'u_in', 'u_out', 'pressure'], dtype='object')\n"
     ]
    }
   ],
   "source": [
    "print(train.columns)"
   ]
  },
  {
   "cell_type": "code",
   "execution_count": 6,
   "id": "736c1697",
   "metadata": {
    "execution": {
     "iopub.execute_input": "2023-09-04T21:19:17.293804Z",
     "iopub.status.busy": "2023-09-04T21:19:17.293448Z",
     "iopub.status.idle": "2023-09-04T21:19:17.298237Z",
     "shell.execute_reply": "2023-09-04T21:19:17.297301Z"
    },
    "papermill": {
     "duration": 0.014671,
     "end_time": "2023-09-04T21:19:17.300284",
     "exception": false,
     "start_time": "2023-09-04T21:19:17.285613",
     "status": "completed"
    },
    "tags": []
   },
   "outputs": [],
   "source": [
    "feature_cols = [\"R\",\"C\", \"u_in\", \"u_out\"]"
   ]
  },
  {
   "cell_type": "code",
   "execution_count": 7,
   "id": "733b225d",
   "metadata": {
    "execution": {
     "iopub.execute_input": "2023-09-04T21:19:17.315974Z",
     "iopub.status.busy": "2023-09-04T21:19:17.315698Z",
     "iopub.status.idle": "2023-09-04T21:19:18.354984Z",
     "shell.execute_reply": "2023-09-04T21:19:18.353497Z"
    },
    "papermill": {
     "duration": 1.049958,
     "end_time": "2023-09-04T21:19:18.357548",
     "exception": false,
     "start_time": "2023-09-04T21:19:17.307590",
     "status": "completed"
    },
    "tags": []
   },
   "outputs": [],
   "source": [
    "RS = RobustScaler()\n",
    "train[feature_cols] = RS.fit_transform(train[feature_cols])\n",
    "test[feature_cols] = RS.transform(test[feature_cols])"
   ]
  },
  {
   "cell_type": "code",
   "execution_count": 8,
   "id": "f15c4d13",
   "metadata": {
    "execution": {
     "iopub.execute_input": "2023-09-04T21:19:18.374572Z",
     "iopub.status.busy": "2023-09-04T21:19:18.374223Z",
     "iopub.status.idle": "2023-09-04T21:19:18.378780Z",
     "shell.execute_reply": "2023-09-04T21:19:18.377792Z"
    },
    "papermill": {
     "duration": 0.014943,
     "end_time": "2023-09-04T21:19:18.380999",
     "exception": false,
     "start_time": "2023-09-04T21:19:18.366056",
     "status": "completed"
    },
    "tags": []
   },
   "outputs": [],
   "source": [
    "n_steps = 80\n",
    "n_features = len(feature_cols)"
   ]
  },
  {
   "cell_type": "code",
   "execution_count": 9,
   "id": "dd61a66e",
   "metadata": {
    "execution": {
     "iopub.execute_input": "2023-09-04T21:19:18.397028Z",
     "iopub.status.busy": "2023-09-04T21:19:18.396731Z",
     "iopub.status.idle": "2023-09-04T21:19:18.402204Z",
     "shell.execute_reply": "2023-09-04T21:19:18.401046Z"
    },
    "papermill": {
     "duration": 0.017884,
     "end_time": "2023-09-04T21:19:18.406156",
     "exception": false,
     "start_time": "2023-09-04T21:19:18.388272",
     "status": "completed"
    },
    "tags": []
   },
   "outputs": [
    {
     "name": "stdout",
     "output_type": "stream",
     "text": [
      "Index(['breath_id', 'R', 'C', 'time_step', 'u_in', 'u_out', 'pressure'], dtype='object')\n"
     ]
    }
   ],
   "source": [
    "print(train.columns)"
   ]
  },
  {
   "cell_type": "code",
   "execution_count": 10,
   "id": "bc3c6dc3",
   "metadata": {
    "execution": {
     "iopub.execute_input": "2023-09-04T21:19:18.421991Z",
     "iopub.status.busy": "2023-09-04T21:19:18.421714Z",
     "iopub.status.idle": "2023-09-04T21:19:18.428711Z",
     "shell.execute_reply": "2023-09-04T21:19:18.426795Z"
    },
    "papermill": {
     "duration": 0.017435,
     "end_time": "2023-09-04T21:19:18.430873",
     "exception": false,
     "start_time": "2023-09-04T21:19:18.413438",
     "status": "completed"
    },
    "tags": []
   },
   "outputs": [
    {
     "data": {
      "text/plain": [
       "(6036000, 7)"
      ]
     },
     "execution_count": 10,
     "metadata": {},
     "output_type": "execute_result"
    }
   ],
   "source": [
    "train.shape"
   ]
  },
  {
   "cell_type": "code",
   "execution_count": 11,
   "id": "3c8399b9",
   "metadata": {
    "execution": {
     "iopub.execute_input": "2023-09-04T21:19:18.447348Z",
     "iopub.status.busy": "2023-09-04T21:19:18.446482Z",
     "iopub.status.idle": "2023-09-04T21:19:18.626079Z",
     "shell.execute_reply": "2023-09-04T21:19:18.624956Z"
    },
    "papermill": {
     "duration": 0.190383,
     "end_time": "2023-09-04T21:19:18.628784",
     "exception": false,
     "start_time": "2023-09-04T21:19:18.438401",
     "status": "completed"
    },
    "tags": []
   },
   "outputs": [
    {
     "name": "stdout",
     "output_type": "stream",
     "text": [
      "24144000\n"
     ]
    }
   ],
   "source": [
    "print(train[feature_cols].values.size)"
   ]
  },
  {
   "cell_type": "code",
   "execution_count": 12,
   "id": "cd363e29",
   "metadata": {
    "execution": {
     "iopub.execute_input": "2023-09-04T21:19:18.645711Z",
     "iopub.status.busy": "2023-09-04T21:19:18.645366Z",
     "iopub.status.idle": "2023-09-04T21:19:18.835408Z",
     "shell.execute_reply": "2023-09-04T21:19:18.834378Z"
    },
    "papermill": {
     "duration": 0.20099,
     "end_time": "2023-09-04T21:19:18.837718",
     "exception": false,
     "start_time": "2023-09-04T21:19:18.636728",
     "status": "completed"
    },
    "tags": []
   },
   "outputs": [
    {
     "name": "stdout",
     "output_type": "stream",
     "text": [
      "(75450, 80, 4) (75450, 80)\n"
     ]
    }
   ],
   "source": [
    "n_steps = 80\n",
    "n_features = len(feature_cols)\n",
    "target_column_name = 'pressure'  # Replace with the actual target column name\n",
    "\n",
    "# Assuming \"train\" is a DataFrame containing your training data\n",
    "n_samples_train = len(train) // n_steps  # Calculate the number of breaths\n",
    "y_train = train[target_column_name].values[:n_samples_train * n_steps].reshape(-1, n_steps)\n",
    "X_train = train[feature_cols].values[:n_samples_train * n_steps].reshape(-1, n_steps, n_features)\n",
    "\n",
    "print(X_train.shape, y_train.shape)"
   ]
  },
  {
   "cell_type": "code",
   "execution_count": 13,
   "id": "4b380e3a",
   "metadata": {
    "execution": {
     "iopub.execute_input": "2023-09-04T21:19:18.854380Z",
     "iopub.status.busy": "2023-09-04T21:19:18.854043Z",
     "iopub.status.idle": "2023-09-04T21:19:24.088173Z",
     "shell.execute_reply": "2023-09-04T21:19:24.087197Z"
    },
    "papermill": {
     "duration": 5.254362,
     "end_time": "2023-09-04T21:19:24.100077",
     "exception": false,
     "start_time": "2023-09-04T21:19:18.845715",
     "status": "completed"
    },
    "tags": []
   },
   "outputs": [
    {
     "name": "stdout",
     "output_type": "stream",
     "text": [
      "Model: \"sequential\"\n",
      "_________________________________________________________________\n",
      " Layer (type)                Output Shape              Param #   \n",
      "=================================================================\n",
      " simple_rnn (SimpleRNN)      (None, 80, 150)           23250     \n",
      "                                                                 \n",
      " dropout (Dropout)           (None, 80, 150)           0         \n",
      "                                                                 \n",
      " flatten (Flatten)           (None, 12000)             0         \n",
      "                                                                 \n",
      " dense (Dense)               (None, 128)               1536128   \n",
      "                                                                 \n",
      " dense_1 (Dense)             (None, 256)               33024     \n",
      "                                                                 \n",
      " dense_2 (Dense)             (None, 512)               131584    \n",
      "                                                                 \n",
      " dense_3 (Dense)             (None, 80)                41040     \n",
      "                                                                 \n",
      "=================================================================\n",
      "Total params: 1,765,026\n",
      "Trainable params: 1,765,026\n",
      "Non-trainable params: 0\n",
      "_________________________________________________________________\n"
     ]
    }
   ],
   "source": [
    "def get_model(n_steps, n_features):\n",
    "    model = tf.keras.Sequential([\n",
    "        layers.InputLayer(input_shape=(n_steps, n_features)),\n",
    "        layers.SimpleRNN(150, return_sequences=True),\n",
    "        layers.Dropout(0.2),\n",
    "        layers.Flatten(),\n",
    "        layers.Dense(128, activation='relu'),\n",
    "        layers.Dense(256, activation='relu'),\n",
    "        layers.Dense(512, activation='relu'),\n",
    "        layers.Dense(80)\n",
    "    ])\n",
    "    return model\n",
    "\n",
    "n_steps = 80\n",
    "n_features = len(feature_cols)\n",
    "model = get_model(n_steps, n_features)\n",
    "model.compile(optimizer=\"adam\", loss=\"mae\")\n",
    "\n",
    "model.summary()"
   ]
  },
  {
   "cell_type": "code",
   "execution_count": 14,
   "id": "d2bceb81",
   "metadata": {
    "execution": {
     "iopub.execute_input": "2023-09-04T21:19:24.121550Z",
     "iopub.status.busy": "2023-09-04T21:19:24.121187Z",
     "iopub.status.idle": "2023-09-04T21:35:58.005933Z",
     "shell.execute_reply": "2023-09-04T21:35:58.004698Z"
    },
    "papermill": {
     "duration": 993.898821,
     "end_time": "2023-09-04T21:35:58.008900",
     "exception": false,
     "start_time": "2023-09-04T21:19:24.110079",
     "status": "completed"
    },
    "tags": []
   },
   "outputs": [
    {
     "name": "stdout",
     "output_type": "stream",
     "text": [
      "Epoch 1/200\n",
      "118/118 [==============================] - 16s 75ms/step - loss: 1.9290 - val_loss: 0.9991 - lr: 0.0010\n",
      "Epoch 2/200\n",
      "118/118 [==============================] - 9s 75ms/step - loss: 0.9355 - val_loss: 0.8094 - lr: 9.9885e-04\n",
      "Epoch 3/200\n",
      "118/118 [==============================] - 9s 80ms/step - loss: 0.7991 - val_loss: 0.7260 - lr: 9.9770e-04\n",
      "Epoch 4/200\n",
      "118/118 [==============================] - 9s 73ms/step - loss: 0.7231 - val_loss: 0.6606 - lr: 9.9655e-04\n",
      "Epoch 5/200\n",
      "118/118 [==============================] - 9s 73ms/step - loss: 0.6910 - val_loss: 0.6517 - lr: 9.9541e-04\n",
      "Epoch 6/200\n",
      "118/118 [==============================] - 9s 73ms/step - loss: 0.6563 - val_loss: 0.5860 - lr: 9.9426e-04\n",
      "Epoch 7/200\n",
      "118/118 [==============================] - 10s 81ms/step - loss: 0.6290 - val_loss: 0.6264 - lr: 9.9312e-04\n",
      "Epoch 8/200\n",
      "118/118 [==============================] - 9s 73ms/step - loss: 0.5974 - val_loss: 0.5594 - lr: 9.9197e-04\n",
      "Epoch 9/200\n",
      "118/118 [==============================] - 8s 72ms/step - loss: 0.5857 - val_loss: 0.5694 - lr: 9.9083e-04\n",
      "Epoch 10/200\n",
      "118/118 [==============================] - 10s 81ms/step - loss: 0.5633 - val_loss: 0.5465 - lr: 9.8969e-04\n",
      "Epoch 11/200\n",
      "118/118 [==============================] - 9s 74ms/step - loss: 0.5691 - val_loss: 0.5310 - lr: 9.8855e-04\n",
      "Epoch 12/200\n",
      "118/118 [==============================] - 9s 72ms/step - loss: 0.5654 - val_loss: 0.5145 - lr: 9.8742e-04\n",
      "Epoch 13/200\n",
      "118/118 [==============================] - 9s 74ms/step - loss: 0.5603 - val_loss: 0.5195 - lr: 9.8628e-04\n",
      "Epoch 14/200\n",
      "118/118 [==============================] - 9s 79ms/step - loss: 0.5415 - val_loss: 0.5234 - lr: 9.8514e-04\n",
      "Epoch 15/200\n",
      "118/118 [==============================] - 9s 73ms/step - loss: 0.5452 - val_loss: 0.5329 - lr: 9.8401e-04\n",
      "Epoch 16/200\n",
      "118/118 [==============================] - 8s 72ms/step - loss: 0.5276 - val_loss: 0.4937 - lr: 9.8288e-04\n",
      "Epoch 17/200\n",
      "118/118 [==============================] - 9s 74ms/step - loss: 0.5210 - val_loss: 0.4968 - lr: 9.8175e-04\n",
      "Epoch 18/200\n",
      "118/118 [==============================] - 10s 81ms/step - loss: 0.5185 - val_loss: 0.4931 - lr: 9.8062e-04\n",
      "Epoch 19/200\n",
      "118/118 [==============================] - 9s 74ms/step - loss: 0.5075 - val_loss: 0.4873 - lr: 9.7949e-04\n",
      "Epoch 20/200\n",
      "118/118 [==============================] - 9s 75ms/step - loss: 0.5139 - val_loss: 0.5220 - lr: 9.7836e-04\n",
      "Epoch 21/200\n",
      "118/118 [==============================] - 9s 78ms/step - loss: 0.5024 - val_loss: 0.4779 - lr: 9.7724e-04\n",
      "Epoch 22/200\n",
      "118/118 [==============================] - 9s 73ms/step - loss: 0.5002 - val_loss: 0.4706 - lr: 9.7611e-04\n",
      "Epoch 23/200\n",
      "118/118 [==============================] - 9s 73ms/step - loss: 0.4974 - val_loss: 0.5359 - lr: 9.7499e-04\n",
      "Epoch 24/200\n",
      "118/118 [==============================] - 9s 74ms/step - loss: 0.5162 - val_loss: 0.4791 - lr: 9.7387e-04\n",
      "Epoch 25/200\n",
      "118/118 [==============================] - 10s 82ms/step - loss: 0.4952 - val_loss: 0.4647 - lr: 9.7275e-04\n",
      "Epoch 26/200\n",
      "118/118 [==============================] - 8s 71ms/step - loss: 0.4908 - val_loss: 0.5007 - lr: 9.7163e-04\n",
      "Epoch 27/200\n",
      "118/118 [==============================] - 9s 75ms/step - loss: 0.4876 - val_loss: 0.4660 - lr: 9.7051e-04\n",
      "Epoch 28/200\n",
      "118/118 [==============================] - 9s 80ms/step - loss: 0.4945 - val_loss: 0.4659 - lr: 9.6939e-04\n",
      "Epoch 29/200\n",
      "118/118 [==============================] - 9s 73ms/step - loss: 0.4794 - val_loss: 0.4597 - lr: 9.6828e-04\n",
      "Epoch 30/200\n",
      "118/118 [==============================] - 9s 76ms/step - loss: 0.4845 - val_loss: 0.4803 - lr: 9.6716e-04\n",
      "Epoch 31/200\n",
      "118/118 [==============================] - 9s 73ms/step - loss: 0.4759 - val_loss: 0.4532 - lr: 9.6605e-04\n",
      "Epoch 32/200\n",
      "118/118 [==============================] - 9s 81ms/step - loss: 0.4716 - val_loss: 0.4658 - lr: 9.6494e-04\n",
      "Epoch 33/200\n",
      "118/118 [==============================] - 9s 73ms/step - loss: 0.4758 - val_loss: 0.4691 - lr: 9.6383e-04\n",
      "Epoch 34/200\n",
      "118/118 [==============================] - 9s 74ms/step - loss: 0.4752 - val_loss: 0.4693 - lr: 9.6272e-04\n",
      "Epoch 35/200\n",
      "118/118 [==============================] - 8s 70ms/step - loss: 0.4723 - val_loss: 0.4622 - lr: 9.6161e-04\n",
      "Epoch 36/200\n",
      "118/118 [==============================] - 10s 81ms/step - loss: 0.4812 - val_loss: 0.4428 - lr: 9.6051e-04\n",
      "Epoch 37/200\n",
      "118/118 [==============================] - 9s 76ms/step - loss: 0.4623 - val_loss: 0.4384 - lr: 9.5940e-04\n",
      "Epoch 38/200\n",
      "118/118 [==============================] - 9s 73ms/step - loss: 0.4649 - val_loss: 0.4605 - lr: 9.5830e-04\n",
      "Epoch 39/200\n",
      "118/118 [==============================] - 9s 79ms/step - loss: 0.4720 - val_loss: 0.4568 - lr: 9.5719e-04\n",
      "Epoch 40/200\n",
      "118/118 [==============================] - 8s 71ms/step - loss: 0.4649 - val_loss: 0.4489 - lr: 9.5609e-04\n",
      "Epoch 41/200\n",
      "118/118 [==============================] - 9s 76ms/step - loss: 0.4541 - val_loss: 0.4362 - lr: 9.5499e-04\n",
      "Epoch 42/200\n",
      "118/118 [==============================] - 9s 73ms/step - loss: 0.4647 - val_loss: 0.4869 - lr: 9.5389e-04\n",
      "Epoch 43/200\n",
      "118/118 [==============================] - 9s 78ms/step - loss: 0.4682 - val_loss: 0.4561 - lr: 9.5280e-04\n",
      "Epoch 44/200\n",
      "118/118 [==============================] - 9s 74ms/step - loss: 0.4541 - val_loss: 0.4482 - lr: 9.5170e-04\n",
      "Epoch 45/200\n",
      "118/118 [==============================] - 8s 71ms/step - loss: 0.4452 - val_loss: 0.4321 - lr: 9.5060e-04\n",
      "Epoch 46/200\n",
      "118/118 [==============================] - 9s 77ms/step - loss: 0.4481 - val_loss: 0.4346 - lr: 9.4951e-04\n",
      "Epoch 47/200\n",
      "118/118 [==============================] - 9s 73ms/step - loss: 0.4540 - val_loss: 0.5147 - lr: 9.4842e-04\n",
      "Epoch 48/200\n",
      "118/118 [==============================] - 9s 73ms/step - loss: 0.4567 - val_loss: 0.4682 - lr: 9.4733e-04\n",
      "Epoch 49/200\n",
      "118/118 [==============================] - 8s 71ms/step - loss: 0.4452 - val_loss: 0.4452 - lr: 9.4624e-04\n",
      "Epoch 50/200\n",
      "118/118 [==============================] - 9s 80ms/step - loss: 0.4431 - val_loss: 0.4263 - lr: 9.4515e-04\n",
      "Epoch 51/200\n",
      "118/118 [==============================] - 9s 74ms/step - loss: 0.4373 - val_loss: 0.4306 - lr: 9.4406e-04\n",
      "Epoch 52/200\n",
      "118/118 [==============================] - 8s 70ms/step - loss: 0.4538 - val_loss: 0.4337 - lr: 9.4297e-04\n",
      "Epoch 53/200\n",
      "118/118 [==============================] - 8s 71ms/step - loss: 0.4461 - val_loss: 0.4608 - lr: 9.4189e-04\n",
      "Epoch 54/200\n",
      "118/118 [==============================] - 9s 79ms/step - loss: 0.4404 - val_loss: 0.4411 - lr: 9.4081e-04\n",
      "Epoch 55/200\n",
      "118/118 [==============================] - 9s 76ms/step - loss: 0.4421 - val_loss: 0.4490 - lr: 9.3972e-04\n",
      "Epoch 56/200\n",
      "118/118 [==============================] - 8s 72ms/step - loss: 0.4409 - val_loss: 0.4447 - lr: 9.3864e-04\n",
      "Epoch 57/200\n",
      "118/118 [==============================] - 9s 78ms/step - loss: 0.4374 - val_loss: 0.4272 - lr: 9.3756e-04\n",
      "Epoch 58/200\n",
      "118/118 [==============================] - 9s 72ms/step - loss: 0.4353 - val_loss: 0.4217 - lr: 9.3648e-04\n",
      "Epoch 59/200\n",
      "118/118 [==============================] - 9s 75ms/step - loss: 0.4403 - val_loss: 0.5049 - lr: 9.3541e-04\n",
      "Epoch 60/200\n",
      "118/118 [==============================] - 8s 69ms/step - loss: 0.4522 - val_loss: 0.4532 - lr: 9.3433e-04\n",
      "Epoch 61/200\n",
      "118/118 [==============================] - 9s 77ms/step - loss: 0.4315 - val_loss: 0.4181 - lr: 9.3325e-04\n",
      "Epoch 62/200\n",
      "118/118 [==============================] - 9s 74ms/step - loss: 0.4291 - val_loss: 0.4202 - lr: 9.3218e-04\n",
      "Epoch 63/200\n",
      "118/118 [==============================] - 8s 70ms/step - loss: 0.4372 - val_loss: 0.4352 - lr: 9.3111e-04\n",
      "Epoch 64/200\n",
      "118/118 [==============================] - 8s 71ms/step - loss: 0.4409 - val_loss: 0.4236 - lr: 9.3004e-04\n",
      "Epoch 65/200\n",
      "118/118 [==============================] - 9s 78ms/step - loss: 0.4339 - val_loss: 0.4757 - lr: 9.2897e-04\n",
      "Epoch 66/200\n",
      "118/118 [==============================] - 9s 76ms/step - loss: 0.4244 - val_loss: 0.4111 - lr: 9.2790e-04\n",
      "Epoch 67/200\n",
      "118/118 [==============================] - 8s 68ms/step - loss: 0.4175 - val_loss: 0.4349 - lr: 9.2683e-04\n",
      "Epoch 68/200\n",
      "118/118 [==============================] - 9s 79ms/step - loss: 0.4291 - val_loss: 0.4167 - lr: 9.2576e-04\n",
      "Epoch 69/200\n",
      "118/118 [==============================] - 9s 76ms/step - loss: 0.4299 - val_loss: 0.4311 - lr: 9.2470e-04\n",
      "Epoch 70/200\n",
      "118/118 [==============================] - 9s 73ms/step - loss: 0.4253 - val_loss: 0.4173 - lr: 9.2363e-04\n",
      "Epoch 71/200\n",
      "118/118 [==============================] - 8s 70ms/step - loss: 0.4338 - val_loss: 0.4064 - lr: 9.2257e-04\n",
      "Epoch 72/200\n",
      "118/118 [==============================] - 9s 78ms/step - loss: 0.4189 - val_loss: 0.4129 - lr: 9.2151e-04\n",
      "Epoch 73/200\n",
      "118/118 [==============================] - 9s 75ms/step - loss: 0.4225 - val_loss: 0.4185 - lr: 9.2045e-04\n",
      "Epoch 74/200\n",
      "118/118 [==============================] - 8s 71ms/step - loss: 0.4245 - val_loss: 0.4344 - lr: 9.1939e-04\n",
      "Epoch 75/200\n",
      "118/118 [==============================] - 8s 71ms/step - loss: 0.4251 - val_loss: 0.4127 - lr: 9.1833e-04\n",
      "Epoch 76/200\n",
      "118/118 [==============================] - 9s 74ms/step - loss: 0.4182 - val_loss: 0.4509 - lr: 9.1728e-04\n",
      "Epoch 77/200\n",
      "118/118 [==============================] - 9s 77ms/step - loss: 0.4159 - val_loss: 0.4262 - lr: 9.1622e-04\n",
      "Epoch 78/200\n",
      "118/118 [==============================] - 8s 70ms/step - loss: 0.4169 - val_loss: 0.4093 - lr: 9.1517e-04\n",
      "Epoch 79/200\n",
      "118/118 [==============================] - 9s 78ms/step - loss: 0.4175 - val_loss: 0.4750 - lr: 9.1411e-04\n",
      "Epoch 80/200\n",
      "118/118 [==============================] - 9s 76ms/step - loss: 0.4254 - val_loss: 0.4088 - lr: 9.1306e-04\n",
      "Epoch 81/200\n",
      "118/118 [==============================] - 8s 70ms/step - loss: 0.4198 - val_loss: 0.4059 - lr: 9.1201e-04\n",
      "Epoch 82/200\n",
      "118/118 [==============================] - 9s 73ms/step - loss: 0.4118 - val_loss: 0.4133 - lr: 9.1096e-04\n",
      "Epoch 83/200\n",
      "118/118 [==============================] - 9s 77ms/step - loss: 0.4102 - val_loss: 0.4063 - lr: 9.0991e-04\n",
      "Epoch 84/200\n",
      "118/118 [==============================] - 9s 76ms/step - loss: 0.4191 - val_loss: 0.4012 - lr: 9.0887e-04\n",
      "Epoch 85/200\n",
      "118/118 [==============================] - 8s 70ms/step - loss: 0.4123 - val_loss: 0.4119 - lr: 9.0782e-04\n",
      "Epoch 86/200\n",
      "118/118 [==============================] - 9s 77ms/step - loss: 0.4106 - val_loss: 0.4012 - lr: 9.0678e-04\n",
      "Epoch 87/200\n",
      "118/118 [==============================] - 8s 69ms/step - loss: 0.4083 - val_loss: 0.4179 - lr: 9.0573e-04\n",
      "Epoch 88/200\n",
      "118/118 [==============================] - 9s 75ms/step - loss: 0.4161 - val_loss: 0.4158 - lr: 9.0469e-04\n",
      "Epoch 89/200\n",
      "118/118 [==============================] - 8s 71ms/step - loss: 0.4121 - val_loss: 0.4345 - lr: 9.0365e-04\n",
      "Epoch 90/200\n",
      "118/118 [==============================] - 9s 81ms/step - loss: 0.4176 - val_loss: 0.4040 - lr: 9.0261e-04\n",
      "Epoch 91/200\n",
      "118/118 [==============================] - 9s 79ms/step - loss: 0.4083 - val_loss: 0.4026 - lr: 9.0157e-04\n",
      "Epoch 92/200\n",
      "118/118 [==============================] - 8s 71ms/step - loss: 0.4075 - val_loss: 0.3965 - lr: 9.0053e-04\n",
      "Epoch 93/200\n",
      "118/118 [==============================] - 8s 71ms/step - loss: 0.4040 - val_loss: 0.3952 - lr: 8.9950e-04\n",
      "Epoch 94/200\n",
      "118/118 [==============================] - 9s 78ms/step - loss: 0.4082 - val_loss: 0.3987 - lr: 8.9846e-04\n",
      "Epoch 95/200\n",
      "118/118 [==============================] - 9s 78ms/step - loss: 0.4034 - val_loss: 0.4045 - lr: 8.9743e-04\n",
      "Epoch 96/200\n",
      "118/118 [==============================] - 8s 71ms/step - loss: 0.4053 - val_loss: 0.4090 - lr: 8.9640e-04\n",
      "Epoch 97/200\n",
      "118/118 [==============================] - 9s 78ms/step - loss: 0.4102 - val_loss: 0.3928 - lr: 8.9536e-04\n",
      "Epoch 98/200\n",
      "118/118 [==============================] - 9s 78ms/step - loss: 0.4101 - val_loss: 0.4108 - lr: 8.9433e-04\n",
      "Epoch 99/200\n",
      "118/118 [==============================] - 8s 71ms/step - loss: 0.4102 - val_loss: 0.4120 - lr: 8.9331e-04\n",
      "Epoch 100/200\n",
      "118/118 [==============================] - 8s 69ms/step - loss: 0.4058 - val_loss: 0.4183 - lr: 8.9228e-04\n",
      "Epoch 101/200\n",
      "118/118 [==============================] - 9s 78ms/step - loss: 0.3991 - val_loss: 0.4090 - lr: 8.9125e-04\n",
      "Epoch 102/200\n",
      "118/118 [==============================] - 9s 80ms/step - loss: 0.3980 - val_loss: 0.3898 - lr: 8.9023e-04\n",
      "Epoch 103/200\n",
      "118/118 [==============================] - 8s 69ms/step - loss: 0.4034 - val_loss: 0.3982 - lr: 8.8920e-04\n",
      "Epoch 104/200\n",
      "118/118 [==============================] - 9s 74ms/step - loss: 0.4005 - val_loss: 0.4071 - lr: 8.8818e-04\n",
      "Epoch 105/200\n",
      "118/118 [==============================] - 9s 73ms/step - loss: 0.3936 - val_loss: 0.3960 - lr: 8.8716e-04\n",
      "Epoch 106/200\n",
      "118/118 [==============================] - 9s 79ms/step - loss: 0.3978 - val_loss: 0.3935 - lr: 8.8614e-04\n",
      "Epoch 107/200\n",
      "118/118 [==============================] - 8s 70ms/step - loss: 0.3986 - val_loss: 0.4041 - lr: 8.8512e-04\n",
      "Epoch 108/200\n",
      "118/118 [==============================] - 9s 77ms/step - loss: 0.4049 - val_loss: 0.4180 - lr: 8.8410e-04\n",
      "Epoch 109/200\n",
      "118/118 [==============================] - 8s 70ms/step - loss: 0.3960 - val_loss: 0.4098 - lr: 8.8308e-04\n",
      "Epoch 110/200\n",
      "118/118 [==============================] - 9s 79ms/step - loss: 0.3950 - val_loss: 0.4168 - lr: 8.8206e-04\n",
      "Epoch 111/200\n",
      "118/118 [==============================] - 8s 71ms/step - loss: 0.3943 - val_loss: 0.4090 - lr: 8.8105e-04\n",
      "Epoch 112/200\n",
      "118/118 [==============================] - 9s 77ms/step - loss: 0.3958 - val_loss: 0.3931 - lr: 8.8004e-04\n"
     ]
    }
   ],
   "source": [
    "scheduler = tf.keras.optimizers.schedules.ExponentialDecay(initial_learning_rate=1e-3, decay_steps=1e4, decay_rate=1e-5)\n",
    "cb_lr = tf.keras.callbacks.LearningRateScheduler(scheduler)\n",
    "cb_es = tf.keras.callbacks.EarlyStopping(monitor=\"val_loss\", patience=10, restore_best_weights=True)\n",
    "\n",
    "history = model.fit(X_train, y_train, validation_split=0.2, epochs=200, batch_size=512, callbacks=[cb_es, cb_lr])"
   ]
  },
  {
   "cell_type": "code",
   "execution_count": 15,
   "id": "74b04ea6",
   "metadata": {
    "execution": {
     "iopub.execute_input": "2023-09-04T21:36:00.242857Z",
     "iopub.status.busy": "2023-09-04T21:36:00.242391Z",
     "iopub.status.idle": "2023-09-04T21:36:48.688410Z",
     "shell.execute_reply": "2023-09-04T21:36:48.687501Z"
    },
    "papermill": {
     "duration": 50.654463,
     "end_time": "2023-09-04T21:36:49.754118",
     "exception": false,
     "start_time": "2023-09-04T21:35:59.099655",
     "status": "completed"
    },
    "tags": []
   },
   "outputs": [
    {
     "data": {
      "image/png": "[encoded data removed]",
      "text/plain": [
       "<Figure size 1600x700 with 1 Axes>"
      ]
     },
     "metadata": {},
     "output_type": "display_data"
    }
   ],
   "source": [
    "plt.figure(figsize=(16,7))\n",
    "loss=history.history['loss']\n",
    "val_loss=history.history['val_loss']\n",
    "\n",
    "epochs=range(1,len(loss)+1)\n",
    "\n",
    "plt.plot(epochs, loss, 'r')\n",
    "plt.plot(epochs, val_loss, 'b')\n",
    "plt.legend([\"Training\", \"Validation\" ])\n",
    "plt.xlabel(\"Epochs\")\n",
    "plt.ylabel(\"Loss\")\n",
    "plt.title('Training and validation loss')\n",
    "\n",
    "plt.show()"
   ]
  },
  {
   "cell_type": "code",
   "execution_count": 16,
   "id": "cc4ce0e7",
   "metadata": {
    "execution": {
     "iopub.execute_input": "2023-09-04T21:36:51.989237Z",
     "iopub.status.busy": "2023-09-04T21:36:51.988855Z",
     "iopub.status.idle": "2023-09-04T21:36:52.810421Z",
     "shell.execute_reply": "2023-09-04T21:36:52.809277Z"
    },
    "papermill": {
     "duration": 1.943392,
     "end_time": "2023-09-04T21:36:52.813437",
     "exception": false,
     "start_time": "2023-09-04T21:36:50.870045",
     "status": "completed"
    },
    "tags": []
   },
   "outputs": [
    {
     "name": "stdout",
     "output_type": "stream",
     "text": [
      "1/1 [==============================] - 0s 213ms/step\n"
     ]
    },
    {
     "data": {
      "image/png": "[encoded data removed]",
      "text/plain": [
       "<Figure size 1000x500 with 1 Axes>"
      ]
     },
     "metadata": {},
     "output_type": "display_data"
    }
   ],
   "source": [
    "idx = 1\n",
    "df_plot = train[train.breath_id == idx]\n",
    "p = model.predict(df_plot[feature_cols].values.reshape(-1, n_steps, n_features))\n",
    "x = range(80)\n",
    "y = df_plot['pressure']\n",
    "\n",
    "plt.figure(figsize=(10, 5))\n",
    "sns.lineplot(y=y, x=x)\n",
    "sns.lineplot(y=p.reshape(-1), x=x)\n",
    "plt.legend([\"Ground Truth\", \"Predicted\"])\n",
    "plt.ylabel(\"Pressure\")\n",
    "plt.xlabel(\"Time Steps\")\n",
    "plt.show()"
   ]
  }
 ],
 "kernelspec": {
  "display_name": "Python 3",
  "language": "python",
  "name": "python3"
 },
 "language_info": {
  "codemirror_mode": {
   "name": "ipython",
   "version": 3
  },
  "file_extension": ".py",
  "mimetype": "text/x-python",
  "name": "python",
  "nbconvert_exporter": "python",
  "pygments_lexer": "ipython3",
  "version": "3.6.4"
 },
 "metadata": {
  "kernelspec": {
   "display_name": "Python 3",
   "language": "python",
   "name": "python3"
  },
  "language_info": {
   "codemirror_mode": {
    "name": "ipython",
    "version": 3
   },
   "file_extension": ".py",
   "mimetype": "text/x-python",
   "name": "python",
   "nbconvert_exporter": "python",
   "pygments_lexer": "ipython3",
   "version": "3.10.12"
  },
  "papermill": {
   "default_parameters": {},
   "duration": 1090.480747,
   "end_time": "2023-09-04T21:36:57.807349",
   "environment_variables": {},
   "exception": null,
   "input_path": "__notebook__.ipynb",
   "output_path": "__notebook__.ipynb",
   "parameters": {},
   "start_time": "2023-09-04T21:18:47.326602",
   "version": "2.4.0"
  }
 },
 "nbformat": 4,
 "nbformat_minor": 5
}
