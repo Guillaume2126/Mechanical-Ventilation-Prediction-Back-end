{
 "cells": [
  {
   "cell_type": "code",
   "execution_count": 1,
   "id": "0b4dfd64",
   "metadata": {
    "_cell_guid": "b1076dfc-b9ad-4769-8c92-a6c4dae69d19",
    "_uuid": "8f2839f25d086af736a60e9eeb907d3b93b6e0e5",
    "execution": {
     "iopub.execute_input": "2023-09-05T17:23:48.403298Z",
     "iopub.status.busy": "2023-09-05T17:23:48.402902Z",
     "iopub.status.idle": "2023-09-05T17:23:59.663632Z",
     "shell.execute_reply": "2023-09-05T17:23:59.662634Z"
    },
    "papermill": {
     "duration": 11.274397,
     "end_time": "2023-09-05T17:23:59.666208",
     "exception": false,
     "start_time": "2023-09-05T17:23:48.391811",
     "status": "completed"
    },
    "tags": []
   },
   "outputs": [
    {
     "name": "stderr",
     "output_type": "stream",
     "text": [
      "/opt/conda/lib/python3.10/site-packages/scipy/__init__.py:146: UserWarning: A NumPy version >=1.16.5 and <1.23.0 is required for this version of SciPy (detected version 1.23.5\n",
      "  warnings.warn(f\"A NumPy version >={np_minversion} and <{np_maxversion}\"\n"
     ]
    }
   ],
   "source": [
    "import os\n",
    "os.environ['TF_CPP_MIN_LOG_LEVEL'] = '3'\n",
    "\n",
    "import seaborn as sns\n",
    "import matplotlib.pyplot as plt\n",
    "%matplotlib inline\n",
    "sns.set_style(\"darkgrid\")\n",
    "\n",
    "import numpy as np\n",
    "import pandas as pd\n",
    "import tensorflow as tf\n",
    "from tensorflow.keras import layers\n",
    "from sklearn.preprocessing import RobustScaler"
   ]
  },
  {
   "cell_type": "code",
   "execution_count": 2,
   "id": "7f838750",
   "metadata": {
    "execution": {
     "iopub.execute_input": "2023-09-05T17:23:59.681536Z",
     "iopub.status.busy": "2023-09-05T17:23:59.679787Z",
     "iopub.status.idle": "2023-09-05T17:24:13.631151Z",
     "shell.execute_reply": "2023-09-05T17:24:13.630118Z"
    },
    "papermill": {
     "duration": 13.960948,
     "end_time": "2023-09-05T17:24:13.633604",
     "exception": false,
     "start_time": "2023-09-05T17:23:59.672656",
     "status": "completed"
    },
    "tags": []
   },
   "outputs": [],
   "source": [
    "train = pd.read_csv(\"/kaggle/input/ventilator-pressure-prediction/train.csv\", index_col=[0])\n",
    "test = pd.read_csv(\"/kaggle/input/ventilator-pressure-prediction/test.csv\", index_col=[0])"
   ]
  },
  {
   "cell_type": "code",
   "execution_count": 3,
   "id": "4af09b50",
   "metadata": {
    "execution": {
     "iopub.execute_input": "2023-09-05T17:24:13.648513Z",
     "iopub.status.busy": "2023-09-05T17:24:13.647031Z",
     "iopub.status.idle": "2023-09-05T17:24:13.656281Z",
     "shell.execute_reply": "2023-09-05T17:24:13.655434Z"
    },
    "papermill": {
     "duration": 0.018562,
     "end_time": "2023-09-05T17:24:13.658534",
     "exception": false,
     "start_time": "2023-09-05T17:24:13.639972",
     "status": "completed"
    },
    "tags": []
   },
   "outputs": [
    {
     "data": {
      "text/plain": [
       "(6036000, 7)"
      ]
     },
     "execution_count": 3,
     "metadata": {},
     "output_type": "execute_result"
    }
   ],
   "source": [
    "train.shape"
   ]
  },
  {
   "cell_type": "code",
   "execution_count": 4,
   "id": "11a2fb16",
   "metadata": {
    "execution": {
     "iopub.execute_input": "2023-09-05T17:24:13.671752Z",
     "iopub.status.busy": "2023-09-05T17:24:13.671480Z",
     "iopub.status.idle": "2023-09-05T17:24:13.678129Z",
     "shell.execute_reply": "2023-09-05T17:24:13.677278Z"
    },
    "papermill": {
     "duration": 0.015684,
     "end_time": "2023-09-05T17:24:13.680167",
     "exception": false,
     "start_time": "2023-09-05T17:24:13.664483",
     "status": "completed"
    },
    "tags": []
   },
   "outputs": [
    {
     "name": "stdout",
     "output_type": "stream",
     "text": [
      "Index(['breath_id', 'R', 'C', 'time_step', 'u_in', 'u_out', 'pressure'], dtype='object')\n"
     ]
    }
   ],
   "source": [
    "print(train.columns)"
   ]
  },
  {
   "cell_type": "code",
   "execution_count": 5,
   "id": "9b55143d",
   "metadata": {
    "execution": {
     "iopub.execute_input": "2023-09-05T17:24:13.693215Z",
     "iopub.status.busy": "2023-09-05T17:24:13.692955Z",
     "iopub.status.idle": "2023-09-05T17:24:13.696947Z",
     "shell.execute_reply": "2023-09-05T17:24:13.696008Z"
    },
    "papermill": {
     "duration": 0.012816,
     "end_time": "2023-09-05T17:24:13.698935",
     "exception": false,
     "start_time": "2023-09-05T17:24:13.686119",
     "status": "completed"
    },
    "tags": []
   },
   "outputs": [],
   "source": [
    "feature_cols = [\"R\",\"C\", \"u_in\", \"u_out\"]"
   ]
  },
  {
   "cell_type": "code",
   "execution_count": 6,
   "id": "72e4cacb",
   "metadata": {
    "execution": {
     "iopub.execute_input": "2023-09-05T17:24:13.712462Z",
     "iopub.status.busy": "2023-09-05T17:24:13.712175Z",
     "iopub.status.idle": "2023-09-05T17:24:14.735888Z",
     "shell.execute_reply": "2023-09-05T17:24:14.734855Z"
    },
    "papermill": {
     "duration": 1.033198,
     "end_time": "2023-09-05T17:24:14.738096",
     "exception": false,
     "start_time": "2023-09-05T17:24:13.704898",
     "status": "completed"
    },
    "tags": []
   },
   "outputs": [],
   "source": [
    "RS = RobustScaler()\n",
    "train[feature_cols] = RS.fit_transform(train[feature_cols])\n",
    "test[feature_cols] = RS.transform(test[feature_cols])"
   ]
  },
  {
   "cell_type": "code",
   "execution_count": 7,
   "id": "806ee9ef",
   "metadata": {
    "execution": {
     "iopub.execute_input": "2023-09-05T17:24:14.752435Z",
     "iopub.status.busy": "2023-09-05T17:24:14.751650Z",
     "iopub.status.idle": "2023-09-05T17:24:14.756145Z",
     "shell.execute_reply": "2023-09-05T17:24:14.755263Z"
    },
    "papermill": {
     "duration": 0.013529,
     "end_time": "2023-09-05T17:24:14.758150",
     "exception": false,
     "start_time": "2023-09-05T17:24:14.744621",
     "status": "completed"
    },
    "tags": []
   },
   "outputs": [],
   "source": [
    "n_steps = 80\n",
    "n_features = len(feature_cols)"
   ]
  },
  {
   "cell_type": "code",
   "execution_count": 8,
   "id": "ad29b094",
   "metadata": {
    "execution": {
     "iopub.execute_input": "2023-09-05T17:24:14.771541Z",
     "iopub.status.busy": "2023-09-05T17:24:14.771072Z",
     "iopub.status.idle": "2023-09-05T17:24:14.776962Z",
     "shell.execute_reply": "2023-09-05T17:24:14.776071Z"
    },
    "papermill": {
     "duration": 0.014805,
     "end_time": "2023-09-05T17:24:14.778923",
     "exception": false,
     "start_time": "2023-09-05T17:24:14.764118",
     "status": "completed"
    },
    "tags": []
   },
   "outputs": [
    {
     "name": "stdout",
     "output_type": "stream",
     "text": [
      "Index(['breath_id', 'R', 'C', 'time_step', 'u_in', 'u_out', 'pressure'], dtype='object')\n"
     ]
    }
   ],
   "source": [
    "print(train.columns)"
   ]
  },
  {
   "cell_type": "code",
   "execution_count": 9,
   "id": "fedf2a29",
   "metadata": {
    "execution": {
     "iopub.execute_input": "2023-09-05T17:24:14.793086Z",
     "iopub.status.busy": "2023-09-05T17:24:14.792335Z",
     "iopub.status.idle": "2023-09-05T17:24:14.973884Z",
     "shell.execute_reply": "2023-09-05T17:24:14.972699Z"
    },
    "papermill": {
     "duration": 0.191478,
     "end_time": "2023-09-05T17:24:14.976788",
     "exception": false,
     "start_time": "2023-09-05T17:24:14.785310",
     "status": "completed"
    },
    "tags": []
   },
   "outputs": [
    {
     "name": "stdout",
     "output_type": "stream",
     "text": [
      "(75450, 80, 4) (75450, 80)\n"
     ]
    }
   ],
   "source": [
    "n_steps = 80\n",
    "n_features = len(feature_cols)\n",
    "target_column_name = 'pressure'  # Replace with the actual target column name\n",
    "\n",
    "# Assuming \"train\" is a DataFrame containing your training data\n",
    "n_samples_train = len(train) // n_steps  # Calculate the number of breaths\n",
    "y_train = train[target_column_name].values[:n_samples_train * n_steps].reshape(-1, n_steps)\n",
    "X_train = train[feature_cols].values[:n_samples_train * n_steps].reshape(-1, n_steps, n_features)\n",
    "\n",
    "print(X_train.shape, y_train.shape)"
   ]
  },
  {
   "cell_type": "code",
   "execution_count": 10,
   "id": "e2cb368a",
   "metadata": {
    "execution": {
     "iopub.execute_input": "2023-09-05T17:24:14.991817Z",
     "iopub.status.busy": "2023-09-05T17:24:14.991020Z",
     "iopub.status.idle": "2023-09-05T17:24:14.997234Z",
     "shell.execute_reply": "2023-09-05T17:24:14.996349Z"
    },
    "papermill": {
     "duration": 0.015873,
     "end_time": "2023-09-05T17:24:14.999364",
     "exception": false,
     "start_time": "2023-09-05T17:24:14.983491",
     "status": "completed"
    },
    "tags": []
   },
   "outputs": [],
   "source": [
    "from tensorflow.keras.regularizers import l2\n",
    "from tensorflow.keras.optimizers import Adam\n",
    "from tensorflow.keras.optimizers.schedules import ExponentialDecay"
   ]
  },
  {
   "cell_type": "code",
   "execution_count": 11,
   "id": "8f5fef03",
   "metadata": {
    "execution": {
     "iopub.execute_input": "2023-09-05T17:24:15.013015Z",
     "iopub.status.busy": "2023-09-05T17:24:15.012741Z",
     "iopub.status.idle": "2023-09-05T17:24:20.928261Z",
     "shell.execute_reply": "2023-09-05T17:24:20.927514Z"
    },
    "papermill": {
     "duration": 5.940631,
     "end_time": "2023-09-05T17:24:20.946155",
     "exception": false,
     "start_time": "2023-09-05T17:24:15.005524",
     "status": "completed"
    },
    "tags": []
   },
   "outputs": [
    {
     "name": "stdout",
     "output_type": "stream",
     "text": [
      "Model: \"model\"\n",
      "_________________________________________________________________\n",
      " Layer (type)                Output Shape              Param #   \n",
      "=================================================================\n",
      " input_1 (InputLayer)        [(None, 80, 4)]           0         \n",
      "                                                                 \n",
      " bidirectional (Bidirectiona  (None, 80, 512)          534528    \n",
      " l)                                                              \n",
      "                                                                 \n",
      " bidirectional_1 (Bidirectio  (None, 80, 512)          1574912   \n",
      " nal)                                                            \n",
      "                                                                 \n",
      " conv1d (Conv1D)             (None, 80, 256)           393472    \n",
      "                                                                 \n",
      " conv1d_1 (Conv1D)           (None, 80, 256)           196864    \n",
      "                                                                 \n",
      " max_pooling1d (MaxPooling1D  (None, 40, 256)          0         \n",
      " )                                                               \n",
      "                                                                 \n",
      " flatten (Flatten)           (None, 10240)             0         \n",
      "                                                                 \n",
      " dense (Dense)               (None, 512)               5243392   \n",
      "                                                                 \n",
      " dropout (Dropout)           (None, 512)               0         \n",
      "                                                                 \n",
      " dense_1 (Dense)             (None, 256)               131328    \n",
      "                                                                 \n",
      " dense_2 (Dense)             (None, 80)                20560     \n",
      "                                                                 \n",
      "=================================================================\n",
      "Total params: 8,095,056\n",
      "Trainable params: 8,095,056\n",
      "Non-trainable params: 0\n",
      "_________________________________________________________________\n"
     ]
    }
   ],
   "source": [
    "def get_bilstm_tcn_model(n_steps, n_features):\n",
    "    input_layer = layers.Input(shape=(n_steps, n_features))\n",
    "    x = input_layer\n",
    "\n",
    "    # Bidirectional LSTM layers\n",
    "    x = layers.Bidirectional(layers.LSTM(256, return_sequences=True))(x)\n",
    "    x = layers.Bidirectional(layers.LSTM(256, return_sequences=True))(x)\n",
    "\n",
    "    # Temporal Convolutional Network (TCN) layers\n",
    "    x = layers.Conv1D(256, kernel_size=3, activation='swish', padding='causal', kernel_regularizer=l2(1e-4))(x)\n",
    "    x = layers.Conv1D(256, kernel_size=3, activation='swish', padding='causal', kernel_regularizer=l2(1e-4))(x)\n",
    "    x = layers.MaxPooling1D(pool_size=2)(x)\n",
    "    \n",
    "    # Flatten the output\n",
    "    x = layers.Flatten()(x)\n",
    "\n",
    "    # Dense layers\n",
    "    x = layers.Dense(512, activation='swish', kernel_regularizer=l2(1e-4))(x)\n",
    "    x = layers.Dropout(0.5)(x)\n",
    "    x = layers.Dense(256, activation='swish', kernel_regularizer=l2(1e-4))(x)\n",
    "    output_layer = layers.Dense(80)(x)\n",
    "\n",
    "    model = tf.keras.Model(inputs=input_layer, outputs=output_layer)\n",
    "    return model\n",
    "\n",
    "n_steps = 80\n",
    "n_features = len(feature_cols)  # You should define feature_cols somewhere\n",
    "\n",
    "model = get_bilstm_tcn_model(n_steps, n_features)\n",
    "\n",
    "# Compile the model\n",
    "optimizer = Adam(learning_rate=1e-4)\n",
    "model.compile(optimizer=optimizer, loss=\"mae\")\n",
    "\n",
    "# Print model summary\n",
    "model.summary()"
   ]
  },
  {
   "cell_type": "code",
   "execution_count": 12,
   "id": "222bc253",
   "metadata": {
    "execution": {
     "iopub.execute_input": "2023-09-05T17:24:20.965292Z",
     "iopub.status.busy": "2023-09-05T17:24:20.964985Z",
     "iopub.status.idle": "2023-09-05T17:53:25.106428Z",
     "shell.execute_reply": "2023-09-05T17:53:25.105344Z"
    },
    "papermill": {
     "duration": 1744.657021,
     "end_time": "2023-09-05T17:53:25.612117",
     "exception": false,
     "start_time": "2023-09-05T17:24:20.955096",
     "status": "completed"
    },
    "tags": []
   },
   "outputs": [
    {
     "name": "stdout",
     "output_type": "stream",
     "text": [
      "Epoch 1/200\n",
      "118/118 [==============================] - 51s 274ms/step - loss: 2.7787 - val_loss: 1.4326 - lr: 0.0010\n",
      "Epoch 2/200\n",
      "118/118 [==============================] - 31s 265ms/step - loss: 1.4697 - val_loss: 1.2030 - lr: 9.9885e-04\n",
      "Epoch 3/200\n",
      "118/118 [==============================] - 35s 301ms/step - loss: 1.2941 - val_loss: 1.0638 - lr: 9.9770e-04\n",
      "Epoch 4/200\n",
      "118/118 [==============================] - 33s 283ms/step - loss: 1.1751 - val_loss: 0.9585 - lr: 9.9655e-04\n",
      "Epoch 5/200\n",
      "118/118 [==============================] - 33s 278ms/step - loss: 1.0860 - val_loss: 0.9104 - lr: 9.9541e-04\n",
      "Epoch 6/200\n",
      "118/118 [==============================] - 33s 280ms/step - loss: 1.0362 - val_loss: 0.8973 - lr: 9.9426e-04\n",
      "Epoch 7/200\n",
      "118/118 [==============================] - 33s 282ms/step - loss: 0.9842 - val_loss: 0.8242 - lr: 9.9312e-04\n",
      "Epoch 8/200\n",
      "118/118 [==============================] - 33s 281ms/step - loss: 0.9518 - val_loss: 0.8304 - lr: 9.9197e-04\n",
      "Epoch 9/200\n",
      "118/118 [==============================] - 33s 281ms/step - loss: 0.9131 - val_loss: 0.7718 - lr: 9.9083e-04\n",
      "Epoch 10/200\n",
      "118/118 [==============================] - 33s 281ms/step - loss: 0.8730 - val_loss: 0.7150 - lr: 9.8969e-04\n",
      "Epoch 11/200\n",
      "118/118 [==============================] - 33s 282ms/step - loss: 0.8437 - val_loss: 0.7420 - lr: 9.8855e-04\n",
      "Epoch 12/200\n",
      "118/118 [==============================] - 33s 280ms/step - loss: 0.8246 - val_loss: 0.6771 - lr: 9.8742e-04\n",
      "Epoch 13/200\n",
      "118/118 [==============================] - 33s 279ms/step - loss: 0.8046 - val_loss: 0.6492 - lr: 9.8628e-04\n",
      "Epoch 14/200\n",
      "118/118 [==============================] - 33s 280ms/step - loss: 0.7838 - val_loss: 0.6710 - lr: 9.8514e-04\n",
      "Epoch 15/200\n",
      "118/118 [==============================] - 33s 283ms/step - loss: 0.7634 - val_loss: 0.6424 - lr: 9.8401e-04\n",
      "Epoch 16/200\n",
      "118/118 [==============================] - 36s 303ms/step - loss: 0.7539 - val_loss: 0.6240 - lr: 9.8288e-04\n",
      "Epoch 17/200\n",
      "118/118 [==============================] - 33s 280ms/step - loss: 0.7406 - val_loss: 0.6153 - lr: 9.8175e-04\n",
      "Epoch 18/200\n",
      "118/118 [==============================] - 33s 281ms/step - loss: 0.7203 - val_loss: 0.6083 - lr: 9.8062e-04\n",
      "Epoch 19/200\n",
      "118/118 [==============================] - 33s 280ms/step - loss: 0.7141 - val_loss: 0.6045 - lr: 9.7949e-04\n",
      "Epoch 20/200\n",
      "118/118 [==============================] - 33s 281ms/step - loss: 0.7017 - val_loss: 0.5971 - lr: 9.7836e-04\n",
      "Epoch 21/200\n",
      "118/118 [==============================] - 33s 282ms/step - loss: 0.6958 - val_loss: 0.5995 - lr: 9.7724e-04\n",
      "Epoch 22/200\n",
      "118/118 [==============================] - 33s 279ms/step - loss: 0.6878 - val_loss: 0.5771 - lr: 9.7611e-04\n",
      "Epoch 23/200\n",
      "118/118 [==============================] - 33s 278ms/step - loss: 0.6773 - val_loss: 0.5757 - lr: 9.7499e-04\n",
      "Epoch 24/200\n",
      "118/118 [==============================] - 33s 279ms/step - loss: 0.6723 - val_loss: 0.5600 - lr: 9.7387e-04\n",
      "Epoch 25/200\n",
      "118/118 [==============================] - 35s 301ms/step - loss: 0.6617 - val_loss: 0.5519 - lr: 9.7275e-04\n",
      "Epoch 26/200\n",
      "118/118 [==============================] - 33s 279ms/step - loss: 0.6512 - val_loss: 0.5490 - lr: 9.7163e-04\n",
      "Epoch 27/200\n",
      "118/118 [==============================] - 33s 279ms/step - loss: 0.6446 - val_loss: 0.5705 - lr: 9.7051e-04\n",
      "Epoch 28/200\n",
      "118/118 [==============================] - 33s 279ms/step - loss: 0.6408 - val_loss: 0.5294 - lr: 9.6939e-04\n",
      "Epoch 29/200\n",
      "118/118 [==============================] - 33s 279ms/step - loss: 0.6299 - val_loss: 0.5244 - lr: 9.6828e-04\n",
      "Epoch 30/200\n",
      "118/118 [==============================] - 33s 279ms/step - loss: 0.6266 - val_loss: 0.5227 - lr: 9.6716e-04\n",
      "Epoch 31/200\n",
      "118/118 [==============================] - 33s 278ms/step - loss: 0.6158 - val_loss: 0.5656 - lr: 9.6605e-04\n",
      "Epoch 32/200\n",
      "118/118 [==============================] - 33s 279ms/step - loss: 0.6185 - val_loss: 0.5174 - lr: 9.6494e-04\n",
      "Epoch 33/200\n",
      "118/118 [==============================] - 33s 279ms/step - loss: 0.6074 - val_loss: 0.5094 - lr: 9.6383e-04\n",
      "Epoch 34/200\n",
      "118/118 [==============================] - 33s 278ms/step - loss: 0.6014 - val_loss: 0.5284 - lr: 9.6272e-04\n",
      "Epoch 35/200\n",
      "118/118 [==============================] - 33s 279ms/step - loss: 0.5952 - val_loss: 0.4958 - lr: 9.6161e-04\n",
      "Epoch 36/200\n",
      "118/118 [==============================] - 33s 279ms/step - loss: 0.5951 - val_loss: 0.4907 - lr: 9.6051e-04\n",
      "Epoch 37/200\n",
      "118/118 [==============================] - 33s 278ms/step - loss: 0.5922 - val_loss: 0.5083 - lr: 9.5940e-04\n",
      "Epoch 38/200\n",
      "118/118 [==============================] - 33s 278ms/step - loss: 0.5868 - val_loss: 0.5079 - lr: 9.5830e-04\n",
      "Epoch 39/200\n",
      "118/118 [==============================] - 33s 279ms/step - loss: 0.5802 - val_loss: 0.4852 - lr: 9.5719e-04\n",
      "Epoch 40/200\n",
      "118/118 [==============================] - 33s 279ms/step - loss: 0.5784 - val_loss: 0.4992 - lr: 9.5609e-04\n",
      "Epoch 41/200\n",
      "118/118 [==============================] - 33s 279ms/step - loss: 0.5717 - val_loss: 0.4810 - lr: 9.5499e-04\n",
      "Epoch 42/200\n",
      "118/118 [==============================] - 33s 279ms/step - loss: 0.5708 - val_loss: 0.4786 - lr: 9.5389e-04\n",
      "Epoch 43/200\n",
      "118/118 [==============================] - 33s 279ms/step - loss: 0.5702 - val_loss: 0.5003 - lr: 9.5280e-04\n",
      "Epoch 44/200\n",
      "118/118 [==============================] - 33s 279ms/step - loss: 0.5627 - val_loss: 0.4830 - lr: 9.5170e-04\n",
      "Epoch 45/200\n",
      "118/118 [==============================] - 33s 279ms/step - loss: 0.5555 - val_loss: 0.4828 - lr: 9.5060e-04\n",
      "Epoch 46/200\n",
      "118/118 [==============================] - 33s 279ms/step - loss: 0.5537 - val_loss: 0.4847 - lr: 9.4951e-04\n",
      "Epoch 47/200\n",
      "118/118 [==============================] - 35s 301ms/step - loss: 0.5488 - val_loss: 0.4808 - lr: 9.4842e-04\n",
      "Epoch 48/200\n",
      "118/118 [==============================] - 33s 279ms/step - loss: 0.5479 - val_loss: 0.4852 - lr: 9.4733e-04\n",
      "Epoch 49/200\n",
      "118/118 [==============================] - 36s 302ms/step - loss: 0.5487 - val_loss: 0.5291 - lr: 9.4624e-04\n",
      "Epoch 50/200\n",
      "118/118 [==============================] - 33s 278ms/step - loss: 0.5425 - val_loss: 0.4995 - lr: 9.4515e-04\n",
      "Epoch 51/200\n",
      "118/118 [==============================] - 33s 280ms/step - loss: 0.5400 - val_loss: 0.4971 - lr: 9.4406e-04\n",
      "Epoch 52/200\n",
      "118/118 [==============================] - 33s 278ms/step - loss: 0.5381 - val_loss: 0.5131 - lr: 9.4297e-04\n"
     ]
    }
   ],
   "source": [
    "# Learning rate scheduler and early stopping\n",
    "scheduler = ExponentialDecay(\n",
    "    initial_learning_rate=1e-3, decay_steps=1e4, decay_rate=1e-5\n",
    ")\n",
    "cb_lr = tf.keras.callbacks.LearningRateScheduler(scheduler)\n",
    "cb_es = tf.keras.callbacks.EarlyStopping(\n",
    "    monitor=\"val_loss\", patience=10, restore_best_weights=True\n",
    ")\n",
    "\n",
    "# Train the model\n",
    "history = model.fit(\n",
    "    X_train, y_train,\n",
    "    validation_split=0.2,\n",
    "    epochs=200,\n",
    "    batch_size=512,\n",
    "    callbacks=[cb_es, cb_lr]\n",
    ")"
   ]
  },
  {
   "cell_type": "code",
   "execution_count": 13,
   "id": "9b14617a",
   "metadata": {
    "execution": {
     "iopub.execute_input": "2023-09-05T17:53:26.617988Z",
     "iopub.status.busy": "2023-09-05T17:53:26.617629Z",
     "iopub.status.idle": "2023-09-05T17:53:50.752385Z",
     "shell.execute_reply": "2023-09-05T17:53:50.751322Z"
    },
    "papermill": {
     "duration": 24.634858,
     "end_time": "2023-09-05T17:53:50.754703",
     "exception": false,
     "start_time": "2023-09-05T17:53:26.119845",
     "status": "completed"
    },
    "tags": []
   },
   "outputs": [
    {
     "data": {
      "image/png": "[encoded data removed]",
      "text/plain": [
       "<Figure size 1600x700 with 1 Axes>"
      ]
     },
     "metadata": {},
     "output_type": "display_data"
    }
   ],
   "source": [
    "plt.figure(figsize=(16,7))\n",
    "loss=history.history['loss']\n",
    "val_loss=history.history['val_loss']\n",
    "\n",
    "epochs=range(1,len(loss)+1)\n",
    "\n",
    "plt.plot(epochs, loss, 'r')\n",
    "plt.plot(epochs, val_loss, 'b')\n",
    "plt.legend([\"Training\", \"Validation\" ])\n",
    "plt.xlabel(\"Epochs\")\n",
    "plt.ylabel(\"Loss\")\n",
    "plt.title('Training and validation loss')\n",
    "\n",
    "plt.show()"
   ]
  },
  {
   "cell_type": "code",
   "execution_count": 14,
   "id": "e0b70d43",
   "metadata": {
    "execution": {
     "iopub.execute_input": "2023-09-05T17:53:51.802814Z",
     "iopub.status.busy": "2023-09-05T17:53:51.802437Z",
     "iopub.status.idle": "2023-09-05T17:53:53.670517Z",
     "shell.execute_reply": "2023-09-05T17:53:53.669464Z"
    },
    "papermill": {
     "duration": 2.349441,
     "end_time": "2023-09-05T17:53:53.672614",
     "exception": false,
     "start_time": "2023-09-05T17:53:51.323173",
     "status": "completed"
    },
    "tags": []
   },
   "outputs": [
    {
     "name": "stdout",
     "output_type": "stream",
     "text": [
      "1/1 [==============================] - 1s 1s/step\n"
     ]
    },
    {
     "data": {
      "image/png": "[encoded data removed]",
      "text/plain": [
       "<Figure size 1000x500 with 1 Axes>"
      ]
     },
     "metadata": {},
     "output_type": "display_data"
    }
   ],
   "source": [
    "idx = 1\n",
    "df_plot = train[train['breath_id'] == idx]\n",
    "p = model.predict(df_plot[feature_cols].values.reshape(-1, n_steps, n_features))\n",
    "x = range(len(df_plot))  # Use the length of df_plot for x values\n",
    "y = df_plot['pressure']\n",
    "plt.figure(figsize=(10, 5))\n",
    "sns.lineplot(x=x, y=y, label=\"Ground Truth\")\n",
    "sns.lineplot(x=x, y=p.reshape(-1), label=\"Predicted\")\n",
    "plt.legend()\n",
    "plt.ylabel(\"Pressure\")\n",
    "plt.xlabel(\"Time Steps\")\n",
    "plt.show()"
   ]
  }
 ],
 "kernelspec": {
  "display_name": "Python 3",
  "language": "python",
  "name": "python3"
 },
 "language_info": {
  "codemirror_mode": {
   "name": "ipython",
   "version": 3
  },
  "file_extension": ".py",
  "mimetype": "text/x-python",
  "name": "python",
  "nbconvert_exporter": "python",
  "pygments_lexer": "ipython3",
  "version": "3.6.4"
 },
 "metadata": {
  "kernelspec": {
   "display_name": "Python 3",
   "language": "python",
   "name": "python3"
  },
  "language_info": {
   "codemirror_mode": {
    "name": "ipython",
    "version": 3
   },
   "file_extension": ".py",
   "mimetype": "text/x-python",
   "name": "python",
   "nbconvert_exporter": "python",
   "pygments_lexer": "ipython3",
   "version": "3.10.12"
  },
  "papermill": {
   "default_parameters": {},
   "duration": 1812.648296,
   "end_time": "2023-09-05T17:53:57.453315",
   "environment_variables": {},
   "exception": null,
   "input_path": "__notebook__.ipynb",
   "output_path": "__notebook__.ipynb",
   "parameters": {},
   "start_time": "2023-09-05T17:23:44.805019",
   "version": "2.4.0"
  }
 },
 "nbformat": 4,
 "nbformat_minor": 5
}
