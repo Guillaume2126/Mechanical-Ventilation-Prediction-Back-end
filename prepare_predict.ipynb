{
 "cells": [
  {
   "cell_type": "code",
   "execution_count": 45,
   "metadata": {},
   "outputs": [
    {
     "data": {
      "text/html": [
       "<div>\n",
       "<style scoped>\n",
       "    .dataframe tbody tr th:only-of-type {\n",
       "        vertical-align: middle;\n",
       "    }\n",
       "\n",
       "    .dataframe tbody tr th {\n",
       "        vertical-align: top;\n",
       "    }\n",
       "\n",
       "    .dataframe thead th {\n",
       "        text-align: right;\n",
       "    }\n",
       "</style>\n",
       "<table border=\"1\" class=\"dataframe\">\n",
       "  <thead>\n",
       "    <tr style=\"text-align: right;\">\n",
       "      <th></th>\n",
       "      <th>R</th>\n",
       "      <th>C</th>\n",
       "      <th>u_in</th>\n",
       "      <th>u_out</th>\n",
       "      <th>pressure</th>\n",
       "    </tr>\n",
       "  </thead>\n",
       "  <tbody>\n",
       "    <tr>\n",
       "      <th>0</th>\n",
       "      <td>0.0</td>\n",
       "      <td>0.75</td>\n",
       "      <td>-0.955539</td>\n",
       "      <td>-1.0</td>\n",
       "      <td>6.329607</td>\n",
       "    </tr>\n",
       "    <tr>\n",
       "      <th>1</th>\n",
       "      <td>0.0</td>\n",
       "      <td>0.75</td>\n",
       "      <td>-0.854404</td>\n",
       "      <td>-1.0</td>\n",
       "      <td>6.329607</td>\n",
       "    </tr>\n",
       "    <tr>\n",
       "      <th>2</th>\n",
       "      <td>0.0</td>\n",
       "      <td>0.75</td>\n",
       "      <td>-0.810828</td>\n",
       "      <td>-1.0</td>\n",
       "      <td>6.470211</td>\n",
       "    </tr>\n",
       "    <tr>\n",
       "      <th>3</th>\n",
       "      <td>0.0</td>\n",
       "      <td>0.75</td>\n",
       "      <td>-0.739457</td>\n",
       "      <td>-1.0</td>\n",
       "      <td>6.189002</td>\n",
       "    </tr>\n",
       "    <tr>\n",
       "      <th>4</th>\n",
       "      <td>0.0</td>\n",
       "      <td>0.75</td>\n",
       "      <td>-0.695066</td>\n",
       "      <td>-1.0</td>\n",
       "      <td>6.259305</td>\n",
       "    </tr>\n",
       "  </tbody>\n",
       "</table>\n",
       "</div>"
      ],
      "text/plain": [
       "     R     C      u_in  u_out  pressure\n",
       "0  0.0  0.75 -0.955539   -1.0  6.329607\n",
       "1  0.0  0.75 -0.854404   -1.0  6.329607\n",
       "2  0.0  0.75 -0.810828   -1.0  6.470211\n",
       "3  0.0  0.75 -0.739457   -1.0  6.189002\n",
       "4  0.0  0.75 -0.695066   -1.0  6.259305"
      ]
     },
     "execution_count": 45,
     "metadata": {},
     "output_type": "execute_result"
    }
   ],
   "source": [
    "#Calling Libraries\n",
    "import pandas as pd\n",
    "#read csv from local\n",
    "csv_path = \"demo_samples/demo_test.csv\"\n",
    "df = pd.read_csv(csv_path)\n",
    "df.head()"
   ]
  },
  {
   "cell_type": "code",
   "execution_count": 24,
   "metadata": {},
   "outputs": [
    {
     "data": {
      "text/plain": [
       "(200, 80, 5)"
      ]
     },
     "execution_count": 24,
     "metadata": {},
     "output_type": "execute_result"
    }
   ],
   "source": [
    "# change the shape of dataframe to prepare for the model\n",
    "n_steps = 80\n",
    "n_columns = len(df.columns) \n",
    "n_samples = len(df) // n_steps  # Calculate the number of breath\n",
    "\n",
    "divided_df = df.values[:n_samples * n_steps].reshape(-1, n_steps, n_columns)\n",
    "divided_df.shape"
   ]
  },
  {
   "cell_type": "code",
   "execution_count": 25,
   "metadata": {},
   "outputs": [
    {
     "name": "stdout",
     "output_type": "stream",
     "text": [
      "Model: \"sequential\"\n",
      "_________________________________________________________________\n",
      " Layer (type)                Output Shape              Param #   \n",
      "=================================================================\n",
      " bidirectional (Bidirectiona  (None, 80, 300)          186000    \n",
      " l)                                                              \n",
      "                                                                 \n",
      " bidirectional_1 (Bidirectio  (None, 80, 300)          541200    \n",
      " nal)                                                            \n",
      "                                                                 \n",
      " bidirectional_2 (Bidirectio  (None, 80, 300)          541200    \n",
      " nal)                                                            \n",
      "                                                                 \n",
      " bidirectional_3 (Bidirectio  (None, 80, 300)          541200    \n",
      " nal)                                                            \n",
      "                                                                 \n",
      " dropout (Dropout)           (None, 80, 300)           0         \n",
      "                                                                 \n",
      " flatten (Flatten)           (None, 24000)             0         \n",
      "                                                                 \n",
      " dense (Dense)               (None, 128)               3072128   \n",
      "                                                                 \n",
      " dense_1 (Dense)             (None, 256)               33024     \n",
      "                                                                 \n",
      " dense_2 (Dense)             (None, 512)               131584    \n",
      "                                                                 \n",
      " dense_3 (Dense)             (None, 80)                41040     \n",
      "                                                                 \n",
      "=================================================================\n",
      "Total params: 5,087,376\n",
      "Trainable params: 5,087,376\n",
      "Non-trainable params: 0\n",
      "_________________________________________________________________\n"
     ]
    }
   ],
   "source": [
    "import tensorflow as tf\n",
    "from tensorflow import keras\n",
    "\n",
    "#loading the model from h5 version\n",
    "loaded_model = tf.keras.models.load_model(\"model/model_0709.h5\")\n",
    "loaded_model.summary()"
   ]
  },
  {
   "cell_type": "code",
   "execution_count": 35,
   "metadata": {},
   "outputs": [
    {
     "name": "stdout",
     "output_type": "stream",
     "text": [
      "1/1 [==============================] - 0s 60ms/step\n"
     ]
    }
   ],
   "source": [
    "# you can use loaded model to compute predictions\n",
    "def demo_predict(idx):\n",
    "    if idx < 201:\n",
    "        features = divided_df[idx-1,:,0:4].reshape(-1,n_steps,4)\n",
    "        return dict(actual_pressure = divided_df[idx-1,:,4:5].reshape(80),\n",
    "                    predicted_pressure = loaded_model.predict(features).reshape(80))\n",
    "\n",
    "    return \"index is out of range or invalid formaat.\\n Please enter an integer between 1 to 200!\"\n",
    "\n",
    "prediction = demo_predict(100)"
   ]
  },
  {
   "cell_type": "code",
   "execution_count": 28,
   "metadata": {},
   "outputs": [
    {
     "data": {
      "text/plain": [
       "'2.12.0'"
      ]
     },
     "execution_count": 28,
     "metadata": {},
     "output_type": "execute_result"
    }
   ],
   "source": [
    "tf.__version__"
   ]
  },
  {
   "cell_type": "code",
   "execution_count": 29,
   "metadata": {},
   "outputs": [
    {
     "data": {
      "text/plain": [
       "'2.1.0'"
      ]
     },
     "execution_count": 29,
     "metadata": {},
     "output_type": "execute_result"
    }
   ],
   "source": [
    "pd.__version__"
   ]
  }
 ],
 "metadata": {
  "kernelspec": {
   "display_name": "Mechanical-Ventilation-Prediction",
   "language": "python",
   "name": "python3"
  },
  "language_info": {
   "codemirror_mode": {
    "name": "ipython",
    "version": 3
   },
   "file_extension": ".py",
   "mimetype": "text/x-python",
   "name": "python",
   "nbconvert_exporter": "python",
   "pygments_lexer": "ipython3",
   "version": "3.10.6"
  },
  "orig_nbformat": 4
 },
 "nbformat": 4,
 "nbformat_minor": 2
}
