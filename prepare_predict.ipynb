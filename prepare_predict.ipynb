{
 "cells": [
  {
   "cell_type": "code",
   "execution_count": 1,
   "metadata": {},
   "outputs": [
    {
     "data": {
      "text/html": [
       "<div>\n",
       "<style scoped>\n",
       "    .dataframe tbody tr th:only-of-type {\n",
       "        vertical-align: middle;\n",
       "    }\n",
       "\n",
       "    .dataframe tbody tr th {\n",
       "        vertical-align: top;\n",
       "    }\n",
       "\n",
       "    .dataframe thead th {\n",
       "        text-align: right;\n",
       "    }\n",
       "</style>\n",
       "<table border=\"1\" class=\"dataframe\">\n",
       "  <thead>\n",
       "    <tr style=\"text-align: right;\">\n",
       "      <th></th>\n",
       "      <th>R</th>\n",
       "      <th>C</th>\n",
       "      <th>u_in</th>\n",
       "      <th>u_out</th>\n",
       "      <th>pressure</th>\n",
       "    </tr>\n",
       "  </thead>\n",
       "  <tbody>\n",
       "    <tr>\n",
       "      <th>0</th>\n",
       "      <td>0.0</td>\n",
       "      <td>0.75</td>\n",
       "      <td>-0.955539</td>\n",
       "      <td>-1.0</td>\n",
       "      <td>6.329607</td>\n",
       "    </tr>\n",
       "    <tr>\n",
       "      <th>1</th>\n",
       "      <td>0.0</td>\n",
       "      <td>0.75</td>\n",
       "      <td>-0.854404</td>\n",
       "      <td>-1.0</td>\n",
       "      <td>6.329607</td>\n",
       "    </tr>\n",
       "    <tr>\n",
       "      <th>2</th>\n",
       "      <td>0.0</td>\n",
       "      <td>0.75</td>\n",
       "      <td>-0.810828</td>\n",
       "      <td>-1.0</td>\n",
       "      <td>6.470211</td>\n",
       "    </tr>\n",
       "    <tr>\n",
       "      <th>3</th>\n",
       "      <td>0.0</td>\n",
       "      <td>0.75</td>\n",
       "      <td>-0.739457</td>\n",
       "      <td>-1.0</td>\n",
       "      <td>6.189002</td>\n",
       "    </tr>\n",
       "    <tr>\n",
       "      <th>4</th>\n",
       "      <td>0.0</td>\n",
       "      <td>0.75</td>\n",
       "      <td>-0.695066</td>\n",
       "      <td>-1.0</td>\n",
       "      <td>6.259305</td>\n",
       "    </tr>\n",
       "  </tbody>\n",
       "</table>\n",
       "</div>"
      ],
      "text/plain": [
       "     R     C      u_in  u_out  pressure\n",
       "0  0.0  0.75 -0.955539   -1.0  6.329607\n",
       "1  0.0  0.75 -0.854404   -1.0  6.329607\n",
       "2  0.0  0.75 -0.810828   -1.0  6.470211\n",
       "3  0.0  0.75 -0.739457   -1.0  6.189002\n",
       "4  0.0  0.75 -0.695066   -1.0  6.259305"
      ]
     },
     "execution_count": 1,
     "metadata": {},
     "output_type": "execute_result"
    }
   ],
   "source": [
    "#Calling Libraries\n",
    "import pandas as pd\n",
    "#read csv from local\n",
    "csv_path = \"demo_samples/demo_test.csv\"\n",
    "df = pd.read_csv(csv_path)\n",
    "df.head()"
   ]
  },
  {
   "cell_type": "code",
   "execution_count": 2,
   "metadata": {},
   "outputs": [
    {
     "data": {
      "text/plain": [
       "(200, 80, 5)"
      ]
     },
     "execution_count": 2,
     "metadata": {},
     "output_type": "execute_result"
    }
   ],
   "source": [
    "# change the shape of dataframe to prepare for the model\n",
    "n_steps = 80\n",
    "n_samples = len(df) // n_steps  # Calculate the number of breath\n",
    "# divided_df = df.drop(columns=[\"breath_id\",\"time_step\",\"id\"])\n",
    "n_columns = len(df.columns) \n",
    "divided_df = df.values[:n_samples * n_steps].reshape(-1, n_steps, n_columns)\n",
    "divided_df.shape"
   ]
  },
  {
   "cell_type": "code",
   "execution_count": 3,
   "metadata": {},
   "outputs": [
    {
     "name": "stdout",
     "output_type": "stream",
     "text": [
      "Model: \"sequential\"\n",
      "_________________________________________________________________\n",
      " Layer (type)                Output Shape              Param #   \n",
      "=================================================================\n",
      " bidirectional (Bidirectiona  (None, 80, 300)          186000    \n",
      " l)                                                              \n",
      "                                                                 \n",
      " bidirectional_1 (Bidirectio  (None, 80, 300)          541200    \n",
      " nal)                                                            \n",
      "                                                                 \n",
      " bidirectional_2 (Bidirectio  (None, 80, 300)          541200    \n",
      " nal)                                                            \n",
      "                                                                 \n",
      " bidirectional_3 (Bidirectio  (None, 80, 300)          541200    \n",
      " nal)                                                            \n",
      "                                                                 \n",
      " dropout (Dropout)           (None, 80, 300)           0         \n",
      "                                                                 \n",
      " flatten (Flatten)           (None, 24000)             0         \n",
      "                                                                 \n",
      " dense (Dense)               (None, 128)               3072128   \n",
      "                                                                 \n",
      " dense_1 (Dense)             (None, 256)               33024     \n",
      "                                                                 \n",
      " dense_2 (Dense)             (None, 512)               131584    \n",
      "                                                                 \n",
      " dense_3 (Dense)             (None, 80)                41040     \n",
      "                                                                 \n",
      "=================================================================\n",
      "Total params: 5,087,376\n",
      "Trainable params: 5,087,376\n",
      "Non-trainable params: 0\n",
      "_________________________________________________________________\n"
     ]
    }
   ],
   "source": [
    "import tensorflow as tf\n",
    "from tensorflow import keras\n",
    "\n",
    "#loading the model from h5 version\n",
    "loaded_model = tf.keras.models.load_model(\"model/model_tanh.h5\")\n",
    "loaded_model.summary()"
   ]
  },
  {
   "cell_type": "code",
   "execution_count": 26,
   "metadata": {},
   "outputs": [
    {
     "data": {
      "text/plain": [
       "(1, 80, 4)"
      ]
     },
     "execution_count": 26,
     "metadata": {},
     "output_type": "execute_result"
    }
   ],
   "source": [
    "# you can use loaded model to compute predictions\n",
    "def demo_predict(idx):\n",
    "    if idx < 201:\n",
    "        features = divided_df[idx-1,:,0:4].reshape(-1,n_steps,4)\n",
    "        \n",
    "        return features #delete later\n",
    "        # return dict(actual_pressure = divided_df[idx-1,:,4:5].reshape(80),\n",
    "        #             predicted_pressure = loaded_model.predict(features).reshape(80)\n",
    "        #             )\n",
    "\n",
    "    return \"index is out of range or invalid formaat.\\n Please enter an integer between 1 to 200!\"\n",
    "\n",
    "prediction = demo_predict(100)\n",
    "prediction.shape"
   ]
  },
  {
   "cell_type": "code",
   "execution_count": 14,
   "metadata": {},
   "outputs": [],
   "source": [
    "ftr= prediction"
   ]
  },
  {
   "cell_type": "code",
   "execution_count": 20,
   "metadata": {},
   "outputs": [
    {
     "data": {
      "text/plain": [
       "(80,)"
      ]
     },
     "execution_count": 20,
     "metadata": {},
     "output_type": "execute_result"
    }
   ],
   "source": [
    "r = ftr[-1,:,0]\n",
    "c= ftr[-1,:,1]\n",
    "u_in = ftr[-1,:,2]\n",
    "u_out = ftr[-1,:,3]\n",
    "r.shape"
   ]
  },
  {
   "cell_type": "code",
   "execution_count": 27,
   "metadata": {},
   "outputs": [],
   "source": [
    "import numpy as np\n",
    "\n",
    "def demo_predict_csv(R,C,u_in,u_out):\n",
    "    \n",
    "    features = np.column_stack([R,C,u_in,u_out]).reshape(-1,80,4)\n",
    "\n",
    "    return dict(predicted_pressure = loaded_model.predict(features).reshape(80))\n"
   ]
  },
  {
   "cell_type": "code",
   "execution_count": 32,
   "metadata": {},
   "outputs": [
    {
     "name": "stdout",
     "output_type": "stream",
     "text": [
      "1/1 [==============================] - 0s 48ms/step\n"
     ]
    },
    {
     "data": {
      "text/plain": [
       "{'predicted_pressure': array([ 5.185061 ,  8.143338 , 18.655464 , 32.558674 , 30.824594 ,\n",
       "        24.760956 , 29.102594 , 33.192875 , 30.006903 , 31.445595 ,\n",
       "        34.077827 , 32.30264  , 33.612385 , 35.24188  , 33.493034 ,\n",
       "        34.736984 , 34.842644 , 34.719177 , 35.14411  , 35.126873 ,\n",
       "        34.83092  , 35.01745  , 35.17897  , 34.97891  , 35.02013  ,\n",
       "        35.015007 , 35.08758  , 34.894527 , 34.877983 , 34.897984 ,\n",
       "        34.96795  , 34.67536  , 14.725665 , 10.378854 ,  9.515774 ,\n",
       "        10.216377 ,  8.913189 ,  7.632344 ,  7.3559823,  7.1092668,\n",
       "         6.0095654,  6.281296 ,  5.8478804,  5.7616196,  5.4910603,\n",
       "         5.2273445,  5.3367443,  5.189782 ,  5.5460963,  5.5753255,\n",
       "         6.0415545,  6.41431  ,  6.6537876,  6.7036304,  6.162325 ,\n",
       "         6.6829886,  6.6509223,  6.5505915,  6.3089433,  6.4585304,\n",
       "         6.178691 ,  5.8866553,  5.8911743,  5.9062185,  5.75527  ,\n",
       "         5.6188397,  5.607195 ,  5.351936 ,  5.392619 ,  5.3087525,\n",
       "         5.260332 ,  5.280434 ,  5.3965125,  5.312414 ,  5.3107367,\n",
       "         5.3166437,  5.4241953,  5.3273993,  5.295194 ,  5.3393927],\n",
       "       dtype=float32)}"
      ]
     },
     "execution_count": 32,
     "metadata": {},
     "output_type": "execute_result"
    }
   ],
   "source": [
    "demo_predict_csv(r,c,u_in,u_out)"
   ]
  },
  {
   "cell_type": "code",
   "execution_count": 39,
   "metadata": {},
   "outputs": [
    {
     "data": {
      "text/plain": [
       "array([ 7.73502751e+00,  2.08298505e+01,  1.71256733e+01,  1.88600428e+00,\n",
       "        3.74667348e+00,  9.81707967e+00,  5.09979499e+00,  1.25091038e+00,\n",
       "        4.02400528e+00,  2.95361784e+00, -2.24005095e-01,  2.37688459e+00,\n",
       "        7.45647901e-01, -9.55539088e-01,  1.06782020e+00, -4.96047989e-01,\n",
       "       -2.93440624e-01, -9.55539088e-01, -6.63873324e-01, -7.66821848e-01,\n",
       "       -6.36311895e-01, -8.90026589e-01, -8.35039030e-01, -9.55539088e-01,\n",
       "       -8.76168385e-01, -8.93876613e-01, -8.32922624e-01, -9.55539088e-01,\n",
       "       -7.85416615e-01, -8.74712540e-01, -9.55539088e-01, -9.55539088e-01,\n",
       "       -9.55539088e-01, -9.55539088e-01, -9.55539088e-01, -9.55539088e-01,\n",
       "       -9.55539088e-01, -9.55539088e-01, -9.55539088e-01, -9.55539088e-01,\n",
       "       -9.55539088e-01, -9.55539088e-01, -9.55539088e-01, -9.55539088e-01,\n",
       "       -9.55539088e-01, -8.12981617e-01, -6.66426098e-01, -5.41566366e-01,\n",
       "       -4.36766686e-01, -3.48002312e-01, -2.72894242e-01, -2.09669564e-01,\n",
       "       -1.56113727e-01, -1.11233674e-01, -7.32856651e-02, -4.11918799e-02,\n",
       "       -1.41063838e-02,  8.79360148e-03,  2.82731650e-02,  4.46496444e-02,\n",
       "        5.84513447e-02,  7.01479657e-02,  7.99892257e-02,  8.84027316e-02,\n",
       "        9.54814104e-02,  1.01400800e-01,  1.06408408e-01,  1.10651438e-01,\n",
       "        1.14274657e-01,  1.17283223e-01,  1.19826472e-01,  1.21975096e-01,\n",
       "        1.23809736e-01,  1.25346980e-01,  1.26657641e-01,  1.27756974e-01,\n",
       "        1.28683042e-01,  1.29468375e-01,  1.30128585e-01,  1.30688614e-01])"
      ]
     },
     "execution_count": 39,
     "metadata": {},
     "output_type": "execute_result"
    }
   ],
   "source": [
    "u_in"
   ]
  }
 ],
 "metadata": {
  "kernelspec": {
   "display_name": "Mechanical-Ventilation-Prediction",
   "language": "python",
   "name": "python3"
  },
  "language_info": {
   "codemirror_mode": {
    "name": "ipython",
    "version": 3
   },
   "file_extension": ".py",
   "mimetype": "text/x-python",
   "name": "python",
   "nbconvert_exporter": "python",
   "pygments_lexer": "ipython3",
   "version": "3.10.6"
  },
  "orig_nbformat": 4
 },
 "nbformat": 4,
 "nbformat_minor": 2
}
